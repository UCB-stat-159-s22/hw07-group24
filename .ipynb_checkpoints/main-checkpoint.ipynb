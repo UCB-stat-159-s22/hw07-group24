{
 "cells": [
  {
   "cell_type": "markdown",
   "id": "8819d4b6-a920-457d-a33b-e0e9ec11acd7",
   "metadata": {},
   "source": [
    "# Main Narrative Notebook -- Predicting Income Off of General Census Data, a STAT 159 Final Project"
   ]
  },
  {
   "cell_type": "markdown",
   "id": "5b0ca905-1ce6-4ffe-a9e8-7f9e92134b9e",
   "metadata": {},
   "source": [
    "## EDA Analysis"
   ]
  },
  {
   "cell_type": "code",
   "execution_count": 1,
   "id": "f3b3353c-d0da-4127-92d6-ba6484165cc8",
   "metadata": {},
   "outputs": [
    {
     "data": {
      "text/plain": [
       "Ellipsis"
      ]
     },
     "execution_count": 1,
     "metadata": {},
     "output_type": "execute_result"
    }
   ],
   "source": [
    "..."
   ]
  },
  {
   "cell_type": "markdown",
   "id": "4aed0963-5034-4061-bb57-097764871ef0",
   "metadata": {},
   "source": [
    "## Feature Engineering Analysis"
   ]
  },
  {
   "cell_type": "markdown",
   "id": "aee9a8e8-9296-43c4-9c6c-68b9d22c9d0c",
   "metadata": {},
   "source": [
    "Now let us go over Feature Engineering best practices that we have found across our various versions."
   ]
  },
  {
   "cell_type": "markdown",
   "id": "4c087801-886d-4f65-af69-bf0a719d1309",
   "metadata": {},
   "source": [
    "### Version 1"
   ]
  },
  {
   "cell_type": "markdown",
   "id": "08248fad-9448-4aac-950b-2c973fa593d6",
   "metadata": {},
   "source": [
    "Version 1 has a lot of standard, to-be-expected feature engineering, along with some interesting approaches."
   ]
  },
  {
   "cell_type": "markdown",
   "id": "5602aff8-697f-4862-88d7-b3ea626b0191",
   "metadata": {},
   "source": [
    "##### Let us start with the standard stuff. \n",
    "\n",
    "There is a lot of one-hot encoding for the categorical variables included in the dataset. This lets us use numerical inputs for our model instead of the strings the categorical variables originally stored. \n",
    "\n",
    "Another fairly standard feature-engineering method used is log-transforms. These are especially useful for numerical variables where the later numbers need less weightage than the earlier numbers. This method was used on the following variables: age, years in education, capital-gain, capital-loss, and hours worked per week."
   ]
  },
  {
   "cell_type": "markdown",
   "id": "6f14fef2-7672-45af-8c7f-428794375a28",
   "metadata": {},
   "source": [
    "##### Now, let us talk about some less standard, interesting methods used.\n",
    "\n",
    "Version 1 utilized combined features, meaning it combined different features through various methods. The purpose of this is that a feature may be stronger in terms of model performance if two correlated features are combined and used as a single feature within a model. These very well may have contributed to the solid performance of the version 1 model.\n",
    "\n",
    "The combined features used were: years educated / hours worked and capital gains * age. Years educated / hours worked is interesting, as higher years educated are correlated with less hours worked, so this correlation creates larger or higher values of the ratio. Additionally for capital gains * age, there is a positive relationship between the two, so multiplying amplifies the affect.\n",
    "\n",
    "It should be noted that the ratios utilized used the log versions of the original continuous variables."
   ]
  },
  {
   "cell_type": "markdown",
   "id": "9b78c2ba-a8db-4dd3-b77c-dacee3e52f1e",
   "metadata": {},
   "source": [
    "##### There were some miscellaneous changes as well.\n",
    "\n",
    "The target variable was one-hot encoded to be <=50k as a binary variable. Additionally, all the variables that were one-hot encoded or used for log transforms were dropped, as they were not needed for the model."
   ]
  },
  {
   "cell_type": "markdown",
   "id": "abe3c5c9-cd96-49f3-a22f-4dbefa471d67",
   "metadata": {},
   "source": [
    "### Version 2"
   ]
  },
  {
   "cell_type": "code",
   "execution_count": null,
   "id": "04d6ff7a-528c-4ad2-a67f-fab206d25ff2",
   "metadata": {},
   "outputs": [],
   "source": []
  },
  {
   "cell_type": "code",
   "execution_count": null,
   "id": "c7d1ccff-5d14-467a-871c-aa151f80aa61",
   "metadata": {},
   "outputs": [],
   "source": []
  },
  {
   "cell_type": "code",
   "execution_count": null,
   "id": "41321096-95ad-4291-bbec-20e54e56d43e",
   "metadata": {},
   "outputs": [],
   "source": []
  },
  {
   "cell_type": "code",
   "execution_count": null,
   "id": "eb3828df-e27c-4ef4-b08a-237eccd45842",
   "metadata": {},
   "outputs": [],
   "source": []
  },
  {
   "cell_type": "code",
   "execution_count": null,
   "id": "88bf98a2-c8d7-4aaa-9696-a56d85eb9089",
   "metadata": {},
   "outputs": [],
   "source": []
  },
  {
   "cell_type": "markdown",
   "id": "f3db7048-49ec-4c29-8122-57341f279d41",
   "metadata": {},
   "source": [
    "### Version 3"
   ]
  },
  {
   "cell_type": "code",
   "execution_count": null,
   "id": "1704e627-f890-4e21-b1fc-833880cee0db",
   "metadata": {},
   "outputs": [],
   "source": []
  },
  {
   "cell_type": "code",
   "execution_count": null,
   "id": "65cea62e-ed90-4b86-914f-2f0b275619a9",
   "metadata": {},
   "outputs": [],
   "source": []
  },
  {
   "cell_type": "code",
   "execution_count": null,
   "id": "34c16987-4e19-4f9d-a71b-4b3ef5912d23",
   "metadata": {},
   "outputs": [],
   "source": []
  },
  {
   "cell_type": "code",
   "execution_count": null,
   "id": "212b1335-2c82-4219-8a5d-421bdaac935f",
   "metadata": {},
   "outputs": [],
   "source": []
  },
  {
   "cell_type": "code",
   "execution_count": null,
   "id": "83a0fb89-56c0-426f-9305-82cb13f3e20b",
   "metadata": {},
   "outputs": [],
   "source": []
  },
  {
   "cell_type": "code",
   "execution_count": null,
   "id": "2e4e015e-f66a-4da9-bd51-4b620ce71e5c",
   "metadata": {},
   "outputs": [],
   "source": []
  },
  {
   "cell_type": "code",
   "execution_count": null,
   "id": "a2b489a4-c654-4171-8411-1520f5b99c42",
   "metadata": {},
   "outputs": [],
   "source": []
  },
  {
   "cell_type": "markdown",
   "id": "eeeaccb9-3477-4ed4-8920-2de3f553d3f2",
   "metadata": {},
   "source": [
    "### Version 4"
   ]
  },
  {
   "cell_type": "code",
   "execution_count": null,
   "id": "6b07d767-68c5-49f4-ae2f-bb24a8dcceb9",
   "metadata": {},
   "outputs": [],
   "source": []
  },
  {
   "cell_type": "code",
   "execution_count": null,
   "id": "79fe3418-2f82-4821-9e18-a6d558acd331",
   "metadata": {},
   "outputs": [],
   "source": []
  },
  {
   "cell_type": "code",
   "execution_count": null,
   "id": "b42f568f-466e-4dda-b352-d29483c1e4ce",
   "metadata": {},
   "outputs": [],
   "source": []
  },
  {
   "cell_type": "code",
   "execution_count": null,
   "id": "db2656f7-3e05-4e4a-af41-33443ab07a85",
   "metadata": {},
   "outputs": [],
   "source": []
  },
  {
   "cell_type": "markdown",
   "id": "8360b3c4-5031-4aef-a707-bfdc44ca6e73",
   "metadata": {},
   "source": [
    "Do summary of each + explanation and then compare cool methods at end under Best Practices section."
   ]
  },
  {
   "cell_type": "markdown",
   "id": "da65a2ea-c1cd-4122-b93a-cd62b5d1fece",
   "metadata": {},
   "source": [
    "## Modeling/Testing Analysis"
   ]
  },
  {
   "cell_type": "code",
   "execution_count": 3,
   "id": "07c93014-236c-43ee-8239-75bd43dcee7b",
   "metadata": {},
   "outputs": [
    {
     "data": {
      "text/plain": [
       "Ellipsis"
      ]
     },
     "execution_count": 3,
     "metadata": {},
     "output_type": "execute_result"
    }
   ],
   "source": [
    "..."
   ]
  },
  {
   "cell_type": "markdown",
   "id": "58ddfa04-98c5-4021-83a2-9044938bc242",
   "metadata": {},
   "source": [
    "## Final Results"
   ]
  },
  {
   "cell_type": "code",
   "execution_count": 4,
   "id": "e903c4a3-2a4e-47fb-9650-8e6ba85f0ca8",
   "metadata": {},
   "outputs": [
    {
     "data": {
      "text/plain": [
       "Ellipsis"
      ]
     },
     "execution_count": 4,
     "metadata": {},
     "output_type": "execute_result"
    }
   ],
   "source": [
    "..."
   ]
  },
  {
   "cell_type": "markdown",
   "id": "aa140b43-0a50-4c19-befd-8f39e401ac20",
   "metadata": {},
   "source": [
    "## Author Contributions Statement"
   ]
  },
  {
   "cell_type": "markdown",
   "id": "5dfeb6bd-3b66-4bd8-8dec-479804033d20",
   "metadata": {},
   "source": [
    "Kavin:\n",
    "\n",
    "..."
   ]
  },
  {
   "cell_type": "markdown",
   "id": "c83b56fb-20c9-46e5-94a0-4f0efaf3a709",
   "metadata": {},
   "source": [
    "George McIntire:\n",
    "\n",
    "..."
   ]
  },
  {
   "cell_type": "markdown",
   "id": "6d8f0b5c-3847-4e28-9452-0b0526fd39a6",
   "metadata": {},
   "source": [
    "Wen-Ching (Naomi) Tu:\n",
    "\n",
    "..."
   ]
  },
  {
   "cell_type": "markdown",
   "id": "177e4153-cd76-4c24-8926-c9ec3e3f6ff7",
   "metadata": {},
   "source": [
    "Winston Cai:\n",
    "\n",
    "..."
   ]
  }
 ],
 "metadata": {
  "kernelspec": {
   "display_name": "Python 3",
   "language": "python",
   "name": "python3"
  },
  "language_info": {
   "codemirror_mode": {
    "name": "ipython",
    "version": 3
   },
   "file_extension": ".py",
   "mimetype": "text/x-python",
   "name": "python",
   "nbconvert_exporter": "python",
   "pygments_lexer": "ipython3",
   "version": "3.8.8"
  }
 },
 "nbformat": 4,
 "nbformat_minor": 5
}
