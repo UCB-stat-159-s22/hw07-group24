{
 "cells": [
  {
   "cell_type": "markdown",
   "id": "415f0435-f732-4621-8db1-29d3ef21a510",
   "metadata": {},
   "source": [
    "# EDA"
   ]
  },
  {
   "cell_type": "markdown",
   "id": "54e0c51e-ddaf-4cb8-a6fe-1395b6af17f1",
   "metadata": {},
   "source": [
    "### EDA Version 1 -- Kavin"
   ]
  },
  {
   "cell_type": "code",
   "execution_count": 1,
   "id": "cd4a7b31-5654-47cc-ab3e-771262959281",
   "metadata": {},
   "outputs": [
    {
     "data": {
      "text/plain": [
       "Ellipsis"
      ]
     },
     "execution_count": 1,
     "metadata": {},
     "output_type": "execute_result"
    }
   ],
   "source": [
    "..."
   ]
  },
  {
   "cell_type": "markdown",
   "id": "1a0c68bd-995a-423d-9a1e-fb924abb0152",
   "metadata": {},
   "source": [
    "### EDA Version 1 -- Naomi"
   ]
  },
  {
   "cell_type": "code",
   "execution_count": 2,
   "id": "aa76218c-c220-4a30-8a3d-102f76955471",
   "metadata": {},
   "outputs": [
    {
     "data": {
      "text/plain": [
       "Ellipsis"
      ]
     },
     "execution_count": 2,
     "metadata": {},
     "output_type": "execute_result"
    }
   ],
   "source": [
    "..."
   ]
  },
  {
   "cell_type": "markdown",
   "id": "503dc053-5601-454b-aeff-8890ec2476cd",
   "metadata": {},
   "source": [
    "### EDA Version 1 -- George"
   ]
  },
  {
   "cell_type": "code",
   "execution_count": null,
   "id": "90347fe9-0845-4249-ad60-4b79d8879e42",
   "metadata": {},
   "outputs": [],
   "source": [
    "..."
   ]
  },
  {
   "cell_type": "markdown",
   "id": "603c79e8-a2e4-4704-8514-981a06089132",
   "metadata": {},
   "source": [
    "### EDA Version 1 -- Winston"
   ]
  },
  {
   "cell_type": "code",
   "execution_count": 3,
   "id": "9c81dc17-cb90-44cf-817c-df0a0947d967",
   "metadata": {},
   "outputs": [
    {
     "data": {
      "text/plain": [
       "Ellipsis"
      ]
     },
     "execution_count": 3,
     "metadata": {},
     "output_type": "execute_result"
    }
   ],
   "source": [
    "..."
   ]
  }
 ],
 "metadata": {
  "kernelspec": {
   "display_name": "Python 3 (ipykernel)",
   "language": "python",
   "name": "python3"
  },
  "language_info": {
   "codemirror_mode": {
    "name": "ipython",
    "version": 3
   },
   "file_extension": ".py",
   "mimetype": "text/x-python",
   "name": "python",
   "nbconvert_exporter": "python",
   "pygments_lexer": "ipython3",
   "version": "3.9.9"
  }
 },
 "nbformat": 4,
 "nbformat_minor": 5
}
