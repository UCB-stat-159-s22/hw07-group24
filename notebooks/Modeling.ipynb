{
 "cells": [
  {
   "cell_type": "markdown",
   "id": "b8eb9357-03ca-45ef-9691-82368b98b595",
   "metadata": {},
   "source": [
    "# Modeling"
   ]
  },
  {
   "cell_type": "markdown",
   "id": "806732e3-a04d-41f5-9647-1cb95856922a",
   "metadata": {},
   "source": [
    "### Modeling Version 1 -- Kavin"
   ]
  },
  {
   "cell_type": "code",
   "execution_count": null,
   "id": "b1b17b61-d3c3-4b24-95e1-1d5ee5b8b9f0",
   "metadata": {},
   "outputs": [],
   "source": []
  },
  {
   "cell_type": "markdown",
   "id": "d389aece-5d44-43c9-9c1c-30d9b1285751",
   "metadata": {},
   "source": [
    "### Modeling Version 2 -- Naomi"
   ]
  },
  {
   "cell_type": "code",
   "execution_count": null,
   "id": "837766cc-9226-4c48-af38-a02cfdf5f348",
   "metadata": {},
   "outputs": [],
   "source": [
    "# training and testing models\n",
    "X_train, X_test, y_train, y_test = train_test_split(X, y, test_size = 0.2, random_state = 1)\n",
    "\n",
    "#SVC\n",
    "Classifier = SVC(random_state = 1)\n",
    "model = Classifier.fit(X_train, y_train)\n",
    "accu = model.score(X_test, y_test)\n",
    "print(\"Accuracy of SVC: \", accu)"
   ]
  },
  {
   "cell_type": "code",
   "execution_count": null,
   "id": "eef2328b-1aec-42c2-8dd2-831ea449d3b9",
   "metadata": {},
   "outputs": [],
   "source": [
    "# Logistic Regression\n",
    "Classifier = LogisticRegression()\n",
    "model = Classifier.fit(X_train, y_train)\n",
    "accu = model.score(X_test, y_test)\n",
    "print(\"Accuracy of Logistic Regression: \", accu)"
   ]
  },
  {
   "cell_type": "code",
   "execution_count": null,
   "id": "b20872fe-5a8d-405b-8648-c115fb686c22",
   "metadata": {},
   "outputs": [],
   "source": []
  },
  {
   "cell_type": "markdown",
   "id": "3c14246e-9f74-453f-b696-fb159ae22b93",
   "metadata": {},
   "source": [
    "### Modeling Version 3 -- George"
   ]
  },
  {
   "cell_type": "code",
   "execution_count": null,
   "id": "870a3ecc-0bcb-48e6-98f5-92bbab7fecea",
   "metadata": {},
   "outputs": [],
   "source": []
  },
  {
   "cell_type": "markdown",
   "id": "16d032de-69c2-4e4b-9f98-7734b40e5a97",
   "metadata": {},
   "source": [
    "### Modeling Version 4 -- Winston"
   ]
  },
  {
   "cell_type": "code",
   "execution_count": null,
   "id": "d63ce651-b288-4fe9-a788-e488d6389aa1",
   "metadata": {},
   "outputs": [],
   "source": []
  }
 ],
 "metadata": {
  "kernelspec": {
   "display_name": "Python 3 (ipykernel)",
   "language": "python",
   "name": "python3"
  },
  "language_info": {
   "codemirror_mode": {
    "name": "ipython",
    "version": 3
   },
   "file_extension": ".py",
   "mimetype": "text/x-python",
   "name": "python",
   "nbconvert_exporter": "python",
   "pygments_lexer": "ipython3",
   "version": "3.9.9"
  }
 },
 "nbformat": 4,
 "nbformat_minor": 5
}
