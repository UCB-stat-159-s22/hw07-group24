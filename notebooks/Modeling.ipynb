{
 "cells": [
  {
   "cell_type": "markdown",
   "id": "b8eb9357-03ca-45ef-9691-82368b98b595",
   "metadata": {},
   "source": [
    "# Modeling"
   ]
  },
  {
   "cell_type": "markdown",
   "id": "806732e3-a04d-41f5-9647-1cb95856922a",
   "metadata": {},
   "source": [
    "### Modeling Version 1 -- Kavin"
   ]
  },
  {
   "cell_type": "code",
   "execution_count": null,
   "id": "b1b17b61-d3c3-4b24-95e1-1d5ee5b8b9f0",
   "metadata": {},
   "outputs": [],
   "source": []
  },
  {
   "cell_type": "markdown",
   "id": "d389aece-5d44-43c9-9c1c-30d9b1285751",
   "metadata": {},
   "source": [
    "### Modeling Version 2 -- Naomi"
   ]
  },
  {
   "cell_type": "code",
   "execution_count": 1,
   "id": "cf01cef8-0083-42f2-abbd-c17f2a479656",
   "metadata": {},
   "outputs": [],
   "source": [
    "import pandas as pd\n",
    "import numpy as np\n",
    "\n",
    "from sklearn.preprocessing import LabelEncoder\n",
    "from sklearn.preprocessing import StandardScaler\n",
    "from sklearn.utils import resample"
   ]
  },
  {
   "cell_type": "code",
   "execution_count": 2,
   "id": "e806b84d-9516-418a-ad03-b776c14c3166",
   "metadata": {},
   "outputs": [
    {
     "name": "stdout",
     "output_type": "stream",
     "text": [
      "0 15.2\n",
      "1 3.95\n",
      "2 14.0\n",
      "3 3.71\n",
      "4 8.47\n",
      "5 8.59\n",
      "6 7.34\n",
      "7 13.97\n",
      "8 1.56\n",
      "9 4.06\n",
      "10 6.62\n",
      "11 2.23\n",
      "12 8.79\n",
      "13 1.5\n"
     ]
    }
   ],
   "source": [
    "data = pd.read_csv(\"../data/adult.data\",\n",
    "                   names = ['age', 'workclass', 'fnlwgt', 'education','education-num',\n",
    "                            'marital-status','occupation','relationship','race','sex',\n",
    "                           'capital-gain','capital-loss','hours-per-week',\n",
    "                            'native-country','income'])\n",
    "# replace ? to NaN\n",
    "data = data.replace('\\?', np.nan, regex=True)\n",
    "# remove the rows that have NaN values\n",
    "data = data.dropna()\n",
    "\n",
    "# Label Encoding\n",
    "for col in data.columns:\n",
    "    if data[col].dtypes == 'object':\n",
    "        encoder = LabelEncoder()\n",
    "        data[col] = encoder.fit_transform(data[col])\n",
    "\n",
    "\n",
    "# Resampling\n",
    "df_majority = data[(data['income'] == 0)]\n",
    "df_minority = data[(data['income'] == 1)]\n",
    "\n",
    "upsample = resample(df_minority, replace = True, n_samples = 22654, random_state = 1 )\n",
    "df_upsample = pd.concat([upsample, df_majority])\n",
    "\n",
    "\n",
    "# Selection\n",
    "X = df_upsample.drop(['income'], axis = 1)\n",
    "y = df_upsample['income']\n",
    "\n",
    "from sklearn.ensemble import ExtraTreesClassifier\n",
    "selector = ExtraTreesClassifier(random_state=1)\n",
    "selector.fit(X, y)\n",
    "feature_imp = selector.feature_importances_\n",
    "for index, val in enumerate(feature_imp):\n",
    "    print(index, round((val * 100), 2))\n",
    "    \n",
    "# removing data that out the normal\n",
    "X = X.drop(['workclass', 'education', 'race', 'sex', 'capital-loss',\n",
    "            'native-country'], axis = 1)\n",
    "\n",
    "# Scaling\n",
    "scaler = StandardScaler()\n",
    "dataset = scaler.fit_transform(X)\n",
    "X = pd.DataFrame(dataset, columns = X.columns)"
   ]
  },
  {
   "cell_type": "code",
   "execution_count": 3,
   "id": "9bbd03ad-9d0d-4188-a362-ec45dd5e9875",
   "metadata": {},
   "outputs": [],
   "source": [
    "from sklearn.model_selection import train_test_split\n",
    "from sklearn.svm import SVC\n",
    "from utils import model_eval"
   ]
  },
  {
   "cell_type": "code",
   "execution_count": 4,
   "id": "837766cc-9226-4c48-af38-a02cfdf5f348",
   "metadata": {},
   "outputs": [],
   "source": [
    "# training and testing models\n",
    "X_train, X_test, y_train, y_test = train_test_split(X, y, test_size = 0.2, random_state = 1)\n",
    "\n",
    "#SVC\n",
    "Classifier = SVC(random_state = 1)\n",
    "model = Classifier.fit(X_train, y_train)\n",
    "Y_pred_test = Classifier.predict(X_test)\n",
    "Y_pred_traint = Classifier.predict(X_train)"
   ]
  },
  {
   "cell_type": "markdown",
   "id": "710b146e-528a-4a70-84e2-e7edad073efe",
   "metadata": {},
   "source": [
    "#### Model Testing"
   ]
  },
  {
   "cell_type": "code",
   "execution_count": 5,
   "id": "b20872fe-5a8d-405b-8648-c115fb686c22",
   "metadata": {},
   "outputs": [
    {
     "data": {
      "text/html": [
       "<div>\n",
       "<style scoped>\n",
       "    .dataframe tbody tr th:only-of-type {\n",
       "        vertical-align: middle;\n",
       "    }\n",
       "\n",
       "    .dataframe tbody tr th {\n",
       "        vertical-align: top;\n",
       "    }\n",
       "\n",
       "    .dataframe thead th {\n",
       "        text-align: right;\n",
       "    }\n",
       "</style>\n",
       "<table border=\"1\" class=\"dataframe\">\n",
       "  <thead>\n",
       "    <tr style=\"text-align: right;\">\n",
       "      <th></th>\n",
       "      <th>Training</th>\n",
       "      <th>Testing</th>\n",
       "    </tr>\n",
       "  </thead>\n",
       "  <tbody>\n",
       "    <tr>\n",
       "      <th>Accuracy Score</th>\n",
       "      <td>0.820394</td>\n",
       "      <td>0.813397</td>\n",
       "    </tr>\n",
       "    <tr>\n",
       "      <th>Precision Score</th>\n",
       "      <td>0.784479</td>\n",
       "      <td>0.774981</td>\n",
       "    </tr>\n",
       "    <tr>\n",
       "      <th>Recall</th>\n",
       "      <td>0.883518</td>\n",
       "      <td>0.883249</td>\n",
       "    </tr>\n",
       "    <tr>\n",
       "      <th>F1 Score</th>\n",
       "      <td>0.831058</td>\n",
       "      <td>0.825580</td>\n",
       "    </tr>\n",
       "  </tbody>\n",
       "</table>\n",
       "</div>"
      ],
      "text/plain": [
       "                 Training   Testing\n",
       "Accuracy Score   0.820394  0.813397\n",
       "Precision Score  0.784479  0.774981\n",
       "Recall           0.883518  0.883249\n",
       "F1 Score         0.831058  0.825580"
      ]
     },
     "execution_count": 5,
     "metadata": {},
     "output_type": "execute_result"
    }
   ],
   "source": [
    "model_eval(y_train, y_test, Y_pred_traint, Y_pred_test)"
   ]
  },
  {
   "cell_type": "markdown",
   "id": "3c14246e-9f74-453f-b696-fb159ae22b93",
   "metadata": {},
   "source": [
    "### Modeling Version 3 -- George"
   ]
  },
  {
   "cell_type": "code",
   "execution_count": null,
   "id": "870a3ecc-0bcb-48e6-98f5-92bbab7fecea",
   "metadata": {},
   "outputs": [],
   "source": []
  },
  {
   "cell_type": "markdown",
   "id": "16d032de-69c2-4e4b-9f98-7734b40e5a97",
   "metadata": {},
   "source": [
    "### Modeling Version 4 -- Winston"
   ]
  },
  {
   "cell_type": "code",
   "execution_count": null,
   "id": "d63ce651-b288-4fe9-a788-e488d6389aa1",
   "metadata": {},
   "outputs": [],
   "source": []
  }
 ],
 "metadata": {
  "kernelspec": {
   "display_name": "Python 3 (ipykernel)",
   "language": "python",
   "name": "python3"
  },
  "language_info": {
   "codemirror_mode": {
    "name": "ipython",
    "version": 3
   },
   "file_extension": ".py",
   "mimetype": "text/x-python",
   "name": "python",
   "nbconvert_exporter": "python",
   "pygments_lexer": "ipython3",
   "version": "3.9.9"
  }
 },
 "nbformat": 4,
 "nbformat_minor": 5
}
