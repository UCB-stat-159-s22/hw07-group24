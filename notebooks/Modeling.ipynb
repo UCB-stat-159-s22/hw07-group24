{
 "cells": [
  {
   "cell_type": "markdown",
   "id": "396a5d73-0219-485e-a106-6363330dbf52",
   "metadata": {},
   "source": [
    "# Modeling"
   ]
  },
  {
   "cell_type": "markdown",
   "id": "360dc38c-4c5d-4f23-ab93-d841f509f109",
   "metadata": {},
   "source": [
    "#### Modeling Version 1 -- Kavin"
   ]
  },
  {
   "cell_type": "code",
   "execution_count": null,
   "id": "a5a40956-78e1-4c49-8339-98858dfa6cc8",
   "metadata": {},
   "outputs": [],
   "source": []
  },
  {
   "cell_type": "markdown",
   "id": "249131fe-2b31-42bb-8427-80c88b03aebe",
   "metadata": {},
   "source": [
    "#### Modeling Version 2 -- Naomi"
   ]
  },
  {
   "cell_type": "code",
   "execution_count": null,
   "id": "4023f016-49db-4f7e-8142-7c0407e12656",
   "metadata": {},
   "outputs": [],
   "source": []
  },
  {
   "cell_type": "markdown",
   "id": "e16c6eac-ac3a-4993-8c25-49657bd0b120",
   "metadata": {},
   "source": [
    "#### Modeling Version 3 -- George"
   ]
  },
  {
   "cell_type": "code",
   "execution_count": null,
   "id": "c1849020-2ad7-44ef-a127-835e21d03e35",
   "metadata": {},
   "outputs": [],
   "source": []
  },
  {
   "cell_type": "markdown",
   "id": "e5ec7d54-c1f3-4b94-92ce-1cb4befe7eaa",
   "metadata": {},
   "source": [
    "#### Modeling Version 4 -- Winston"
   ]
  },
  {
   "cell_type": "code",
   "execution_count": null,
   "id": "59de5c2a-959c-4eaf-a2f8-d4326690d0fe",
   "metadata": {},
   "outputs": [],
   "source": []
  }
 ],
 "metadata": {
  "kernelspec": {
   "display_name": "Python 3 (ipykernel)",
   "language": "python",
   "name": "python3"
  },
  "language_info": {
   "codemirror_mode": {
    "name": "ipython",
    "version": 3
   },
   "file_extension": ".py",
   "mimetype": "text/x-python",
   "name": "python",
   "nbconvert_exporter": "python",
   "pygments_lexer": "ipython3",
   "version": "3.9.9"
  }
 },
 "nbformat": 4,
 "nbformat_minor": 5
}
