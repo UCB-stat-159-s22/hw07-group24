{
 "cells": [
  {
   "cell_type": "markdown",
   "id": "b8eb9357-03ca-45ef-9691-82368b98b595",
   "metadata": {},
   "source": [
    "# Modeling"
   ]
  },
  {
   "cell_type": "markdown",
   "id": "910d5b19-7612-4c55-94c7-e7b5e098fe03",
   "metadata": {},
   "source": [
    "Notebook for modeling and testing these models."
   ]
  },
  {
   "cell_type": "code",
   "execution_count": 19,
   "id": "1e6b69c0-325b-4ffa-8feb-3c31f953a3fc",
   "metadata": {},
   "outputs": [],
   "source": [
    "#SET RANDOM SEED HERE"
   ]
  },
  {
   "cell_type": "code",
   "execution_count": 24,
   "id": "daa8d712-ea0e-4465-be43-4395fe3df402",
   "metadata": {},
   "outputs": [],
   "source": [
    "#imports\n",
    "\n",
    "import numpy as np\n",
    "import pandas as pd\n",
    "import matplotlib.pyplot as plt\n",
    "import seaborn as sns\n",
    "import os\n",
    "from sklearn.model_selection import train_test_split\n",
    "from pathlib import Path\n",
    "\n",
    "#move back to previous directory\n",
    "mycwd = os.getcwd()\n",
    "os.chdir(\"..\")\n",
    "#utils.py imports\n",
    "from projecttools.utils import featureEngineeringKavinV1\n",
    "from projecttools.utils import model_eval\n",
    "#change back to original directory\n",
    "os.chdir(mycwd)"
   ]
  },
  {
   "cell_type": "markdown",
   "id": "0863ad5d-b2b6-47c2-b3a6-91fb06fbf53f",
   "metadata": {},
   "source": [
    "#### Training-Testing Data Split\n",
    "\n",
    "Used across all versions."
   ]
  },
  {
   "cell_type": "code",
   "execution_count": 3,
   "id": "c0cbb2e9-234f-48cb-ac82-8d38be68729d",
   "metadata": {},
   "outputs": [],
   "source": [
    "#data read + process\n",
    "mycwd = os.getcwd()\n",
    "os.chdir(\"..\")\n",
    "df = pd.read_csv(\"data/\" + \"adult.data\", \n",
    "            index_col=False, \n",
    "            names=['age', \n",
    "                   'workclass', \n",
    "                   'fnlwgt', \n",
    "                   'education', \n",
    "                   'education-num', \n",
    "                   'marital-status', \n",
    "                   'occupation', \n",
    "                   'relationship', \n",
    "                   'race', \n",
    "                   'sex', \n",
    "                   'capital-gain', \n",
    "                   'capital-loss',\n",
    "                   'hours-per-week',\n",
    "                   'native-country',\n",
    "                   'income'])\n",
    "os.chdir(mycwd)"
   ]
  },
  {
   "cell_type": "code",
   "execution_count": 4,
   "id": "8e813eb6-acea-4eeb-8255-f0af165efb26",
   "metadata": {},
   "outputs": [],
   "source": [
    "training = df.iloc[:, :-1]\n",
    "testing = df.iloc[: , -1]"
   ]
  },
  {
   "cell_type": "code",
   "execution_count": 5,
   "id": "d5eca831-5684-4b9c-9cd7-be8be4d99ff3",
   "metadata": {},
   "outputs": [],
   "source": [
    "X_train, X_test, y_train, y_test = train_test_split(training, testing, test_size=0.2, random_state=1)"
   ]
  },
  {
   "cell_type": "markdown",
   "id": "694f3321-f06d-4cee-bcd9-385a6b2cbc11",
   "metadata": {},
   "source": [
    "Now, let us convert these into CSV's for reproducibility and access in other notebooks."
   ]
  },
  {
   "cell_type": "code",
   "execution_count": 6,
   "id": "6634e364-4e1a-47c1-bede-0d79987cbde9",
   "metadata": {},
   "outputs": [
    {
     "data": {
      "text/plain": [
       "'/Users/kavin/hw07-group24/notebooks'"
      ]
     },
     "execution_count": 6,
     "metadata": {},
     "output_type": "execute_result"
    }
   ],
   "source": [
    "mycwd = os.getcwd()\n",
    "mycwd"
   ]
  },
  {
   "cell_type": "code",
   "execution_count": 7,
   "id": "bc2837f2-851c-4b61-9d64-e34310871d15",
   "metadata": {},
   "outputs": [],
   "source": [
    "#X_train\n",
    "X_train.to_csv(Path(mycwd + \"/TrainingTestingData/v1(Kavin)/X_train.csv\"))\n",
    "\n",
    "#X_test\n",
    "X_test.to_csv(Path(mycwd + \"/TrainingTestingData/v1(Kavin)/X_test.csv\"))\n",
    "\n",
    "#y_train\n",
    "y_train.to_csv(Path(mycwd + \"/TrainingTestingData/v1(Kavin)/y_train.csv\"))\n",
    "\n",
    "#y_test\n",
    "y_test.to_csv(Path(mycwd + \"/TrainingTestingData/v1(Kavin)/y_test.csv\"))"
   ]
  },
  {
   "cell_type": "markdown",
   "id": "806732e3-a04d-41f5-9647-1cb95856922a",
   "metadata": {},
   "source": [
    "### Modeling Version 1 -- Kavin"
   ]
  },
  {
   "cell_type": "markdown",
   "id": "90321d0b-8130-4e36-84e7-87744719399f",
   "metadata": {},
   "source": [
    "I will first conduct my data processing using the feature engineering/processing function written in the Version 1 (Kavin) section of the FeatureEngineering notebook."
   ]
  },
  {
   "cell_type": "code",
   "execution_count": 8,
   "id": "f592e37d-ad8c-4615-82fa-5db594acfbfc",
   "metadata": {},
   "outputs": [],
   "source": [
    "#data read + process\n",
    "mycwd = os.getcwd()\n",
    "os.chdir(\"..\")\n",
    "df = pd.read_csv(\"data/\" + \"adult.data\", \n",
    "            index_col=False, \n",
    "            names=['age', \n",
    "                   'workclass', \n",
    "                   'fnlwgt', \n",
    "                   'education', \n",
    "                   'education-num', \n",
    "                   'marital-status', \n",
    "                   'occupation', \n",
    "                   'relationship', \n",
    "                   'race', \n",
    "                   'sex', \n",
    "                   'capital-gain', \n",
    "                   'capital-loss',\n",
    "                   'hours-per-week',\n",
    "                   'native-country',\n",
    "                   'income'])\n",
    "os.chdir(mycwd)"
   ]
  },
  {
   "cell_type": "markdown",
   "id": "d87b3e38-c83a-4481-8c76-5bc92bbbc848",
   "metadata": {},
   "source": [
    "#### Feature Engineered data using utils.py function"
   ]
  },
  {
   "cell_type": "code",
   "execution_count": 9,
   "id": "37b4ee28-e7d8-4a64-b978-adcd227b8c94",
   "metadata": {},
   "outputs": [],
   "source": [
    "fe_df = featureEngineeringKavinV1(df)\n",
    "training = fe_df.iloc[:, :-1]\n",
    "testing = fe_df.iloc[: , -1]"
   ]
  },
  {
   "cell_type": "markdown",
   "id": "9539fdc0-2bee-42ed-baec-2324dcc0d3aa",
   "metadata": {},
   "source": [
    "#### Training-Testing Data Split"
   ]
  },
  {
   "cell_type": "code",
   "execution_count": 10,
   "id": "f9d68d29-7f7c-45b8-9d87-d15522ffc416",
   "metadata": {},
   "outputs": [],
   "source": [
    "X_train, X_test, y_train, y_test = train_test_split(training, testing, test_size=0.2, random_state=1)"
   ]
  },
  {
   "cell_type": "markdown",
   "id": "6a38297f-d13f-4fee-933c-2bd278eadbb6",
   "metadata": {},
   "source": [
    "Now, let us convert these into CSV's for reproducibility and access in other notebooks."
   ]
  },
  {
   "cell_type": "code",
   "execution_count": 11,
   "id": "9fec9832-2ea6-4b30-9263-27828cad50eb",
   "metadata": {},
   "outputs": [
    {
     "data": {
      "text/plain": [
       "'/Users/kavin/hw07-group24/notebooks'"
      ]
     },
     "execution_count": 11,
     "metadata": {},
     "output_type": "execute_result"
    }
   ],
   "source": [
    "mycwd = os.getcwd()\n",
    "mycwd"
   ]
  },
  {
   "cell_type": "code",
   "execution_count": 12,
   "id": "9e988ff9-c5d1-4380-9b48-0d32a5544696",
   "metadata": {},
   "outputs": [],
   "source": [
    "#X_train\n",
    "X_train.to_csv(Path(mycwd + \"/TrainingTestingData/v1(Kavin)/X_train.csv\"))\n",
    "\n",
    "#X_test\n",
    "X_test.to_csv(Path(mycwd + \"/TrainingTestingData/v1(Kavin)/X_test.csv\"))\n",
    "\n",
    "#y_train\n",
    "y_train.to_csv(Path(mycwd + \"/TrainingTestingData/v1(Kavin)/y_train.csv\"))\n",
    "\n",
    "#y_test\n",
    "y_test.to_csv(Path(mycwd + \"/TrainingTestingData/v1(Kavin)/y_test.csv\"))"
   ]
  },
  {
   "cell_type": "markdown",
   "id": "843c6430-00c1-4168-bb2d-2263b858eb8d",
   "metadata": {},
   "source": [
    "#### Modeling"
   ]
  },
  {
   "cell_type": "markdown",
   "id": "ada94689-b26d-4749-8407-4dd4a400adbe",
   "metadata": {},
   "source": [
    "##### We will use a Random Forest model here."
   ]
  },
  {
   "cell_type": "code",
   "execution_count": 13,
   "id": "46816f94-7f8e-4bc8-b0b4-b388ab0803d0",
   "metadata": {},
   "outputs": [],
   "source": [
    "from sklearn.ensemble import RandomForestClassifier\n",
    "\n",
    "regressor = RandomForestClassifier(n_estimators=20, random_state=1)\n",
    "regressor.fit(X_train, y_train)\n",
    "y_pred_train = regressor.predict(X_train)"
   ]
  },
  {
   "cell_type": "code",
   "execution_count": 14,
   "id": "dc31d3f4-619b-47e0-86cf-fc44a4dcd397",
   "metadata": {},
   "outputs": [
    {
     "data": {
      "text/plain": [
       "array([1, 0, 0, ..., 1, 1, 0], dtype=uint8)"
      ]
     },
     "execution_count": 14,
     "metadata": {},
     "output_type": "execute_result"
    }
   ],
   "source": [
    "#Training Prediction\n",
    "y_pred_train"
   ]
  },
  {
   "cell_type": "code",
   "execution_count": 15,
   "id": "bd67067b-7208-47ca-a032-42bf478a824d",
   "metadata": {},
   "outputs": [
    {
     "data": {
      "text/plain": [
       "array([1, 1, 0, ..., 1, 1, 0], dtype=uint8)"
      ]
     },
     "execution_count": 15,
     "metadata": {},
     "output_type": "execute_result"
    }
   ],
   "source": [
    "#Testing Prediction\n",
    "y_pred_test = regressor.predict(X_test)\n",
    "y_pred_test"
   ]
  },
  {
   "cell_type": "markdown",
   "id": "546e8e4c-ad77-4f6a-8331-85995be402e2",
   "metadata": {},
   "source": [
    "#### Testing"
   ]
  },
  {
   "cell_type": "markdown",
   "id": "686ac367-0841-4776-86d3-f267cd696515",
   "metadata": {},
   "source": [
    "Now, let us test our model."
   ]
  },
  {
   "cell_type": "markdown",
   "id": "ee3b2108-2587-4635-af5a-5ba592cac15f",
   "metadata": {},
   "source": [
    "We will use the utils.py function model_eval that lets us see how our model did and gives us various performance metrics."
   ]
  },
  {
   "cell_type": "code",
   "execution_count": 16,
   "id": "cb01046d-ea34-41ad-8276-ff1d808ef0ae",
   "metadata": {},
   "outputs": [
    {
     "data": {
      "text/html": [
       "<div>\n",
       "<style scoped>\n",
       "    .dataframe tbody tr th:only-of-type {\n",
       "        vertical-align: middle;\n",
       "    }\n",
       "\n",
       "    .dataframe tbody tr th {\n",
       "        vertical-align: top;\n",
       "    }\n",
       "\n",
       "    .dataframe thead th {\n",
       "        text-align: right;\n",
       "    }\n",
       "</style>\n",
       "<table border=\"1\" class=\"dataframe\">\n",
       "  <thead>\n",
       "    <tr style=\"text-align: right;\">\n",
       "      <th></th>\n",
       "      <th>Training</th>\n",
       "      <th>Testing</th>\n",
       "    </tr>\n",
       "  </thead>\n",
       "  <tbody>\n",
       "    <tr>\n",
       "      <th>Accuracy Score</th>\n",
       "      <td>0.975967</td>\n",
       "      <td>0.847382</td>\n",
       "    </tr>\n",
       "    <tr>\n",
       "      <th>Precision Score</th>\n",
       "      <td>0.980884</td>\n",
       "      <td>0.898262</td>\n",
       "    </tr>\n",
       "    <tr>\n",
       "      <th>Recall</th>\n",
       "      <td>0.987458</td>\n",
       "      <td>0.904696</td>\n",
       "    </tr>\n",
       "    <tr>\n",
       "      <th>F1 Score</th>\n",
       "      <td>0.984160</td>\n",
       "      <td>0.901467</td>\n",
       "    </tr>\n",
       "  </tbody>\n",
       "</table>\n",
       "</div>"
      ],
      "text/plain": [
       "                 Training   Testing\n",
       "Accuracy Score   0.975967  0.847382\n",
       "Precision Score  0.980884  0.898262\n",
       "Recall           0.987458  0.904696\n",
       "F1 Score         0.984160  0.901467"
      ]
     },
     "execution_count": 16,
     "metadata": {},
     "output_type": "execute_result"
    }
   ],
   "source": [
    "model_eval(y_train, y_test, y_pred_train, y_pred_test)"
   ]
  },
  {
   "cell_type": "markdown",
   "id": "f24cdd1d-b243-4180-9a44-386dc1bf8a25",
   "metadata": {},
   "source": [
    "##### The below is for testing datasets.\n",
    "\n",
    "The precision and recall scores are fairly high at ~0.9 and F1 is also at ~0.9, which is to be expected due to it being a combination of precision and recall. \n",
    "\n",
    "However, it seems accuracy is a bit lower at ~0.85. This indicates to me that my model performs okay, though it could be better. I suspect that there may be a bit of overfitting occurring."
   ]
  },
  {
   "cell_type": "markdown",
   "id": "b8833c7d-69a5-4313-a2ec-cf70627d7f8a",
   "metadata": {},
   "source": [
    "##### The below is for training datasets.\n",
    "\n",
    "Accuracy, precision, recall, and F1 all experience extremely high scores of ~0.98, making me think my training data may be a bit overfitted. Perhaps I could remove some of the overlapping features or mess with the hyper-parameters of the random forest classifier to prevent this."
   ]
  },
  {
   "cell_type": "markdown",
   "id": "d389aece-5d44-43c9-9c1c-30d9b1285751",
   "metadata": {},
   "source": [
    "### Modeling Version 2 -- Naomi"
   ]
  },
  {
   "cell_type": "code",
   "execution_count": null,
   "id": "837766cc-9226-4c48-af38-a02cfdf5f348",
   "metadata": {},
   "outputs": [],
   "source": []
  },
  {
   "cell_type": "markdown",
   "id": "3c14246e-9f74-453f-b696-fb159ae22b93",
   "metadata": {},
   "source": [
    "### Modeling Version 3 -- George"
   ]
  },
  {
   "cell_type": "code",
   "execution_count": null,
   "id": "870a3ecc-0bcb-48e6-98f5-92bbab7fecea",
   "metadata": {},
   "outputs": [],
   "source": []
  },
  {
   "cell_type": "markdown",
   "id": "16d032de-69c2-4e4b-9f98-7734b40e5a97",
   "metadata": {},
   "source": [
    "### Modeling Version 4 -- Winston"
   ]
  },
  {
   "cell_type": "code",
   "execution_count": null,
   "id": "d63ce651-b288-4fe9-a788-e488d6389aa1",
   "metadata": {},
   "outputs": [],
   "source": []
  }
 ],
 "metadata": {
  "kernelspec": {
   "display_name": "Python 3",
   "language": "python",
   "name": "python3"
  },
  "language_info": {
   "codemirror_mode": {
    "name": "ipython",
    "version": 3
   },
   "file_extension": ".py",
   "mimetype": "text/x-python",
   "name": "python",
   "nbconvert_exporter": "python",
   "pygments_lexer": "ipython3",
   "version": "3.8.8"
  }
 },
 "nbformat": 4,
 "nbformat_minor": 5
}
