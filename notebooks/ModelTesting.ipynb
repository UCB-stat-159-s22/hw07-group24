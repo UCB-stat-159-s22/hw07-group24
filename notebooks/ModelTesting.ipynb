{
 "cells": [
  {
   "cell_type": "markdown",
   "id": "4ac3cedf-b4a3-44e0-afd7-6b1909ad8d26",
   "metadata": {},
   "source": [
    "# Model Testing"
   ]
  },
  {
   "cell_type": "markdown",
   "id": "7718bb49-5c4c-4f12-b0f7-d7a79b0d01cc",
   "metadata": {},
   "source": [
    "### Model Testing Version 1 -- Kavin"
   ]
  },
  {
   "cell_type": "code",
   "execution_count": null,
   "id": "b2961f4a-ece8-413e-98ee-d58c72f3b579",
   "metadata": {},
   "outputs": [],
   "source": []
  },
  {
   "cell_type": "markdown",
   "id": "9c8a300d-ed0c-4280-a8fb-0c53225a0c59",
   "metadata": {},
   "source": [
    "### Model Testing Version 2 -- Naomi"
   ]
  },
  {
   "cell_type": "code",
   "execution_count": null,
   "id": "cfe22de3-a152-4f25-b105-e94745eff47b",
   "metadata": {},
   "outputs": [],
   "source": []
  },
  {
   "cell_type": "markdown",
   "id": "1d8ccb21-1010-4c07-9b8b-a66f72699eb3",
   "metadata": {},
   "source": [
    "### Model Testing Version 3 -- George"
   ]
  },
  {
   "cell_type": "code",
   "execution_count": null,
   "id": "86ba6cfd-6f88-446f-8eec-9136c45020ba",
   "metadata": {},
   "outputs": [],
   "source": []
  },
  {
   "cell_type": "markdown",
   "id": "0ff56558-1e8b-45c5-99b0-1ee0d7898dc1",
   "metadata": {},
   "source": [
    "### Model Testing Version 4 -- Winston"
   ]
  },
  {
   "cell_type": "code",
   "execution_count": null,
   "id": "fa2d583a-044d-482a-91d6-3d76c067cd04",
   "metadata": {},
   "outputs": [],
   "source": []
  }
 ],
 "metadata": {
  "kernelspec": {
   "display_name": "Python 3 (ipykernel)",
   "language": "python",
   "name": "python3"
  },
  "language_info": {
   "codemirror_mode": {
    "name": "ipython",
    "version": 3
   },
   "file_extension": ".py",
   "mimetype": "text/x-python",
   "name": "python",
   "nbconvert_exporter": "python",
   "pygments_lexer": "ipython3",
   "version": "3.9.9"
  }
 },
 "nbformat": 4,
 "nbformat_minor": 5
}
