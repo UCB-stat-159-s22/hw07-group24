{
 "cells": [
  {
   "cell_type": "markdown",
   "id": "25546c4f-bd60-4e67-9be8-ffff0410ca41",
   "metadata": {},
   "source": [
    "# Feature Engineering"
   ]
  },
  {
   "cell_type": "markdown",
   "id": "c80e394b-528f-4775-9d93-4636f13a86c1",
   "metadata": {},
   "source": [
    "### Feature Engineering Version 1 -- Kavin"
   ]
  },
  {
   "cell_type": "code",
   "execution_count": null,
   "id": "0f5de7d6-ea73-4aab-b595-481c65202c93",
   "metadata": {},
   "outputs": [],
   "source": []
  },
  {
   "cell_type": "markdown",
   "id": "d33c943e-b3ac-4977-93fa-011b3a6f3320",
   "metadata": {},
   "source": [
    "### Feature Engineering Version 2 -- Wen"
   ]
  },
  {
   "cell_type": "code",
   "execution_count": null,
   "id": "233bbaef-d22f-40ca-814a-cbe38a8d7a46",
   "metadata": {},
   "outputs": [],
   "source": []
  },
  {
   "cell_type": "markdown",
   "id": "e9cd66bf-fa95-48c2-a2f4-faa09c97500f",
   "metadata": {},
   "source": [
    "### Feature Engineering Version 3 -- George"
   ]
  },
  {
   "cell_type": "code",
   "execution_count": null,
   "id": "51d55713-6d69-4822-bb51-853d4e41501d",
   "metadata": {},
   "outputs": [],
   "source": []
  },
  {
   "cell_type": "markdown",
   "id": "92e9930a-f4c8-4ca2-b766-6224466e235d",
   "metadata": {},
   "source": [
    "### Feature Engineering Version 4 -- Winston"
   ]
  },
  {
   "cell_type": "code",
   "execution_count": null,
   "id": "9c370c88-8ab2-4db7-abc7-092a73ee49af",
   "metadata": {},
   "outputs": [],
   "source": []
  }
 ],
 "metadata": {
  "kernelspec": {
   "display_name": "Python 3 (ipykernel)",
   "language": "python",
   "name": "python3"
  },
  "language_info": {
   "codemirror_mode": {
    "name": "ipython",
    "version": 3
   },
   "file_extension": ".py",
   "mimetype": "text/x-python",
   "name": "python",
   "nbconvert_exporter": "python",
   "pygments_lexer": "ipython3",
   "version": "3.9.9"
  }
 },
 "nbformat": 4,
 "nbformat_minor": 5
}
