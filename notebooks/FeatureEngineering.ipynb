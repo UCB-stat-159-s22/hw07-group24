{
 "cells": [
  {
   "cell_type": "markdown",
   "id": "d67d5b47-ce14-4e03-9e6c-4b6770bd335f",
   "metadata": {},
   "source": [
    "# Feature Engineering"
   ]
  },
  {
   "cell_type": "markdown",
   "id": "55642954-7f54-4950-b7d5-2df7531f8cd5",
   "metadata": {},
   "source": [
    "### Feature Engineering Version 1 -- Kavin"
   ]
  },
  {
   "cell_type": "code",
   "execution_count": null,
   "id": "6a7e0898-71f6-4a7a-8d6a-bcd71dbfe911",
   "metadata": {},
   "outputs": [],
   "source": [
    "..."
   ]
  },
  {
   "cell_type": "markdown",
   "id": "45bd823a-d766-4f6c-87f5-504435301e4a",
   "metadata": {},
   "source": [
    "### Feature Engineering Version 2 -- Naomi"
   ]
  },
  {
   "cell_type": "code",
   "execution_count": 1,
   "id": "73acc518-e944-4bc9-93ec-868a6019710f",
   "metadata": {},
   "outputs": [],
   "source": [
    "import pandas as pd\n",
    "import numpy as np\n",
    "\n",
    "from sklearn.preprocessing import LabelEncoder\n",
    "from sklearn.preprocessing import StandardScaler\n",
    "from sklearn.utils import resample\n",
    "from sklearn.model_selection import train_test_split\n",
    "from sklearn.linear_model import LogisticRegression\n",
    "from sklearn.svm import SVC"
   ]
  },
  {
   "cell_type": "code",
   "execution_count": 2,
   "id": "b29ea5ce-5488-403e-97e6-53eed4e0d90b",
   "metadata": {},
   "outputs": [],
   "source": [
    "data = pd.read_csv(\"../data/adult.data\",\n",
    "                   names = ['age', 'workclass', 'fnlwgt', 'education','education-num',\n",
    "                            'marital-status','occupation','relationship','race','sex',\n",
    "                           'capital-gain','capital-loss','hours-per-week',\n",
    "                            'native-country','income'])"
   ]
  },
  {
   "cell_type": "code",
   "execution_count": 3,
   "id": "2be57341-07e8-4495-93d1-ae8127d36a9e",
   "metadata": {},
   "outputs": [],
   "source": [
    "# replace ? to NaN\n",
    "data = data.replace('\\?', np.nan, regex=True)\n",
    "# remove the rows that have NaN values\n",
    "data = data.dropna()"
   ]
  },
  {
   "cell_type": "code",
   "execution_count": 4,
   "id": "539e33da-4d55-4985-9f72-06edbd401fb4",
   "metadata": {},
   "outputs": [],
   "source": [
    "# Label Encoding\n",
    "for col in data.columns:\n",
    "    if data[col].dtypes == 'object':\n",
    "        encoder = LabelEncoder()\n",
    "        data[col] = encoder.fit_transform(data[col])"
   ]
  },
  {
   "cell_type": "code",
   "execution_count": 5,
   "id": "ab1a7f98-f81f-4626-b174-5673ebb7b115",
   "metadata": {},
   "outputs": [],
   "source": [
    "# Selecting and Scaling\n",
    "X = data.drop(['income'], axis = 1)\n",
    "y = data['income']\n",
    "\n",
    "scaler = StandardScaler()\n",
    "dataset = scaler.fit_transform(X)\n",
    "X = pd.DataFrame(dataset, columns = X.columns)"
   ]
  },
  {
   "cell_type": "code",
   "execution_count": 6,
   "id": "947f96b9-ce87-4e73-b064-1b4a8d012f70",
   "metadata": {},
   "outputs": [
    {
     "data": {
      "text/plain": [
       "0    22654\n",
       "1     7508\n",
       "Name: income, dtype: int64"
      ]
     },
     "execution_count": 6,
     "metadata": {},
     "output_type": "execute_result"
    }
   ],
   "source": [
    "# the data is imbalanced \n",
    "y.value_counts()"
   ]
  },
  {
   "cell_type": "code",
   "execution_count": 7,
   "id": "08eae511-1f93-42b5-bbc8-56464c329767",
   "metadata": {},
   "outputs": [
    {
     "data": {
      "text/plain": [
       "1    22654\n",
       "0    22654\n",
       "Name: income, dtype: int64"
      ]
     },
     "execution_count": 7,
     "metadata": {},
     "output_type": "execute_result"
    }
   ],
   "source": [
    "# Resampling\n",
    "df_majority = data[(data['income'] == 0)]\n",
    "df_minority = data[(data['income'] == 1)]\n",
    "\n",
    "upsample = resample(df_minority, replace = True, n_samples = 22654, random_state = 1 )\n",
    "df_upsample = pd.concat([upsample, df_majority])\n",
    "\n",
    "df_upsample['income'].value_counts()"
   ]
  },
  {
   "cell_type": "markdown",
   "id": "3495eff7-86c6-4f50-92e0-b1ee23885139",
   "metadata": {},
   "source": [
    "### Feature Engineering Version 3 -- George"
   ]
  },
  {
   "cell_type": "code",
   "execution_count": null,
   "id": "4518e555-6271-4083-b366-22f43a348fc8",
   "metadata": {},
   "outputs": [],
   "source": [
    "..."
   ]
  },
  {
   "cell_type": "markdown",
   "id": "304229a7-414c-459f-adc4-e2c54c04f769",
   "metadata": {},
   "source": [
    "### Feature Engineering Version 4 -- Winston"
   ]
  },
  {
   "cell_type": "code",
   "execution_count": null,
   "id": "39022eff-16f6-4a6e-99e7-9b3b10a0dccb",
   "metadata": {},
   "outputs": [],
   "source": [
    "..."
   ]
  }
 ],
 "metadata": {
  "kernelspec": {
   "display_name": "Python 3 (ipykernel)",
   "language": "python",
   "name": "python3"
  },
  "language_info": {
   "codemirror_mode": {
    "name": "ipython",
    "version": 3
   },
   "file_extension": ".py",
   "mimetype": "text/x-python",
   "name": "python",
   "nbconvert_exporter": "python",
   "pygments_lexer": "ipython3",
   "version": "3.9.9"
  }
 },
 "nbformat": 4,
 "nbformat_minor": 5
}
