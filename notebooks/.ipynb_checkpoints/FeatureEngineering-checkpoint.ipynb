{
 "cells": [
  {
   "cell_type": "markdown",
   "id": "d67d5b47-ce14-4e03-9e6c-4b6770bd335f",
   "metadata": {},
   "source": [
    "# Feature Engineering"
   ]
  },
  {
   "cell_type": "markdown",
   "id": "55642954-7f54-4950-b7d5-2df7531f8cd5",
   "metadata": {},
   "source": [
    "### Feature Engineering Version 1 -- Kavin"
   ]
  },
  {
   "cell_type": "code",
   "execution_count": null,
   "id": "6a7e0898-71f6-4a7a-8d6a-bcd71dbfe911",
   "metadata": {},
   "outputs": [],
   "source": [
    "..."
   ]
  },
  {
   "cell_type": "markdown",
   "id": "45bd823a-d766-4f6c-87f5-504435301e4a",
   "metadata": {},
   "source": [
    "### Feature Engineering Version 2 -- Naomi"
   ]
  },
  {
   "cell_type": "code",
   "execution_count": null,
   "id": "73acc518-e944-4bc9-93ec-868a6019710f",
   "metadata": {},
   "outputs": [],
   "source": [
    "..."
   ]
  },
  {
   "cell_type": "markdown",
   "id": "3495eff7-86c6-4f50-92e0-b1ee23885139",
   "metadata": {},
   "source": [
    "### Feature Engineering Version 3 -- George"
   ]
  },
  {
   "cell_type": "code",
   "execution_count": null,
   "id": "4518e555-6271-4083-b366-22f43a348fc8",
   "metadata": {},
   "outputs": [],
   "source": [
    "..."
   ]
  },
  {
   "cell_type": "markdown",
   "id": "304229a7-414c-459f-adc4-e2c54c04f769",
   "metadata": {},
   "source": [
    "### Feature Engineering Version 4 -- Winston"
   ]
  },
  {
   "cell_type": "code",
   "execution_count": null,
   "id": "39022eff-16f6-4a6e-99e7-9b3b10a0dccb",
   "metadata": {},
   "outputs": [],
   "source": [
    "..."
   ]
  }
 ],
 "metadata": {
  "kernelspec": {
   "display_name": "Python 3 (ipykernel)",
   "language": "python",
   "name": "python3"
  },
  "language_info": {
   "codemirror_mode": {
    "name": "ipython",
    "version": 3
   },
   "file_extension": ".py",
   "mimetype": "text/x-python",
   "name": "python",
   "nbconvert_exporter": "python",
   "pygments_lexer": "ipython3",
   "version": "3.9.9"
  }
 },
 "nbformat": 4,
 "nbformat_minor": 5
}
