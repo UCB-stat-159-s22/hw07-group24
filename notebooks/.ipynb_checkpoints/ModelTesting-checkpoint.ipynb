{
 "cells": [
  {
   "cell_type": "markdown",
   "id": "43bdf949-c402-4207-a8b7-a42037a7f35f",
   "metadata": {},
   "source": [
    "# Model Testing"
   ]
  },
  {
   "cell_type": "markdown",
   "id": "9661db43-3453-4ea3-99bb-6bd84254cc83",
   "metadata": {},
   "source": [
    "#### Model Testing Version 1 -- Kavin"
   ]
  },
  {
   "cell_type": "code",
   "execution_count": null,
   "id": "3ea521e4-f8d1-4d95-aef2-85183d9eabd7",
   "metadata": {},
   "outputs": [],
   "source": []
  },
  {
   "cell_type": "markdown",
   "id": "c241a682-fb91-4447-83db-0debdeea79ac",
   "metadata": {},
   "source": [
    "#### Model Testing Version 2 -- Wen"
   ]
  },
  {
   "cell_type": "code",
   "execution_count": null,
   "id": "5133c267-1702-42c5-9399-23d20395b45f",
   "metadata": {},
   "outputs": [],
   "source": []
  },
  {
   "cell_type": "markdown",
   "id": "dd6db126-3f19-4101-aa20-b8c94ff30925",
   "metadata": {},
   "source": [
    "#### Model Testing Version 3 -- George"
   ]
  },
  {
   "cell_type": "code",
   "execution_count": null,
   "id": "ef3df308-73dc-497b-86fb-19a385220170",
   "metadata": {},
   "outputs": [],
   "source": []
  },
  {
   "cell_type": "markdown",
   "id": "f4130907-e4dc-4fa0-a7b3-f133f6fdcce3",
   "metadata": {},
   "source": [
    "#### Model Testing Version 4 -- Winston"
   ]
  },
  {
   "cell_type": "code",
   "execution_count": null,
   "id": "1678d537-bbbd-40c2-a830-c0666ab89c11",
   "metadata": {},
   "outputs": [],
   "source": []
  }
 ],
 "metadata": {
  "kernelspec": {
   "display_name": "Python 3 (ipykernel)",
   "language": "python",
   "name": "python3"
  },
  "language_info": {
   "codemirror_mode": {
    "name": "ipython",
    "version": 3
   },
   "file_extension": ".py",
   "mimetype": "text/x-python",
   "name": "python",
   "nbconvert_exporter": "python",
   "pygments_lexer": "ipython3",
   "version": "3.9.9"
  }
 },
 "nbformat": 4,
 "nbformat_minor": 5
}
