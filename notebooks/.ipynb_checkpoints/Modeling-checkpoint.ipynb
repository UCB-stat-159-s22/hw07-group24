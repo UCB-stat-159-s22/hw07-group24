{
 "cells": [
  {
   "cell_type": "markdown",
   "id": "b8eb9357-03ca-45ef-9691-82368b98b595",
   "metadata": {},
   "source": [
    "# Modeling"
   ]
  },
  {
   "cell_type": "markdown",
   "id": "910d5b19-7612-4c55-94c7-e7b5e098fe03",
   "metadata": {},
   "source": [
    "Notebook for modeling and testing these models."
   ]
  },
  {
   "cell_type": "code",
   "execution_count": 1,
   "id": "1e6b69c0-325b-4ffa-8feb-3c31f953a3fc",
   "metadata": {},
   "outputs": [],
   "source": [
    "#SET RANDOM SEED HERE"
   ]
  },
  {
   "cell_type": "code",
   "execution_count": null,
   "id": "daa8d712-ea0e-4465-be43-4395fe3df402",
   "metadata": {},
   "outputs": [
    {
     "ename": "SyntaxError",
     "evalue": "invalid syntax (utils.py, line 176)",
     "output_type": "error",
     "traceback": [
      "Traceback \u001b[0;36m(most recent call last)\u001b[0m:\n",
      "  File \u001b[1;32m/srv/conda/envs/notebook/lib/python3.9/site-packages/IPython/core/interactiveshell.py:3251\u001b[0m in \u001b[1;35mrun_code\u001b[0m\n    exec(code_obj, self.user_global_ns, self.user_ns)\n",
      "  Input \u001b[1;32mIn [9]\u001b[0m in \u001b[1;35m<module>\u001b[0m\n    from utils import featureEngineeringKavinV1\n",
      "\u001b[0;36m  File \u001b[0;32m~/HW/hw07-group24/notebooks/utils/__init__.py:1\u001b[0;36m in \u001b[0;35m<module>\u001b[0;36m\u001b[0m\n\u001b[0;31m    from .utils import *\u001b[0m\n",
      "\u001b[0;36m  File \u001b[0;32m~/HW/hw07-group24/notebooks/utils/utils.py:176\u001b[0;36m\u001b[0m\n\u001b[0;31m    <<<<<<< HEAD:notebooks/utils.py\u001b[0m\n\u001b[0m    ^\u001b[0m\n\u001b[0;31mSyntaxError\u001b[0m\u001b[0;31m:\u001b[0m invalid syntax\n"
     ]
    }
   ],
   "source": [
    "#imports\n",
    "\n",
    "import numpy as np\n",
    "import pandas as pd\n",
    "import matplotlib.pyplot as plt\n",
    "import seaborn as sns\n",
    "import os\n",
    "from sklearn.model_selection import train_test_split\n",
    "from pathlib import Path\n",
    "\n",
    "#utils.py imports\n",
    "from utils import featureEngineeringKavinV1\n",
    "from utils import model_eval"
   ]
  },
  {
   "cell_type": "markdown",
   "id": "0863ad5d-b2b6-47c2-b3a6-91fb06fbf53f",
   "metadata": {},
   "source": [
    "#### Training-Testing Data Split\n",
    "\n",
    "Used across all versions."
   ]
  },
  {
   "cell_type": "code",
   "execution_count": 3,
   "id": "c0cbb2e9-234f-48cb-ac82-8d38be68729d",
   "metadata": {},
   "outputs": [],
   "source": [
    "#data read + process\n",
    "mycwd = os.getcwd()\n",
    "os.chdir(\"..\")\n",
    "df = pd.read_csv(\"data/\" + \"adult.data\", \n",
    "            index_col=False, \n",
    "            names=['age', \n",
    "                   'workclass', \n",
    "                   'fnlwgt', \n",
    "                   'education', \n",
    "                   'education-num', \n",
    "                   'marital-status', \n",
    "                   'occupation', \n",
    "                   'relationship', \n",
    "                   'race', \n",
    "                   'sex', \n",
    "                   'capital-gain', \n",
    "                   'capital-loss',\n",
    "                   'hours-per-week',\n",
    "                   'native-country',\n",
    "                   'income'])\n",
    "os.chdir(mycwd)"
   ]
  },
  {
   "cell_type": "code",
   "execution_count": 4,
   "id": "8e813eb6-acea-4eeb-8255-f0af165efb26",
   "metadata": {},
   "outputs": [],
   "source": [
    "training = df.iloc[:, :-1]\n",
    "testing = df.iloc[: , -1]"
   ]
  },
  {
   "cell_type": "code",
   "execution_count": 5,
   "id": "d5eca831-5684-4b9c-9cd7-be8be4d99ff3",
   "metadata": {},
   "outputs": [],
   "source": [
    "X_train, X_test, y_train, y_test = train_test_split(training, testing, test_size=0.2, random_state=1)"
   ]
  },
  {
   "cell_type": "markdown",
   "id": "694f3321-f06d-4cee-bcd9-385a6b2cbc11",
   "metadata": {},
   "source": [
    "Now, let us convert these into CSV's for reproducibility and access in other notebooks."
   ]
  },
  {
   "cell_type": "code",
   "execution_count": 6,
   "id": "6634e364-4e1a-47c1-bede-0d79987cbde9",
   "metadata": {},
   "outputs": [
    {
     "data": {
      "text/plain": [
       "'/Users/kavin/hw07-group24/notebooks'"
      ]
     },
     "execution_count": 6,
     "metadata": {},
     "output_type": "execute_result"
    }
   ],
   "source": [
    "mycwd = os.getcwd()\n",
    "mycwd"
   ]
  },
  {
   "cell_type": "code",
   "execution_count": 7,
   "id": "bc2837f2-851c-4b61-9d64-e34310871d15",
   "metadata": {},
   "outputs": [],
   "source": [
    "#X_train\n",
    "X_train.to_csv(Path(mycwd + \"/TrainingTestingData/v1(Kavin)/X_train.csv\"))\n",
    "\n",
    "#X_test\n",
    "X_test.to_csv(Path(mycwd + \"/TrainingTestingData/v1(Kavin)/X_test.csv\"))\n",
    "\n",
    "#y_train\n",
    "y_train.to_csv(Path(mycwd + \"/TrainingTestingData/v1(Kavin)/y_train.csv\"))\n",
    "\n",
    "#y_test\n",
    "y_test.to_csv(Path(mycwd + \"/TrainingTestingData/v1(Kavin)/y_test.csv\"))"
   ]
  },
  {
   "cell_type": "markdown",
   "id": "806732e3-a04d-41f5-9647-1cb95856922a",
   "metadata": {},
   "source": [
    "### Modeling Version 1 -- Kavin"
   ]
  },
  {
   "cell_type": "markdown",
   "id": "90321d0b-8130-4e36-84e7-87744719399f",
   "metadata": {},
   "source": [
    "I will first conduct my data processing using the feature engineering/processing function written in the Version 1 (Kavin) section of the FeatureEngineering notebook."
   ]
  },
  {
   "cell_type": "code",
   "execution_count": 8,
   "id": "f592e37d-ad8c-4615-82fa-5db594acfbfc",
   "metadata": {},
   "outputs": [],
   "source": [
    "#data read + process\n",
    "mycwd = os.getcwd()\n",
    "os.chdir(\"..\")\n",
    "df = pd.read_csv(\"data/\" + \"adult.data\", \n",
    "            index_col=False, \n",
    "            names=['age', \n",
    "                   'workclass', \n",
    "                   'fnlwgt', \n",
    "                   'education', \n",
    "                   'education-num', \n",
    "                   'marital-status', \n",
    "                   'occupation', \n",
    "                   'relationship', \n",
    "                   'race', \n",
    "                   'sex', \n",
    "                   'capital-gain', \n",
    "                   'capital-loss',\n",
    "                   'hours-per-week',\n",
    "                   'native-country',\n",
    "                   'income'])\n",
    "os.chdir(mycwd)"
   ]
  },
  {
   "cell_type": "markdown",
   "id": "d87b3e38-c83a-4481-8c76-5bc92bbbc848",
   "metadata": {},
   "source": [
    "#### Feature Engineered data using utils.py function"
   ]
  },
  {
   "cell_type": "code",
   "execution_count": 9,
   "id": "37b4ee28-e7d8-4a64-b978-adcd227b8c94",
   "metadata": {},
   "outputs": [],
   "source": [
    "fe_df = featureEngineeringKavinV1(df)\n",
    "training = fe_df.iloc[:, :-1]\n",
    "testing = fe_df.iloc[: , -1]"
   ]
  },
  {
   "cell_type": "markdown",
   "id": "9539fdc0-2bee-42ed-baec-2324dcc0d3aa",
   "metadata": {},
   "source": [
    "#### Training-Testing Data Split"
   ]
  },
  {
   "cell_type": "code",
   "execution_count": 10,
   "id": "f9d68d29-7f7c-45b8-9d87-d15522ffc416",
   "metadata": {},
   "outputs": [],
   "source": [
    "X_train, X_test, y_train, y_test = train_test_split(training, testing, test_size=0.2, random_state=1)"
   ]
  },
  {
   "cell_type": "markdown",
   "id": "6a38297f-d13f-4fee-933c-2bd278eadbb6",
   "metadata": {},
   "source": [
    "Now, let us convert these into CSV's for reproducibility and access in other notebooks."
   ]
  },
  {
   "cell_type": "code",
   "execution_count": 11,
   "id": "9fec9832-2ea6-4b30-9263-27828cad50eb",
   "metadata": {},
   "outputs": [
    {
     "data": {
      "text/plain": [
       "'/Users/kavin/hw07-group24/notebooks'"
      ]
     },
     "execution_count": 11,
     "metadata": {},
     "output_type": "execute_result"
    }
   ],
   "source": [
    "mycwd = os.getcwd()\n",
    "mycwd"
   ]
  },
  {
   "cell_type": "code",
   "execution_count": 12,
   "id": "9e988ff9-c5d1-4380-9b48-0d32a5544696",
   "metadata": {},
   "outputs": [],
   "source": [
    "#X_train\n",
    "X_train.to_csv(Path(mycwd + \"/TrainingTestingData/v1(Kavin)/X_train.csv\"))\n",
    "\n",
    "#X_test\n",
    "X_test.to_csv(Path(mycwd + \"/TrainingTestingData/v1(Kavin)/X_test.csv\"))\n",
    "\n",
    "#y_train\n",
    "y_train.to_csv(Path(mycwd + \"/TrainingTestingData/v1(Kavin)/y_train.csv\"))\n",
    "\n",
    "#y_test\n",
    "y_test.to_csv(Path(mycwd + \"/TrainingTestingData/v1(Kavin)/y_test.csv\"))"
   ]
  },
  {
   "cell_type": "markdown",
   "id": "843c6430-00c1-4168-bb2d-2263b858eb8d",
   "metadata": {},
   "source": [
    "#### Modeling"
   ]
  },
  {
   "cell_type": "markdown",
   "id": "ada94689-b26d-4749-8407-4dd4a400adbe",
   "metadata": {},
   "source": [
    "##### We will use a Random Forest model here."
   ]
  },
  {
   "cell_type": "code",
   "execution_count": 13,
   "id": "46816f94-7f8e-4bc8-b0b4-b388ab0803d0",
   "metadata": {},
   "outputs": [],
   "source": [
    "from sklearn.ensemble import RandomForestClassifier\n",
    "\n",
    "regressor = RandomForestClassifier(n_estimators=20, random_state=1)\n",
    "regressor.fit(X_train, y_train)\n",
    "y_pred_train = regressor.predict(X_train)"
   ]
  },
  {
   "cell_type": "code",
   "execution_count": 14,
   "id": "dc31d3f4-619b-47e0-86cf-fc44a4dcd397",
   "metadata": {},
   "outputs": [
    {
     "data": {
      "text/plain": [
       "array([1, 0, 0, ..., 1, 1, 0], dtype=uint8)"
      ]
     },
     "execution_count": 14,
     "metadata": {},
     "output_type": "execute_result"
    }
   ],
   "source": [
    "#Training Prediction\n",
    "y_pred_train"
   ]
  },
  {
   "cell_type": "code",
   "execution_count": 15,
   "id": "bd67067b-7208-47ca-a032-42bf478a824d",
   "metadata": {},
   "outputs": [
    {
     "data": {
      "text/plain": [
       "array([1, 1, 0, ..., 1, 1, 0], dtype=uint8)"
      ]
     },
     "execution_count": 15,
     "metadata": {},
     "output_type": "execute_result"
    }
   ],
   "source": [
    "#Testing Prediction\n",
    "y_pred_test = regressor.predict(X_test)\n",
    "y_pred_test"
   ]
  },
  {
   "cell_type": "markdown",
   "id": "546e8e4c-ad77-4f6a-8331-85995be402e2",
   "metadata": {},
   "source": [
    "#### Testing"
   ]
  },
  {
   "cell_type": "markdown",
   "id": "686ac367-0841-4776-86d3-f267cd696515",
   "metadata": {},
   "source": [
    "Now, let us test our model."
   ]
  },
  {
   "cell_type": "markdown",
   "id": "ee3b2108-2587-4635-af5a-5ba592cac15f",
   "metadata": {},
   "source": [
    "We will use the utils.py function model_eval that lets us see how our model did and gives us various performance metrics."
   ]
  },
  {
   "cell_type": "code",
   "execution_count": 16,
   "id": "cb01046d-ea34-41ad-8276-ff1d808ef0ae",
   "metadata": {},
   "outputs": [
    {
     "data": {
      "text/html": [
       "<div>\n",
       "<style scoped>\n",
       "    .dataframe tbody tr th:only-of-type {\n",
       "        vertical-align: middle;\n",
       "    }\n",
       "\n",
       "    .dataframe tbody tr th {\n",
       "        vertical-align: top;\n",
       "    }\n",
       "\n",
       "    .dataframe thead th {\n",
       "        text-align: right;\n",
       "    }\n",
       "</style>\n",
       "<table border=\"1\" class=\"dataframe\">\n",
       "  <thead>\n",
       "    <tr style=\"text-align: right;\">\n",
       "      <th></th>\n",
       "      <th>Training</th>\n",
       "      <th>Testing</th>\n",
       "    </tr>\n",
       "  </thead>\n",
       "  <tbody>\n",
       "    <tr>\n",
       "      <th>Accuracy Score</th>\n",
       "      <td>0.975967</td>\n",
       "      <td>0.847382</td>\n",
       "    </tr>\n",
       "    <tr>\n",
       "      <th>Precision Score</th>\n",
       "      <td>0.980884</td>\n",
       "      <td>0.898262</td>\n",
       "    </tr>\n",
       "    <tr>\n",
       "      <th>Recall</th>\n",
       "      <td>0.987458</td>\n",
       "      <td>0.904696</td>\n",
       "    </tr>\n",
       "    <tr>\n",
       "      <th>F1 Score</th>\n",
       "      <td>0.984160</td>\n",
       "      <td>0.901467</td>\n",
       "    </tr>\n",
       "  </tbody>\n",
       "</table>\n",
       "</div>"
      ],
      "text/plain": [
       "                 Training   Testing\n",
       "Accuracy Score   0.975967  0.847382\n",
       "Precision Score  0.980884  0.898262\n",
       "Recall           0.987458  0.904696\n",
       "F1 Score         0.984160  0.901467"
      ]
     },
     "execution_count": 16,
     "metadata": {},
     "output_type": "execute_result"
    }
   ],
   "source": [
    "model_eval(y_train, y_test, y_pred_train, y_pred_test)"
   ]
  },
  {
   "cell_type": "markdown",
   "id": "f24cdd1d-b243-4180-9a44-386dc1bf8a25",
   "metadata": {},
   "source": [
    "##### The below is for testing datasets.\n",
    "\n",
    "The precision and recall scores are fairly high at ~0.9 and F1 is also at ~0.9, which is to be expected due to it being a combination of precision and recall. \n",
    "\n",
    "However, it seems accuracy is a bit lower at ~0.85. This indicates to me that my model performs okay, though it could be better. I suspect that there may be a bit of overfitting occurring."
   ]
  },
  {
   "cell_type": "markdown",
   "id": "b8833c7d-69a5-4313-a2ec-cf70627d7f8a",
   "metadata": {},
   "source": [
    "##### The below is for training datasets.\n",
    "\n",
    "Accuracy, precision, recall, and F1 all experience extremely high scores of ~0.98, making me think my training data may be a bit overfitted. Perhaps I could remove some of the overlapping features or mess with the hyper-parameters of the random forest classifier to prevent this."
   ]
  },
  {
   "cell_type": "markdown",
   "id": "d389aece-5d44-43c9-9c1c-30d9b1285751",
   "metadata": {},
   "source": [
    "### Modeling Version 2 -- Naomi"
   ]
  },
  {
   "cell_type": "code",
   "execution_count": 10,
   "id": "cf01cef8-0083-42f2-abbd-c17f2a479656",
   "metadata": {},
   "outputs": [],
   "source": [
    "import pandas as pd\n",
    "import numpy as np\n",
    "\n",
    "from sklearn.preprocessing import LabelEncoder\n",
    "from sklearn.preprocessing import StandardScaler\n",
    "from sklearn.utils import resample"
   ]
  },
  {
   "cell_type": "code",
   "execution_count": 11,
   "id": "9bbd03ad-9d0d-4188-a362-ec45dd5e9875",
   "metadata": {},
   "outputs": [
    {
     "ename": "ImportError",
     "evalue": "cannot import name 'feature_Wen' from 'projecttools.utils' (/srv/conda/envs/notebook/lib/python3.9/site-packages/projecttools/utils.py)",
     "output_type": "error",
     "traceback": [
      "\u001b[0;31m---------------------------------------------------------------------------\u001b[0m",
      "\u001b[0;31mImportError\u001b[0m                               Traceback (most recent call last)",
      "Input \u001b[0;32mIn [11]\u001b[0m, in \u001b[0;36m<module>\u001b[0;34m\u001b[0m\n\u001b[1;32m      1\u001b[0m \u001b[38;5;28;01mfrom\u001b[39;00m \u001b[38;5;21;01msklearn\u001b[39;00m\u001b[38;5;21;01m.\u001b[39;00m\u001b[38;5;21;01mmodel_selection\u001b[39;00m \u001b[38;5;28;01mimport\u001b[39;00m train_test_split\n\u001b[1;32m      2\u001b[0m \u001b[38;5;28;01mfrom\u001b[39;00m \u001b[38;5;21;01msklearn\u001b[39;00m\u001b[38;5;21;01m.\u001b[39;00m\u001b[38;5;21;01msvm\u001b[39;00m \u001b[38;5;28;01mimport\u001b[39;00m SVC\n\u001b[0;32m----> 4\u001b[0m \u001b[38;5;28;01mfrom\u001b[39;00m \u001b[38;5;21;01mprojecttools\u001b[39;00m\u001b[38;5;21;01m.\u001b[39;00m\u001b[38;5;21;01mutils\u001b[39;00m \u001b[38;5;28;01mimport\u001b[39;00m model_eval, feature_Wen\n",
      "\u001b[0;31mImportError\u001b[0m: cannot import name 'feature_Wen' from 'projecttools.utils' (/srv/conda/envs/notebook/lib/python3.9/site-packages/projecttools/utils.py)"
     ]
    }
   ],
   "source": [
    "from sklearn.model_selection import train_test_split\n",
    "from sklearn.svm import SVC\n",
    "\n",
    "from projecttools.utils import model_eval, feature_Wen\n"
   ]
  },
  {
   "cell_type": "code",
   "execution_count": 18,
   "id": "b20a09d3-0564-491a-a9cc-1646ff451c73",
   "metadata": {},
   "outputs": [],
   "source": [
    "data = pd.read_csv(\"../data/adult.data\",\n",
    "                   names = ['age', 'workclass', 'fnlwgt', 'education','education-num',\n",
    "                           'marital-status','occupation','relationship','race','sex',\n",
    "                          'capital-gain','capital-loss','hours-per-week',\n",
    "                            'native-country','income'])"
   ]
  },
  {
   "cell_type": "code",
   "execution_count": 19,
   "id": "28d4dcf2-085d-42cb-9317-bb79fd448ff3",
   "metadata": {},
   "outputs": [
    {
     "data": {
      "text/html": [
       "<div>\n",
       "<style scoped>\n",
       "    .dataframe tbody tr th:only-of-type {\n",
       "        vertical-align: middle;\n",
       "    }\n",
       "\n",
       "    .dataframe tbody tr th {\n",
       "        vertical-align: top;\n",
       "    }\n",
       "\n",
       "    .dataframe thead th {\n",
       "        text-align: right;\n",
       "    }\n",
       "</style>\n",
       "<table border=\"1\" class=\"dataframe\">\n",
       "  <thead>\n",
       "    <tr style=\"text-align: right;\">\n",
       "      <th></th>\n",
       "      <th>age</th>\n",
       "      <th>fnlwgt</th>\n",
       "      <th>education-num</th>\n",
       "      <th>marital-status</th>\n",
       "      <th>occupation</th>\n",
       "      <th>relationship</th>\n",
       "      <th>capital-gain</th>\n",
       "      <th>hours-per-week</th>\n",
       "    </tr>\n",
       "  </thead>\n",
       "  <tbody>\n",
       "    <tr>\n",
       "      <th>0</th>\n",
       "      <td>1.648836</td>\n",
       "      <td>-0.016932</td>\n",
       "      <td>-0.621267</td>\n",
       "      <td>-0.308402</td>\n",
       "      <td>-0.766630</td>\n",
       "      <td>-0.727624</td>\n",
       "      <td>-0.198954</td>\n",
       "      <td>-1.916267</td>\n",
       "    </tr>\n",
       "    <tr>\n",
       "      <th>1</th>\n",
       "      <td>0.693246</td>\n",
       "      <td>0.048031</td>\n",
       "      <td>1.311097</td>\n",
       "      <td>-0.308402</td>\n",
       "      <td>0.721607</td>\n",
       "      <td>-0.727624</td>\n",
       "      <td>-0.198954</td>\n",
       "      <td>-0.213403</td>\n",
       "    </tr>\n",
       "    <tr>\n",
       "      <th>2</th>\n",
       "      <td>0.533981</td>\n",
       "      <td>0.051833</td>\n",
       "      <td>-0.621267</td>\n",
       "      <td>-0.308402</td>\n",
       "      <td>0.225528</td>\n",
       "      <td>2.361912</td>\n",
       "      <td>-0.198954</td>\n",
       "      <td>-3.023128</td>\n",
       "    </tr>\n",
       "    <tr>\n",
       "      <th>3</th>\n",
       "      <td>-0.182711</td>\n",
       "      <td>-0.726126</td>\n",
       "      <td>-0.621267</td>\n",
       "      <td>1.185325</td>\n",
       "      <td>0.721607</td>\n",
       "      <td>-0.109717</td>\n",
       "      <td>-0.198954</td>\n",
       "      <td>-0.213403</td>\n",
       "    </tr>\n",
       "    <tr>\n",
       "      <th>4</th>\n",
       "      <td>0.295084</td>\n",
       "      <td>-0.812016</td>\n",
       "      <td>-0.621267</td>\n",
       "      <td>-0.308402</td>\n",
       "      <td>1.217686</td>\n",
       "      <td>2.361912</td>\n",
       "      <td>-0.198954</td>\n",
       "      <td>-0.213403</td>\n",
       "    </tr>\n",
       "    <tr>\n",
       "      <th>...</th>\n",
       "      <td>...</td>\n",
       "      <td>...</td>\n",
       "      <td>...</td>\n",
       "      <td>...</td>\n",
       "      <td>...</td>\n",
       "      <td>...</td>\n",
       "      <td>...</td>\n",
       "      <td>...</td>\n",
       "    </tr>\n",
       "    <tr>\n",
       "      <th>45303</th>\n",
       "      <td>-0.660506</td>\n",
       "      <td>-0.691525</td>\n",
       "      <td>1.311097</td>\n",
       "      <td>1.185325</td>\n",
       "      <td>1.465726</td>\n",
       "      <td>-0.109717</td>\n",
       "      <td>-0.198954</td>\n",
       "      <td>-2.682555</td>\n",
       "    </tr>\n",
       "    <tr>\n",
       "      <th>45304</th>\n",
       "      <td>-1.456831</td>\n",
       "      <td>1.152225</td>\n",
       "      <td>-0.234794</td>\n",
       "      <td>1.185325</td>\n",
       "      <td>0.969647</td>\n",
       "      <td>-0.109717</td>\n",
       "      <td>-0.198954</td>\n",
       "      <td>-0.213403</td>\n",
       "    </tr>\n",
       "    <tr>\n",
       "      <th>45305</th>\n",
       "      <td>-1.058669</td>\n",
       "      <td>0.649982</td>\n",
       "      <td>0.538152</td>\n",
       "      <td>-0.308402</td>\n",
       "      <td>1.465726</td>\n",
       "      <td>2.361912</td>\n",
       "      <td>-0.198954</td>\n",
       "      <td>-0.383689</td>\n",
       "    </tr>\n",
       "    <tr>\n",
       "      <th>45306</th>\n",
       "      <td>1.409939</td>\n",
       "      <td>-0.351577</td>\n",
       "      <td>-0.621267</td>\n",
       "      <td>2.679052</td>\n",
       "      <td>-1.510748</td>\n",
       "      <td>1.744005</td>\n",
       "      <td>-0.198954</td>\n",
       "      <td>-0.213403</td>\n",
       "    </tr>\n",
       "    <tr>\n",
       "      <th>45307</th>\n",
       "      <td>-1.456831</td>\n",
       "      <td>0.119590</td>\n",
       "      <td>-0.621267</td>\n",
       "      <td>1.185325</td>\n",
       "      <td>-1.510748</td>\n",
       "      <td>1.126098</td>\n",
       "      <td>-0.198954</td>\n",
       "      <td>-1.916267</td>\n",
       "    </tr>\n",
       "  </tbody>\n",
       "</table>\n",
       "<p>45308 rows × 8 columns</p>\n",
       "</div>"
      ],
      "text/plain": [
       "            age    fnlwgt  education-num  marital-status  occupation  \\\n",
       "0      1.648836 -0.016932      -0.621267       -0.308402   -0.766630   \n",
       "1      0.693246  0.048031       1.311097       -0.308402    0.721607   \n",
       "2      0.533981  0.051833      -0.621267       -0.308402    0.225528   \n",
       "3     -0.182711 -0.726126      -0.621267        1.185325    0.721607   \n",
       "4      0.295084 -0.812016      -0.621267       -0.308402    1.217686   \n",
       "...         ...       ...            ...             ...         ...   \n",
       "45303 -0.660506 -0.691525       1.311097        1.185325    1.465726   \n",
       "45304 -1.456831  1.152225      -0.234794        1.185325    0.969647   \n",
       "45305 -1.058669  0.649982       0.538152       -0.308402    1.465726   \n",
       "45306  1.409939 -0.351577      -0.621267        2.679052   -1.510748   \n",
       "45307 -1.456831  0.119590      -0.621267        1.185325   -1.510748   \n",
       "\n",
       "       relationship  capital-gain  hours-per-week  \n",
       "0         -0.727624     -0.198954       -1.916267  \n",
       "1         -0.727624     -0.198954       -0.213403  \n",
       "2          2.361912     -0.198954       -3.023128  \n",
       "3         -0.109717     -0.198954       -0.213403  \n",
       "4          2.361912     -0.198954       -0.213403  \n",
       "...             ...           ...             ...  \n",
       "45303     -0.109717     -0.198954       -2.682555  \n",
       "45304     -0.109717     -0.198954       -0.213403  \n",
       "45305      2.361912     -0.198954       -0.383689  \n",
       "45306      1.744005     -0.198954       -0.213403  \n",
       "45307      1.126098     -0.198954       -1.916267  \n",
       "\n",
       "[45308 rows x 8 columns]"
      ]
     },
     "execution_count": 19,
     "metadata": {},
     "output_type": "execute_result"
    }
   ],
   "source": [
    "feature_Wen(data)"
   ]
  },
  {
   "cell_type": "code",
   "execution_count": 4,
   "id": "837766cc-9226-4c48-af38-a02cfdf5f348",
   "metadata": {},
   "outputs": [],
   "source": [
    "# training and testing models\n",
    "X_train, X_test, y_train, y_test = train_test_split(feature_Wen()[0], feature_Wen()[1], test_size = 0.2, random_state = 1)\n",
    "\n",
    "#SVC\n",
    "Classifier = SVC(random_state = 1)\n",
    "model = Classifier.fit(X_train, y_train)\n",
    "Y_pred_test = Classifier.predict(X_test)\n",
    "Y_pred_traint = Classifier.predict(X_train)"
   ]
  },
  {
   "cell_type": "markdown",
   "id": "710b146e-528a-4a70-84e2-e7edad073efe",
   "metadata": {},
   "source": [
    "#### Model Testing"
   ]
  },
  {
   "cell_type": "code",
   "execution_count": 5,
   "id": "b20872fe-5a8d-405b-8648-c115fb686c22",
   "metadata": {},
   "outputs": [
    {
     "data": {
      "text/html": [
       "<div>\n",
       "<style scoped>\n",
       "    .dataframe tbody tr th:only-of-type {\n",
       "        vertical-align: middle;\n",
       "    }\n",
       "\n",
       "    .dataframe tbody tr th {\n",
       "        vertical-align: top;\n",
       "    }\n",
       "\n",
       "    .dataframe thead th {\n",
       "        text-align: right;\n",
       "    }\n",
       "</style>\n",
       "<table border=\"1\" class=\"dataframe\">\n",
       "  <thead>\n",
       "    <tr style=\"text-align: right;\">\n",
       "      <th></th>\n",
       "      <th>Training</th>\n",
       "      <th>Testing</th>\n",
       "    </tr>\n",
       "  </thead>\n",
       "  <tbody>\n",
       "    <tr>\n",
       "      <th>Accuracy Score</th>\n",
       "      <td>0.820394</td>\n",
       "      <td>0.813397</td>\n",
       "    </tr>\n",
       "    <tr>\n",
       "      <th>Precision Score</th>\n",
       "      <td>0.784479</td>\n",
       "      <td>0.774981</td>\n",
       "    </tr>\n",
       "    <tr>\n",
       "      <th>Recall</th>\n",
       "      <td>0.883518</td>\n",
       "      <td>0.883249</td>\n",
       "    </tr>\n",
       "    <tr>\n",
       "      <th>F1 Score</th>\n",
       "      <td>0.831058</td>\n",
       "      <td>0.825580</td>\n",
       "    </tr>\n",
       "  </tbody>\n",
       "</table>\n",
       "</div>"
      ],
      "text/plain": [
       "                 Training   Testing\n",
       "Accuracy Score   0.820394  0.813397\n",
       "Precision Score  0.784479  0.774981\n",
       "Recall           0.883518  0.883249\n",
       "F1 Score         0.831058  0.825580"
      ]
     },
     "execution_count": 5,
     "metadata": {},
     "output_type": "execute_result"
    }
   ],
   "source": [
    "model_eval(y_train, y_test, Y_pred_traint, Y_pred_test)"
   ]
  },
  {
   "cell_type": "markdown",
   "id": "3c14246e-9f74-453f-b696-fb159ae22b93",
   "metadata": {},
   "source": [
    "### Modeling Version 3 -- George"
   ]
  },
  {
   "cell_type": "code",
   "execution_count": 6,
   "id": "870a3ecc-0bcb-48e6-98f5-92bbab7fecea",
   "metadata": {},
   "outputs": [],
   "source": [
    "from sklearn.linear_model import LogisticRegression\n",
    "from sklearn.neighbors import KNeighborsClassifier\n",
    "from sklearn.tree import DecisionTreeClassifier\n",
    "from sklearn.ensemble import StackingClassifier\n",
    "\n",
    "from sklearn.model_selection import train_test_split, GridSearchCV, cross_val_score\n",
    "\n",
    "import joblib\n",
    "\n",
    "import pandas as pd\n",
    "import matplotlib.pyplot as plt\n",
    "import seaborn as sns\n",
    "import numpy as np\n",
    "\n",
    "from projecttools.utils import model_eval, feat_eng_split\n"
   ]
  },
  {
   "cell_type": "code",
   "execution_count": 2,
   "id": "dff2f7e6",
   "metadata": {},
   "outputs": [
    {
     "data": {
      "text/html": [
       "<div>\n",
       "<style scoped>\n",
       "    .dataframe tbody tr th:only-of-type {\n",
       "        vertical-align: middle;\n",
       "    }\n",
       "\n",
       "    .dataframe tbody tr th {\n",
       "        vertical-align: top;\n",
       "    }\n",
       "\n",
       "    .dataframe thead th {\n",
       "        text-align: right;\n",
       "    }\n",
       "</style>\n",
       "<table border=\"1\" class=\"dataframe\">\n",
       "  <thead>\n",
       "    <tr style=\"text-align: right;\">\n",
       "      <th></th>\n",
       "      <th>age</th>\n",
       "      <th>workclass</th>\n",
       "      <th>fnlwgt</th>\n",
       "      <th>education</th>\n",
       "      <th>education-num</th>\n",
       "      <th>marital-status</th>\n",
       "      <th>occupation</th>\n",
       "      <th>relationship</th>\n",
       "      <th>race</th>\n",
       "      <th>sex</th>\n",
       "      <th>capital-gain</th>\n",
       "      <th>capital-loss</th>\n",
       "      <th>hours-per-week</th>\n",
       "      <th>native-country</th>\n",
       "      <th>income</th>\n",
       "    </tr>\n",
       "  </thead>\n",
       "  <tbody>\n",
       "    <tr>\n",
       "      <th>0</th>\n",
       "      <td>39</td>\n",
       "      <td>State-gov</td>\n",
       "      <td>77516</td>\n",
       "      <td>Bachelors</td>\n",
       "      <td>13</td>\n",
       "      <td>Never-married</td>\n",
       "      <td>Adm-clerical</td>\n",
       "      <td>Not-in-family</td>\n",
       "      <td>White</td>\n",
       "      <td>Male</td>\n",
       "      <td>2174</td>\n",
       "      <td>0</td>\n",
       "      <td>40</td>\n",
       "      <td>United-States</td>\n",
       "      <td>&lt;=50K</td>\n",
       "    </tr>\n",
       "    <tr>\n",
       "      <th>1</th>\n",
       "      <td>50</td>\n",
       "      <td>Self-emp-not-inc</td>\n",
       "      <td>83311</td>\n",
       "      <td>Bachelors</td>\n",
       "      <td>13</td>\n",
       "      <td>Married-civ-spouse</td>\n",
       "      <td>Exec-managerial</td>\n",
       "      <td>Husband</td>\n",
       "      <td>White</td>\n",
       "      <td>Male</td>\n",
       "      <td>0</td>\n",
       "      <td>0</td>\n",
       "      <td>13</td>\n",
       "      <td>United-States</td>\n",
       "      <td>&lt;=50K</td>\n",
       "    </tr>\n",
       "    <tr>\n",
       "      <th>2</th>\n",
       "      <td>38</td>\n",
       "      <td>Private</td>\n",
       "      <td>215646</td>\n",
       "      <td>HS-grad</td>\n",
       "      <td>9</td>\n",
       "      <td>Divorced</td>\n",
       "      <td>Handlers-cleaners</td>\n",
       "      <td>Not-in-family</td>\n",
       "      <td>White</td>\n",
       "      <td>Male</td>\n",
       "      <td>0</td>\n",
       "      <td>0</td>\n",
       "      <td>40</td>\n",
       "      <td>United-States</td>\n",
       "      <td>&lt;=50K</td>\n",
       "    </tr>\n",
       "    <tr>\n",
       "      <th>3</th>\n",
       "      <td>53</td>\n",
       "      <td>Private</td>\n",
       "      <td>234721</td>\n",
       "      <td>11th</td>\n",
       "      <td>7</td>\n",
       "      <td>Married-civ-spouse</td>\n",
       "      <td>Handlers-cleaners</td>\n",
       "      <td>Husband</td>\n",
       "      <td>Black</td>\n",
       "      <td>Male</td>\n",
       "      <td>0</td>\n",
       "      <td>0</td>\n",
       "      <td>40</td>\n",
       "      <td>United-States</td>\n",
       "      <td>&lt;=50K</td>\n",
       "    </tr>\n",
       "    <tr>\n",
       "      <th>4</th>\n",
       "      <td>28</td>\n",
       "      <td>Private</td>\n",
       "      <td>338409</td>\n",
       "      <td>Bachelors</td>\n",
       "      <td>13</td>\n",
       "      <td>Married-civ-spouse</td>\n",
       "      <td>Prof-specialty</td>\n",
       "      <td>Wife</td>\n",
       "      <td>Black</td>\n",
       "      <td>Female</td>\n",
       "      <td>0</td>\n",
       "      <td>0</td>\n",
       "      <td>40</td>\n",
       "      <td>Cuba</td>\n",
       "      <td>&lt;=50K</td>\n",
       "    </tr>\n",
       "  </tbody>\n",
       "</table>\n",
       "</div>"
      ],
      "text/plain": [
       "   age          workclass  fnlwgt   education  education-num  \\\n",
       "0   39          State-gov   77516   Bachelors             13   \n",
       "1   50   Self-emp-not-inc   83311   Bachelors             13   \n",
       "2   38            Private  215646     HS-grad              9   \n",
       "3   53            Private  234721        11th              7   \n",
       "4   28            Private  338409   Bachelors             13   \n",
       "\n",
       "        marital-status          occupation    relationship    race      sex  \\\n",
       "0        Never-married        Adm-clerical   Not-in-family   White     Male   \n",
       "1   Married-civ-spouse     Exec-managerial         Husband   White     Male   \n",
       "2             Divorced   Handlers-cleaners   Not-in-family   White     Male   \n",
       "3   Married-civ-spouse   Handlers-cleaners         Husband   Black     Male   \n",
       "4   Married-civ-spouse      Prof-specialty            Wife   Black   Female   \n",
       "\n",
       "   capital-gain  capital-loss  hours-per-week  native-country  income  \n",
       "0          2174             0              40   United-States   <=50K  \n",
       "1             0             0              13   United-States   <=50K  \n",
       "2             0             0              40   United-States   <=50K  \n",
       "3             0             0              40   United-States   <=50K  \n",
       "4             0             0              40            Cuba   <=50K  "
      ]
     },
     "execution_count": 2,
     "metadata": {},
     "output_type": "execute_result"
    }
   ],
   "source": [
    "data = pd.read_csv(\"../data/adult.data\",\n",
    "                   names = ['age', 'workclass', 'fnlwgt', 'education','education-num',\n",
    "                            'marital-status','occupation','relationship','race','sex',\n",
    "                           'capital-gain','capital-loss','hours-per-week',\n",
    "                            'native-country','income'])\n",
    "data.head()"
   ]
  },
  {
   "cell_type": "markdown",
   "id": "6c2abc34",
   "metadata": {},
   "source": [
    "Drop `education`"
   ]
  },
  {
   "cell_type": "code",
   "execution_count": 3,
   "id": "5101c825",
   "metadata": {},
   "outputs": [],
   "source": [
    "data = data.drop(\"education\", axis = 1)"
   ]
  },
  {
   "cell_type": "markdown",
   "id": "aed76dae",
   "metadata": {},
   "source": [
    "Separate the independent and dependent features"
   ]
  },
  {
   "cell_type": "code",
   "execution_count": 4,
   "id": "3b1c24b8",
   "metadata": {},
   "outputs": [],
   "source": [
    "X = data.drop(\"income\", axis = 1)\n",
    "y = data[\"income\"]"
   ]
  },
  {
   "cell_type": "code",
   "execution_count": 5,
   "id": "dee758b7",
   "metadata": {},
   "outputs": [
    {
     "data": {
      "text/html": [
       "<div>\n",
       "<style scoped>\n",
       "    .dataframe tbody tr th:only-of-type {\n",
       "        vertical-align: middle;\n",
       "    }\n",
       "\n",
       "    .dataframe tbody tr th {\n",
       "        vertical-align: top;\n",
       "    }\n",
       "\n",
       "    .dataframe thead th {\n",
       "        text-align: right;\n",
       "    }\n",
       "</style>\n",
       "<table border=\"1\" class=\"dataframe\">\n",
       "  <thead>\n",
       "    <tr style=\"text-align: right;\">\n",
       "      <th></th>\n",
       "      <th>age</th>\n",
       "      <th>workclass</th>\n",
       "      <th>fnlwgt</th>\n",
       "      <th>education-num</th>\n",
       "      <th>marital-status</th>\n",
       "      <th>occupation</th>\n",
       "      <th>relationship</th>\n",
       "      <th>race</th>\n",
       "      <th>sex</th>\n",
       "      <th>capital-gain</th>\n",
       "      <th>capital-loss</th>\n",
       "      <th>hours-per-week</th>\n",
       "      <th>native-country</th>\n",
       "    </tr>\n",
       "  </thead>\n",
       "  <tbody>\n",
       "    <tr>\n",
       "      <th>0</th>\n",
       "      <td>39</td>\n",
       "      <td>State-gov</td>\n",
       "      <td>77516</td>\n",
       "      <td>13</td>\n",
       "      <td>Never-married</td>\n",
       "      <td>Adm-clerical</td>\n",
       "      <td>Not-in-family</td>\n",
       "      <td>White</td>\n",
       "      <td>Male</td>\n",
       "      <td>2174</td>\n",
       "      <td>0</td>\n",
       "      <td>40</td>\n",
       "      <td>United-States</td>\n",
       "    </tr>\n",
       "    <tr>\n",
       "      <th>1</th>\n",
       "      <td>50</td>\n",
       "      <td>Self-emp-not-inc</td>\n",
       "      <td>83311</td>\n",
       "      <td>13</td>\n",
       "      <td>Married-civ-spouse</td>\n",
       "      <td>Exec-managerial</td>\n",
       "      <td>Husband</td>\n",
       "      <td>White</td>\n",
       "      <td>Male</td>\n",
       "      <td>0</td>\n",
       "      <td>0</td>\n",
       "      <td>13</td>\n",
       "      <td>United-States</td>\n",
       "    </tr>\n",
       "    <tr>\n",
       "      <th>2</th>\n",
       "      <td>38</td>\n",
       "      <td>Private</td>\n",
       "      <td>215646</td>\n",
       "      <td>9</td>\n",
       "      <td>Divorced</td>\n",
       "      <td>Handlers-cleaners</td>\n",
       "      <td>Not-in-family</td>\n",
       "      <td>White</td>\n",
       "      <td>Male</td>\n",
       "      <td>0</td>\n",
       "      <td>0</td>\n",
       "      <td>40</td>\n",
       "      <td>United-States</td>\n",
       "    </tr>\n",
       "    <tr>\n",
       "      <th>3</th>\n",
       "      <td>53</td>\n",
       "      <td>Private</td>\n",
       "      <td>234721</td>\n",
       "      <td>7</td>\n",
       "      <td>Married-civ-spouse</td>\n",
       "      <td>Handlers-cleaners</td>\n",
       "      <td>Husband</td>\n",
       "      <td>Black</td>\n",
       "      <td>Male</td>\n",
       "      <td>0</td>\n",
       "      <td>0</td>\n",
       "      <td>40</td>\n",
       "      <td>United-States</td>\n",
       "    </tr>\n",
       "    <tr>\n",
       "      <th>4</th>\n",
       "      <td>28</td>\n",
       "      <td>Private</td>\n",
       "      <td>338409</td>\n",
       "      <td>13</td>\n",
       "      <td>Married-civ-spouse</td>\n",
       "      <td>Prof-specialty</td>\n",
       "      <td>Wife</td>\n",
       "      <td>Black</td>\n",
       "      <td>Female</td>\n",
       "      <td>0</td>\n",
       "      <td>0</td>\n",
       "      <td>40</td>\n",
       "      <td>Cuba</td>\n",
       "    </tr>\n",
       "  </tbody>\n",
       "</table>\n",
       "</div>"
      ],
      "text/plain": [
       "   age          workclass  fnlwgt  education-num       marital-status  \\\n",
       "0   39          State-gov   77516             13        Never-married   \n",
       "1   50   Self-emp-not-inc   83311             13   Married-civ-spouse   \n",
       "2   38            Private  215646              9             Divorced   \n",
       "3   53            Private  234721              7   Married-civ-spouse   \n",
       "4   28            Private  338409             13   Married-civ-spouse   \n",
       "\n",
       "           occupation    relationship    race      sex  capital-gain  \\\n",
       "0        Adm-clerical   Not-in-family   White     Male          2174   \n",
       "1     Exec-managerial         Husband   White     Male             0   \n",
       "2   Handlers-cleaners   Not-in-family   White     Male             0   \n",
       "3   Handlers-cleaners         Husband   Black     Male             0   \n",
       "4      Prof-specialty            Wife   Black   Female             0   \n",
       "\n",
       "   capital-loss  hours-per-week  native-country  \n",
       "0             0              40   United-States  \n",
       "1             0              13   United-States  \n",
       "2             0              40   United-States  \n",
       "3             0              40   United-States  \n",
       "4             0              40            Cuba  "
      ]
     },
     "execution_count": 5,
     "metadata": {},
     "output_type": "execute_result"
    }
   ],
   "source": [
    "X.head()"
   ]
  },
  {
   "cell_type": "code",
   "execution_count": 6,
   "id": "ae34a4f7",
   "metadata": {},
   "outputs": [
    {
     "data": {
      "text/plain": [
       "0     <=50K\n",
       "1     <=50K\n",
       "2     <=50K\n",
       "3     <=50K\n",
       "4     <=50K\n",
       "Name: income, dtype: object"
      ]
     },
     "execution_count": 6,
     "metadata": {},
     "output_type": "execute_result"
    }
   ],
   "source": [
    "y.head()"
   ]
  },
  {
   "cell_type": "markdown",
   "id": "e088d7a6",
   "metadata": {},
   "source": [
    "Use the `feat_eng_split` utils function to:\n",
    "\n",
    "1. Split the data into training and testing dataset.\n",
    "\n",
    "2. Feature engineer the training dataset (scale and one hot encode)\n",
    "\n",
    "3. Transform the testing dataset using the rules created by the training dataset.\n",
    "\n",
    "4. Output the transformed training features and labels and the testing features and labels"
   ]
  },
  {
   "cell_type": "code",
   "execution_count": 7,
   "id": "489a72f3",
   "metadata": {},
   "outputs": [
    {
     "name": "stderr",
     "output_type": "stream",
     "text": [
      "/srv/conda/envs/notebook/lib/python3.9/site-packages/sklearn/utils/deprecation.py:87: FutureWarning: Function get_feature_names is deprecated; get_feature_names is deprecated in 1.0 and will be removed in 1.2. Please use get_feature_names_out instead.\n",
      "  warnings.warn(msg, category=FutureWarning)\n"
     ]
    }
   ],
   "source": [
    "X_train, X_valid, y_train, y_valid = feat_eng_split(X, y)"
   ]
  },
  {
   "cell_type": "code",
   "execution_count": 8,
   "id": "6a01e7f5",
   "metadata": {},
   "outputs": [
    {
     "data": {
      "text/html": [
       "<div>\n",
       "<style scoped>\n",
       "    .dataframe tbody tr th:only-of-type {\n",
       "        vertical-align: middle;\n",
       "    }\n",
       "\n",
       "    .dataframe tbody tr th {\n",
       "        vertical-align: top;\n",
       "    }\n",
       "\n",
       "    .dataframe thead th {\n",
       "        text-align: right;\n",
       "    }\n",
       "</style>\n",
       "<table border=\"1\" class=\"dataframe\">\n",
       "  <thead>\n",
       "    <tr style=\"text-align: right;\">\n",
       "      <th></th>\n",
       "      <th>age</th>\n",
       "      <th>fnlwgt</th>\n",
       "      <th>education-num</th>\n",
       "      <th>capital-gain</th>\n",
       "      <th>capital-loss</th>\n",
       "      <th>hours-per-week</th>\n",
       "      <th>workclass_ Federal-gov</th>\n",
       "      <th>workclass_ Local-gov</th>\n",
       "      <th>workclass_ Never-worked</th>\n",
       "      <th>workclass_ Private</th>\n",
       "      <th>...</th>\n",
       "      <th>native-country_ Portugal</th>\n",
       "      <th>native-country_ Puerto-Rico</th>\n",
       "      <th>native-country_ Scotland</th>\n",
       "      <th>native-country_ South</th>\n",
       "      <th>native-country_ Taiwan</th>\n",
       "      <th>native-country_ Thailand</th>\n",
       "      <th>native-country_ Trinadad&amp;Tobago</th>\n",
       "      <th>native-country_ United-States</th>\n",
       "      <th>native-country_ Vietnam</th>\n",
       "      <th>native-country_ Yugoslavia</th>\n",
       "    </tr>\n",
       "  </thead>\n",
       "  <tbody>\n",
       "    <tr>\n",
       "      <th>6770</th>\n",
       "      <td>-0.627682</td>\n",
       "      <td>1.797658</td>\n",
       "      <td>-0.034983</td>\n",
       "      <td>-0.146435</td>\n",
       "      <td>-0.215273</td>\n",
       "      <td>1.178792</td>\n",
       "      <td>0.0</td>\n",
       "      <td>0.0</td>\n",
       "      <td>0.0</td>\n",
       "      <td>1.0</td>\n",
       "      <td>...</td>\n",
       "      <td>0.0</td>\n",
       "      <td>0.0</td>\n",
       "      <td>0.0</td>\n",
       "      <td>0.0</td>\n",
       "      <td>0.0</td>\n",
       "      <td>0.0</td>\n",
       "      <td>0.0</td>\n",
       "      <td>1.0</td>\n",
       "      <td>0.0</td>\n",
       "      <td>0.0</td>\n",
       "    </tr>\n",
       "    <tr>\n",
       "      <th>30361</th>\n",
       "      <td>-0.186730</td>\n",
       "      <td>2.210280</td>\n",
       "      <td>-2.768069</td>\n",
       "      <td>-0.146435</td>\n",
       "      <td>-0.215273</td>\n",
       "      <td>-0.034838</td>\n",
       "      <td>0.0</td>\n",
       "      <td>0.0</td>\n",
       "      <td>0.0</td>\n",
       "      <td>0.0</td>\n",
       "      <td>...</td>\n",
       "      <td>0.0</td>\n",
       "      <td>0.0</td>\n",
       "      <td>0.0</td>\n",
       "      <td>0.0</td>\n",
       "      <td>0.0</td>\n",
       "      <td>0.0</td>\n",
       "      <td>0.0</td>\n",
       "      <td>0.0</td>\n",
       "      <td>0.0</td>\n",
       "      <td>0.0</td>\n",
       "    </tr>\n",
       "    <tr>\n",
       "      <th>8764</th>\n",
       "      <td>1.062633</td>\n",
       "      <td>-1.513517</td>\n",
       "      <td>-2.377628</td>\n",
       "      <td>-0.146435</td>\n",
       "      <td>-0.215273</td>\n",
       "      <td>-0.439382</td>\n",
       "      <td>0.0</td>\n",
       "      <td>0.0</td>\n",
       "      <td>0.0</td>\n",
       "      <td>0.0</td>\n",
       "      <td>...</td>\n",
       "      <td>0.0</td>\n",
       "      <td>0.0</td>\n",
       "      <td>0.0</td>\n",
       "      <td>0.0</td>\n",
       "      <td>0.0</td>\n",
       "      <td>0.0</td>\n",
       "      <td>0.0</td>\n",
       "      <td>1.0</td>\n",
       "      <td>0.0</td>\n",
       "      <td>0.0</td>\n",
       "    </tr>\n",
       "    <tr>\n",
       "      <th>20326</th>\n",
       "      <td>-0.921650</td>\n",
       "      <td>-1.228001</td>\n",
       "      <td>1.136339</td>\n",
       "      <td>-0.146435</td>\n",
       "      <td>-0.215273</td>\n",
       "      <td>-0.034838</td>\n",
       "      <td>0.0</td>\n",
       "      <td>0.0</td>\n",
       "      <td>0.0</td>\n",
       "      <td>1.0</td>\n",
       "      <td>...</td>\n",
       "      <td>0.0</td>\n",
       "      <td>0.0</td>\n",
       "      <td>0.0</td>\n",
       "      <td>0.0</td>\n",
       "      <td>0.0</td>\n",
       "      <td>0.0</td>\n",
       "      <td>0.0</td>\n",
       "      <td>1.0</td>\n",
       "      <td>0.0</td>\n",
       "      <td>0.0</td>\n",
       "    </tr>\n",
       "    <tr>\n",
       "      <th>13684</th>\n",
       "      <td>0.254221</td>\n",
       "      <td>0.017096</td>\n",
       "      <td>0.355458</td>\n",
       "      <td>-0.146435</td>\n",
       "      <td>-0.215273</td>\n",
       "      <td>-0.034838</td>\n",
       "      <td>0.0</td>\n",
       "      <td>0.0</td>\n",
       "      <td>0.0</td>\n",
       "      <td>1.0</td>\n",
       "      <td>...</td>\n",
       "      <td>0.0</td>\n",
       "      <td>0.0</td>\n",
       "      <td>0.0</td>\n",
       "      <td>0.0</td>\n",
       "      <td>0.0</td>\n",
       "      <td>0.0</td>\n",
       "      <td>0.0</td>\n",
       "      <td>1.0</td>\n",
       "      <td>0.0</td>\n",
       "      <td>0.0</td>\n",
       "    </tr>\n",
       "  </tbody>\n",
       "</table>\n",
       "<p>5 rows × 85 columns</p>\n",
       "</div>"
      ],
      "text/plain": [
       "            age    fnlwgt  education-num  capital-gain  capital-loss  \\\n",
       "6770  -0.627682  1.797658      -0.034983     -0.146435     -0.215273   \n",
       "30361 -0.186730  2.210280      -2.768069     -0.146435     -0.215273   \n",
       "8764   1.062633 -1.513517      -2.377628     -0.146435     -0.215273   \n",
       "20326 -0.921650 -1.228001       1.136339     -0.146435     -0.215273   \n",
       "13684  0.254221  0.017096       0.355458     -0.146435     -0.215273   \n",
       "\n",
       "       hours-per-week  workclass_ Federal-gov  workclass_ Local-gov  \\\n",
       "6770         1.178792                     0.0                   0.0   \n",
       "30361       -0.034838                     0.0                   0.0   \n",
       "8764        -0.439382                     0.0                   0.0   \n",
       "20326       -0.034838                     0.0                   0.0   \n",
       "13684       -0.034838                     0.0                   0.0   \n",
       "\n",
       "       workclass_ Never-worked  workclass_ Private  ...  \\\n",
       "6770                       0.0                 1.0  ...   \n",
       "30361                      0.0                 0.0  ...   \n",
       "8764                       0.0                 0.0  ...   \n",
       "20326                      0.0                 1.0  ...   \n",
       "13684                      0.0                 1.0  ...   \n",
       "\n",
       "       native-country_ Portugal  native-country_ Puerto-Rico  \\\n",
       "6770                        0.0                          0.0   \n",
       "30361                       0.0                          0.0   \n",
       "8764                        0.0                          0.0   \n",
       "20326                       0.0                          0.0   \n",
       "13684                       0.0                          0.0   \n",
       "\n",
       "       native-country_ Scotland  native-country_ South  \\\n",
       "6770                        0.0                    0.0   \n",
       "30361                       0.0                    0.0   \n",
       "8764                        0.0                    0.0   \n",
       "20326                       0.0                    0.0   \n",
       "13684                       0.0                    0.0   \n",
       "\n",
       "       native-country_ Taiwan  native-country_ Thailand  \\\n",
       "6770                      0.0                       0.0   \n",
       "30361                     0.0                       0.0   \n",
       "8764                      0.0                       0.0   \n",
       "20326                     0.0                       0.0   \n",
       "13684                     0.0                       0.0   \n",
       "\n",
       "       native-country_ Trinadad&Tobago  native-country_ United-States  \\\n",
       "6770                               0.0                            1.0   \n",
       "30361                              0.0                            0.0   \n",
       "8764                               0.0                            1.0   \n",
       "20326                              0.0                            1.0   \n",
       "13684                              0.0                            1.0   \n",
       "\n",
       "       native-country_ Vietnam  native-country_ Yugoslavia  \n",
       "6770                       0.0                         0.0  \n",
       "30361                      0.0                         0.0  \n",
       "8764                       0.0                         0.0  \n",
       "20326                      0.0                         0.0  \n",
       "13684                      0.0                         0.0  \n",
       "\n",
       "[5 rows x 85 columns]"
      ]
     },
     "execution_count": 8,
     "metadata": {},
     "output_type": "execute_result"
    }
   ],
   "source": [
    "X_train.head()"
   ]
  },
  {
   "cell_type": "code",
   "execution_count": 9,
   "id": "aaf06e40",
   "metadata": {},
   "outputs": [
    {
     "data": {
      "text/html": [
       "<div>\n",
       "<style scoped>\n",
       "    .dataframe tbody tr th:only-of-type {\n",
       "        vertical-align: middle;\n",
       "    }\n",
       "\n",
       "    .dataframe tbody tr th {\n",
       "        vertical-align: top;\n",
       "    }\n",
       "\n",
       "    .dataframe thead th {\n",
       "        text-align: right;\n",
       "    }\n",
       "</style>\n",
       "<table border=\"1\" class=\"dataframe\">\n",
       "  <thead>\n",
       "    <tr style=\"text-align: right;\">\n",
       "      <th></th>\n",
       "      <th>age</th>\n",
       "      <th>fnlwgt</th>\n",
       "      <th>education-num</th>\n",
       "      <th>capital-gain</th>\n",
       "      <th>capital-loss</th>\n",
       "      <th>hours-per-week</th>\n",
       "      <th>workclass_ Federal-gov</th>\n",
       "      <th>workclass_ Local-gov</th>\n",
       "      <th>workclass_ Never-worked</th>\n",
       "      <th>workclass_ Private</th>\n",
       "      <th>...</th>\n",
       "      <th>native-country_ Portugal</th>\n",
       "      <th>native-country_ Puerto-Rico</th>\n",
       "      <th>native-country_ Scotland</th>\n",
       "      <th>native-country_ South</th>\n",
       "      <th>native-country_ Taiwan</th>\n",
       "      <th>native-country_ Thailand</th>\n",
       "      <th>native-country_ Trinadad&amp;Tobago</th>\n",
       "      <th>native-country_ United-States</th>\n",
       "      <th>native-country_ Vietnam</th>\n",
       "      <th>native-country_ Yugoslavia</th>\n",
       "    </tr>\n",
       "  </thead>\n",
       "  <tbody>\n",
       "    <tr>\n",
       "      <th>24860</th>\n",
       "      <td>-1.142126</td>\n",
       "      <td>2.449155</td>\n",
       "      <td>-1.987187</td>\n",
       "      <td>-0.146435</td>\n",
       "      <td>-0.215273</td>\n",
       "      <td>-0.439382</td>\n",
       "      <td>0.0</td>\n",
       "      <td>0.0</td>\n",
       "      <td>0.0</td>\n",
       "      <td>1.0</td>\n",
       "      <td>...</td>\n",
       "      <td>0.0</td>\n",
       "      <td>0.0</td>\n",
       "      <td>0.0</td>\n",
       "      <td>0.0</td>\n",
       "      <td>0.0</td>\n",
       "      <td>0.0</td>\n",
       "      <td>0.0</td>\n",
       "      <td>0.0</td>\n",
       "      <td>0.0</td>\n",
       "      <td>0.0</td>\n",
       "    </tr>\n",
       "    <tr>\n",
       "      <th>13003</th>\n",
       "      <td>1.871044</td>\n",
       "      <td>0.840133</td>\n",
       "      <td>-0.425424</td>\n",
       "      <td>-0.146435</td>\n",
       "      <td>-0.215273</td>\n",
       "      <td>-1.329377</td>\n",
       "      <td>0.0</td>\n",
       "      <td>0.0</td>\n",
       "      <td>0.0</td>\n",
       "      <td>0.0</td>\n",
       "      <td>...</td>\n",
       "      <td>0.0</td>\n",
       "      <td>0.0</td>\n",
       "      <td>0.0</td>\n",
       "      <td>0.0</td>\n",
       "      <td>0.0</td>\n",
       "      <td>0.0</td>\n",
       "      <td>0.0</td>\n",
       "      <td>1.0</td>\n",
       "      <td>0.0</td>\n",
       "      <td>0.0</td>\n",
       "    </tr>\n",
       "    <tr>\n",
       "      <th>5838</th>\n",
       "      <td>-1.436094</td>\n",
       "      <td>1.917090</td>\n",
       "      <td>-0.034983</td>\n",
       "      <td>-0.146435</td>\n",
       "      <td>-0.215273</td>\n",
       "      <td>-0.843925</td>\n",
       "      <td>0.0</td>\n",
       "      <td>0.0</td>\n",
       "      <td>0.0</td>\n",
       "      <td>1.0</td>\n",
       "      <td>...</td>\n",
       "      <td>0.0</td>\n",
       "      <td>0.0</td>\n",
       "      <td>0.0</td>\n",
       "      <td>0.0</td>\n",
       "      <td>0.0</td>\n",
       "      <td>0.0</td>\n",
       "      <td>0.0</td>\n",
       "      <td>1.0</td>\n",
       "      <td>0.0</td>\n",
       "      <td>0.0</td>\n",
       "    </tr>\n",
       "    <tr>\n",
       "      <th>18199</th>\n",
       "      <td>-0.554190</td>\n",
       "      <td>-1.199512</td>\n",
       "      <td>-0.425424</td>\n",
       "      <td>-0.146435</td>\n",
       "      <td>-0.215273</td>\n",
       "      <td>0.774248</td>\n",
       "      <td>0.0</td>\n",
       "      <td>0.0</td>\n",
       "      <td>0.0</td>\n",
       "      <td>1.0</td>\n",
       "      <td>...</td>\n",
       "      <td>0.0</td>\n",
       "      <td>0.0</td>\n",
       "      <td>0.0</td>\n",
       "      <td>0.0</td>\n",
       "      <td>0.0</td>\n",
       "      <td>0.0</td>\n",
       "      <td>0.0</td>\n",
       "      <td>1.0</td>\n",
       "      <td>0.0</td>\n",
       "      <td>0.0</td>\n",
       "    </tr>\n",
       "    <tr>\n",
       "      <th>32190</th>\n",
       "      <td>-0.333714</td>\n",
       "      <td>0.297306</td>\n",
       "      <td>1.136339</td>\n",
       "      <td>-0.146435</td>\n",
       "      <td>-0.215273</td>\n",
       "      <td>-0.034838</td>\n",
       "      <td>0.0</td>\n",
       "      <td>0.0</td>\n",
       "      <td>0.0</td>\n",
       "      <td>1.0</td>\n",
       "      <td>...</td>\n",
       "      <td>0.0</td>\n",
       "      <td>0.0</td>\n",
       "      <td>0.0</td>\n",
       "      <td>0.0</td>\n",
       "      <td>0.0</td>\n",
       "      <td>0.0</td>\n",
       "      <td>0.0</td>\n",
       "      <td>1.0</td>\n",
       "      <td>0.0</td>\n",
       "      <td>0.0</td>\n",
       "    </tr>\n",
       "  </tbody>\n",
       "</table>\n",
       "<p>5 rows × 85 columns</p>\n",
       "</div>"
      ],
      "text/plain": [
       "            age    fnlwgt  education-num  capital-gain  capital-loss  \\\n",
       "24860 -1.142126  2.449155      -1.987187     -0.146435     -0.215273   \n",
       "13003  1.871044  0.840133      -0.425424     -0.146435     -0.215273   \n",
       "5838  -1.436094  1.917090      -0.034983     -0.146435     -0.215273   \n",
       "18199 -0.554190 -1.199512      -0.425424     -0.146435     -0.215273   \n",
       "32190 -0.333714  0.297306       1.136339     -0.146435     -0.215273   \n",
       "\n",
       "       hours-per-week  workclass_ Federal-gov  workclass_ Local-gov  \\\n",
       "24860       -0.439382                     0.0                   0.0   \n",
       "13003       -1.329377                     0.0                   0.0   \n",
       "5838        -0.843925                     0.0                   0.0   \n",
       "18199        0.774248                     0.0                   0.0   \n",
       "32190       -0.034838                     0.0                   0.0   \n",
       "\n",
       "       workclass_ Never-worked  workclass_ Private  ...  \\\n",
       "24860                      0.0                 1.0  ...   \n",
       "13003                      0.0                 0.0  ...   \n",
       "5838                       0.0                 1.0  ...   \n",
       "18199                      0.0                 1.0  ...   \n",
       "32190                      0.0                 1.0  ...   \n",
       "\n",
       "       native-country_ Portugal  native-country_ Puerto-Rico  \\\n",
       "24860                       0.0                          0.0   \n",
       "13003                       0.0                          0.0   \n",
       "5838                        0.0                          0.0   \n",
       "18199                       0.0                          0.0   \n",
       "32190                       0.0                          0.0   \n",
       "\n",
       "       native-country_ Scotland  native-country_ South  \\\n",
       "24860                       0.0                    0.0   \n",
       "13003                       0.0                    0.0   \n",
       "5838                        0.0                    0.0   \n",
       "18199                       0.0                    0.0   \n",
       "32190                       0.0                    0.0   \n",
       "\n",
       "       native-country_ Taiwan  native-country_ Thailand  \\\n",
       "24860                     0.0                       0.0   \n",
       "13003                     0.0                       0.0   \n",
       "5838                      0.0                       0.0   \n",
       "18199                     0.0                       0.0   \n",
       "32190                     0.0                       0.0   \n",
       "\n",
       "       native-country_ Trinadad&Tobago  native-country_ United-States  \\\n",
       "24860                              0.0                            0.0   \n",
       "13003                              0.0                            1.0   \n",
       "5838                               0.0                            1.0   \n",
       "18199                              0.0                            1.0   \n",
       "32190                              0.0                            1.0   \n",
       "\n",
       "       native-country_ Vietnam  native-country_ Yugoslavia  \n",
       "24860                      0.0                         0.0  \n",
       "13003                      0.0                         0.0  \n",
       "5838                       0.0                         0.0  \n",
       "18199                      0.0                         0.0  \n",
       "32190                      0.0                         0.0  \n",
       "\n",
       "[5 rows x 85 columns]"
      ]
     },
     "execution_count": 9,
     "metadata": {},
     "output_type": "execute_result"
    }
   ],
   "source": [
    "X_valid.head()"
   ]
  },
  {
   "cell_type": "markdown",
   "id": "a1d3e3d3",
   "metadata": {},
   "source": [
    "The validation dataset will be used to evaluate our final model."
   ]
  },
  {
   "cell_type": "code",
   "execution_count": null,
   "id": "3fa99933",
   "metadata": {},
   "outputs": [],
   "source": []
  },
  {
   "cell_type": "markdown",
   "id": "6302d67a",
   "metadata": {},
   "source": [
    "Check the null accuracy"
   ]
  },
  {
   "cell_type": "code",
   "execution_count": 10,
   "id": "f3135607",
   "metadata": {},
   "outputs": [
    {
     "data": {
      "text/plain": [
       "0    0.759173\n",
       "1    0.240827\n",
       "dtype: float64"
      ]
     },
     "execution_count": 10,
     "metadata": {},
     "output_type": "execute_result"
    }
   ],
   "source": [
    "pd.value_counts(y_train, normalize=True)"
   ]
  },
  {
   "cell_type": "markdown",
   "id": "dc945504",
   "metadata": {},
   "source": [
    "Null accuracy of 76%"
   ]
  },
  {
   "cell_type": "code",
   "execution_count": null,
   "id": "e9a9c4d3",
   "metadata": {},
   "outputs": [],
   "source": []
  },
  {
   "cell_type": "markdown",
   "id": "dfd1aa79",
   "metadata": {},
   "source": [
    "### Plan\n",
    "\n",
    "1. Evaluate how well KNN and Decision Trees do on the data.\n",
    "\n",
    "2. Derive the best (using parameter tuning) version each model.\n",
    "\n",
    "3. Then combine the two tuned models into one ensemble model using stacking.\n",
    "\n",
    "4. Evaluate how well this stacked model does on the validation dataset"
   ]
  },
  {
   "cell_type": "markdown",
   "id": "c5cca9ea",
   "metadata": {},
   "source": [
    "#### KNN"
   ]
  },
  {
   "cell_type": "code",
   "execution_count": 11,
   "id": "b88a6a20",
   "metadata": {},
   "outputs": [
    {
     "name": "stdout",
     "output_type": "stream",
     "text": [
      "Fitting 10 folds for each of 9 candidates, totalling 90 fits\n",
      "[CV 1/10] END ....................n_neighbors=3;, score=0.832 total time=   2.4s\n",
      "[CV 2/10] END ....................n_neighbors=3;, score=0.824 total time=   1.1s\n",
      "[CV 3/10] END ....................n_neighbors=3;, score=0.829 total time=   1.1s\n",
      "[CV 4/10] END ....................n_neighbors=3;, score=0.830 total time=   1.1s\n",
      "[CV 5/10] END ....................n_neighbors=3;, score=0.824 total time=   1.2s\n",
      "[CV 6/10] END ....................n_neighbors=3;, score=0.821 total time=   1.4s\n",
      "[CV 7/10] END ....................n_neighbors=3;, score=0.829 total time=   1.4s\n",
      "[CV 8/10] END ....................n_neighbors=3;, score=0.822 total time=   2.0s\n",
      "[CV 9/10] END ....................n_neighbors=3;, score=0.826 total time=   1.5s\n",
      "[CV 10/10] END ...................n_neighbors=3;, score=0.822 total time=   1.2s\n",
      "[CV 1/10] END ....................n_neighbors=5;, score=0.842 total time=   1.2s\n",
      "[CV 2/10] END ....................n_neighbors=5;, score=0.833 total time=   1.4s\n",
      "[CV 3/10] END ....................n_neighbors=5;, score=0.836 total time=   1.3s\n",
      "[CV 4/10] END ....................n_neighbors=5;, score=0.848 total time=   1.4s\n",
      "[CV 5/10] END ....................n_neighbors=5;, score=0.835 total time=   1.4s\n",
      "[CV 6/10] END ....................n_neighbors=5;, score=0.837 total time=   1.2s\n",
      "[CV 7/10] END ....................n_neighbors=5;, score=0.842 total time=   1.3s\n",
      "[CV 8/10] END ....................n_neighbors=5;, score=0.832 total time=   1.2s\n",
      "[CV 9/10] END ....................n_neighbors=5;, score=0.834 total time=   1.4s\n",
      "[CV 10/10] END ...................n_neighbors=5;, score=0.831 total time=   1.5s\n",
      "[CV 1/10] END ....................n_neighbors=7;, score=0.842 total time=   1.6s\n",
      "[CV 2/10] END ....................n_neighbors=7;, score=0.835 total time=   1.6s\n",
      "[CV 3/10] END ....................n_neighbors=7;, score=0.836 total time=   1.5s\n",
      "[CV 4/10] END ....................n_neighbors=7;, score=0.852 total time=   1.4s\n",
      "[CV 5/10] END ....................n_neighbors=7;, score=0.843 total time=   1.4s\n",
      "[CV 6/10] END ....................n_neighbors=7;, score=0.833 total time=   1.3s\n",
      "[CV 7/10] END ....................n_neighbors=7;, score=0.839 total time=   1.2s\n",
      "[CV 8/10] END ....................n_neighbors=7;, score=0.840 total time=   1.2s\n",
      "[CV 9/10] END ....................n_neighbors=7;, score=0.837 total time=   1.2s\n",
      "[CV 10/10] END ...................n_neighbors=7;, score=0.848 total time=   1.2s\n",
      "[CV 1/10] END ....................n_neighbors=9;, score=0.844 total time=   1.1s\n",
      "[CV 2/10] END ....................n_neighbors=9;, score=0.837 total time=   1.4s\n",
      "[CV 3/10] END ....................n_neighbors=9;, score=0.836 total time=   1.4s\n",
      "[CV 4/10] END ....................n_neighbors=9;, score=0.857 total time=   1.3s\n",
      "[CV 5/10] END ....................n_neighbors=9;, score=0.850 total time=   1.4s\n",
      "[CV 6/10] END ....................n_neighbors=9;, score=0.833 total time=   1.2s\n",
      "[CV 7/10] END ....................n_neighbors=9;, score=0.841 total time=   1.2s\n",
      "[CV 8/10] END ....................n_neighbors=9;, score=0.840 total time=   1.3s\n",
      "[CV 9/10] END ....................n_neighbors=9;, score=0.837 total time=   1.2s\n",
      "[CV 10/10] END ...................n_neighbors=9;, score=0.843 total time=   1.3s\n",
      "[CV 1/10] END ...................n_neighbors=11;, score=0.844 total time=   1.2s\n",
      "[CV 2/10] END ...................n_neighbors=11;, score=0.839 total time=   1.4s\n",
      "[CV 3/10] END ...................n_neighbors=11;, score=0.836 total time=   1.5s\n",
      "[CV 4/10] END ...................n_neighbors=11;, score=0.858 total time=   1.5s\n",
      "[CV 5/10] END ...................n_neighbors=11;, score=0.853 total time=   1.4s\n",
      "[CV 6/10] END ...................n_neighbors=11;, score=0.831 total time=   1.2s\n",
      "[CV 7/10] END ...................n_neighbors=11;, score=0.841 total time=   1.2s\n",
      "[CV 8/10] END ...................n_neighbors=11;, score=0.841 total time=   1.2s\n",
      "[CV 9/10] END ...................n_neighbors=11;, score=0.839 total time=   1.4s\n",
      "[CV 10/10] END ..................n_neighbors=11;, score=0.846 total time=   1.4s\n",
      "[CV 1/10] END ...................n_neighbors=13;, score=0.851 total time=   1.2s\n",
      "[CV 2/10] END ...................n_neighbors=13;, score=0.837 total time=   1.7s\n",
      "[CV 3/10] END ...................n_neighbors=13;, score=0.834 total time=   1.7s\n",
      "[CV 4/10] END ...................n_neighbors=13;, score=0.860 total time=   1.4s\n",
      "[CV 5/10] END ...................n_neighbors=13;, score=0.853 total time=   1.6s\n",
      "[CV 6/10] END ...................n_neighbors=13;, score=0.835 total time=   1.4s\n",
      "[CV 7/10] END ...................n_neighbors=13;, score=0.839 total time=   1.6s\n",
      "[CV 8/10] END ...................n_neighbors=13;, score=0.842 total time=   1.3s\n",
      "[CV 9/10] END ...................n_neighbors=13;, score=0.843 total time=   1.3s\n",
      "[CV 10/10] END ..................n_neighbors=13;, score=0.850 total time=   1.4s\n",
      "[CV 1/10] END ...................n_neighbors=15;, score=0.847 total time=   1.4s\n",
      "[CV 2/10] END ...................n_neighbors=15;, score=0.837 total time=   1.5s\n",
      "[CV 3/10] END ...................n_neighbors=15;, score=0.837 total time=   1.5s\n",
      "[CV 4/10] END ...................n_neighbors=15;, score=0.860 total time=   1.6s\n",
      "[CV 5/10] END ...................n_neighbors=15;, score=0.852 total time=   1.5s\n",
      "[CV 6/10] END ...................n_neighbors=15;, score=0.839 total time=   1.3s\n",
      "[CV 7/10] END ...................n_neighbors=15;, score=0.846 total time=   1.3s\n",
      "[CV 8/10] END ...................n_neighbors=15;, score=0.845 total time=   1.2s\n",
      "[CV 9/10] END ...................n_neighbors=15;, score=0.841 total time=   1.2s\n",
      "[CV 10/10] END ..................n_neighbors=15;, score=0.850 total time=   1.2s\n",
      "[CV 1/10] END ...................n_neighbors=17;, score=0.849 total time=   1.1s\n",
      "[CV 2/10] END ...................n_neighbors=17;, score=0.839 total time=   1.3s\n",
      "[CV 3/10] END ...................n_neighbors=17;, score=0.838 total time=   1.3s\n",
      "[CV 4/10] END ...................n_neighbors=17;, score=0.858 total time=   1.3s\n",
      "[CV 5/10] END ...................n_neighbors=17;, score=0.854 total time=   1.3s\n",
      "[CV 6/10] END ...................n_neighbors=17;, score=0.840 total time=   1.2s\n",
      "[CV 7/10] END ...................n_neighbors=17;, score=0.846 total time=   1.2s\n",
      "[CV 8/10] END ...................n_neighbors=17;, score=0.847 total time=   1.2s\n",
      "[CV 9/10] END ...................n_neighbors=17;, score=0.840 total time=   1.2s\n",
      "[CV 10/10] END ..................n_neighbors=17;, score=0.854 total time=   1.2s\n",
      "[CV 1/10] END ...................n_neighbors=19;, score=0.848 total time=   1.3s\n",
      "[CV 2/10] END ...................n_neighbors=19;, score=0.838 total time=   1.3s\n",
      "[CV 3/10] END ...................n_neighbors=19;, score=0.837 total time=   1.3s\n",
      "[CV 4/10] END ...................n_neighbors=19;, score=0.853 total time=   1.3s\n",
      "[CV 5/10] END ...................n_neighbors=19;, score=0.853 total time=   1.4s\n",
      "[CV 6/10] END ...................n_neighbors=19;, score=0.841 total time=   1.2s\n",
      "[CV 7/10] END ...................n_neighbors=19;, score=0.846 total time=   1.2s\n",
      "[CV 8/10] END ...................n_neighbors=19;, score=0.849 total time=   1.1s\n",
      "[CV 9/10] END ...................n_neighbors=19;, score=0.843 total time=   1.1s\n",
      "[CV 10/10] END ..................n_neighbors=19;, score=0.853 total time=   1.2s\n"
     ]
    },
    {
     "data": {
      "text/plain": [
       "GridSearchCV(cv=10, estimator=KNeighborsClassifier(),\n",
       "             param_grid={'n_neighbors': array([ 3,  5,  7,  9, 11, 13, 15, 17, 19])},\n",
       "             scoring='accuracy', verbose=3)"
      ]
     },
     "execution_count": 11,
     "metadata": {},
     "output_type": "execute_result"
    }
   ],
   "source": [
    "#GridSearch KNN\n",
    "\n",
    "param_grid = {\"n_neighbors\":np.arange(3, 21, 2)}\n",
    "\n",
    "grid_knn = GridSearchCV(estimator=KNeighborsClassifier(), \n",
    "                        param_grid=param_grid, scoring=\"accuracy\", cv = 10, verbose = 3)\n",
    "\n",
    "grid_knn.fit(X_train, y_train)"
   ]
  },
  {
   "cell_type": "markdown",
   "id": "0b7ee77f",
   "metadata": {},
   "source": [
    "Best params"
   ]
  },
  {
   "cell_type": "code",
   "execution_count": 12,
   "id": "617e19d5",
   "metadata": {},
   "outputs": [
    {
     "data": {
      "text/plain": [
       "{'n_neighbors': 17}"
      ]
     },
     "execution_count": 12,
     "metadata": {},
     "output_type": "execute_result"
    }
   ],
   "source": [
    "grid_knn.best_params_"
   ]
  },
  {
   "cell_type": "markdown",
   "id": "01f441c6",
   "metadata": {},
   "source": [
    "Best score"
   ]
  },
  {
   "cell_type": "code",
   "execution_count": 13,
   "id": "50d7b7c4",
   "metadata": {},
   "outputs": [
    {
     "data": {
      "text/plain": [
       "0.8466830466830466"
      ]
     },
     "execution_count": 13,
     "metadata": {},
     "output_type": "execute_result"
    }
   ],
   "source": [
    "grid_knn.best_score_"
   ]
  },
  {
   "cell_type": "code",
   "execution_count": null,
   "id": "43cd345b",
   "metadata": {},
   "outputs": [],
   "source": []
  },
  {
   "cell_type": "markdown",
   "id": "a6027af3",
   "metadata": {},
   "source": [
    "Grab the best estimator, make predictions on the training and validations and then use the `model_eval` function to compare results."
   ]
  },
  {
   "cell_type": "code",
   "execution_count": 14,
   "id": "ca6f0f04",
   "metadata": {},
   "outputs": [],
   "source": [
    "best_knn = grid_knn.best_estimator_"
   ]
  },
  {
   "cell_type": "code",
   "execution_count": 15,
   "id": "f6fbfc9e",
   "metadata": {},
   "outputs": [],
   "source": [
    "train_knn_preds = best_knn.predict(X_train)\n",
    "valid_knn_preds = best_knn.predict(X_valid)"
   ]
  },
  {
   "cell_type": "code",
   "execution_count": null,
   "id": "2166f35f",
   "metadata": {},
   "outputs": [],
   "source": []
  },
  {
   "cell_type": "code",
   "execution_count": 16,
   "id": "e188f477",
   "metadata": {},
   "outputs": [
    {
     "data": {
      "text/html": [
       "<div>\n",
       "<style scoped>\n",
       "    .dataframe tbody tr th:only-of-type {\n",
       "        vertical-align: middle;\n",
       "    }\n",
       "\n",
       "    .dataframe tbody tr th {\n",
       "        vertical-align: top;\n",
       "    }\n",
       "\n",
       "    .dataframe thead th {\n",
       "        text-align: right;\n",
       "    }\n",
       "</style>\n",
       "<table border=\"1\" class=\"dataframe\">\n",
       "  <thead>\n",
       "    <tr style=\"text-align: right;\">\n",
       "      <th></th>\n",
       "      <th>Training</th>\n",
       "      <th>Testing</th>\n",
       "    </tr>\n",
       "  </thead>\n",
       "  <tbody>\n",
       "    <tr>\n",
       "      <th>Accuracy Score</th>\n",
       "      <td>0.859951</td>\n",
       "      <td>0.846088</td>\n",
       "    </tr>\n",
       "    <tr>\n",
       "      <th>Precision Score</th>\n",
       "      <td>0.745854</td>\n",
       "      <td>0.705643</td>\n",
       "    </tr>\n",
       "    <tr>\n",
       "      <th>Recall</th>\n",
       "      <td>0.634756</td>\n",
       "      <td>0.618878</td>\n",
       "    </tr>\n",
       "    <tr>\n",
       "      <th>F1 Score</th>\n",
       "      <td>0.685835</td>\n",
       "      <td>0.659418</td>\n",
       "    </tr>\n",
       "  </tbody>\n",
       "</table>\n",
       "</div>"
      ],
      "text/plain": [
       "                 Training   Testing\n",
       "Accuracy Score   0.859951  0.846088\n",
       "Precision Score  0.745854  0.705643\n",
       "Recall           0.634756  0.618878\n",
       "F1 Score         0.685835  0.659418"
      ]
     },
     "execution_count": 16,
     "metadata": {},
     "output_type": "execute_result"
    }
   ],
   "source": [
    "knn_performance = model_eval(y_train, y_valid, train_knn_preds, valid_knn_preds)\n",
    "knn_performance"
   ]
  },
  {
   "cell_type": "markdown",
   "id": "45a3c5e3",
   "metadata": {},
   "source": [
    "There doesn't seem to be significant overfitting but scores are certainly lower than I'd like."
   ]
  },
  {
   "cell_type": "markdown",
   "id": "4818e37e",
   "metadata": {},
   "source": [
    "### Decision Trees"
   ]
  },
  {
   "cell_type": "code",
   "execution_count": 17,
   "id": "d9475eaa",
   "metadata": {},
   "outputs": [
    {
     "name": "stdout",
     "output_type": "stream",
     "text": [
      "Fitting 10 folds for each of 18 candidates, totalling 180 fits\n",
      "[CV 1/10] END ......................max_depth=5;, score=0.862 total time=   0.1s\n",
      "[CV 2/10] END ......................max_depth=5;, score=0.848 total time=   0.1s\n",
      "[CV 3/10] END ......................max_depth=5;, score=0.846 total time=   0.1s\n",
      "[CV 4/10] END ......................max_depth=5;, score=0.864 total time=   0.1s\n",
      "[CV 5/10] END ......................max_depth=5;, score=0.859 total time=   0.1s\n",
      "[CV 6/10] END ......................max_depth=5;, score=0.853 total time=   0.1s\n",
      "[CV 7/10] END ......................max_depth=5;, score=0.855 total time=   0.1s\n",
      "[CV 8/10] END ......................max_depth=5;, score=0.853 total time=   0.1s\n",
      "[CV 9/10] END ......................max_depth=5;, score=0.847 total time=   0.1s\n",
      "[CV 10/10] END .....................max_depth=5;, score=0.853 total time=   0.1s\n",
      "[CV 1/10] END ......................max_depth=7;, score=0.863 total time=   0.2s\n",
      "[CV 2/10] END ......................max_depth=7;, score=0.840 total time=   0.1s\n",
      "[CV 3/10] END ......................max_depth=7;, score=0.849 total time=   0.2s\n",
      "[CV 4/10] END ......................max_depth=7;, score=0.870 total time=   0.1s\n",
      "[CV 5/10] END ......................max_depth=7;, score=0.858 total time=   0.1s\n",
      "[CV 6/10] END ......................max_depth=7;, score=0.859 total time=   0.2s\n",
      "[CV 7/10] END ......................max_depth=7;, score=0.851 total time=   0.2s\n",
      "[CV 8/10] END ......................max_depth=7;, score=0.853 total time=   0.1s\n",
      "[CV 9/10] END ......................max_depth=7;, score=0.848 total time=   0.1s\n",
      "[CV 10/10] END .....................max_depth=7;, score=0.855 total time=   0.1s\n",
      "[CV 1/10] END ......................max_depth=9;, score=0.864 total time=   0.2s\n",
      "[CV 2/10] END ......................max_depth=9;, score=0.848 total time=   0.2s\n",
      "[CV 3/10] END ......................max_depth=9;, score=0.846 total time=   0.2s\n",
      "[CV 4/10] END ......................max_depth=9;, score=0.866 total time=   0.2s\n",
      "[CV 5/10] END ......................max_depth=9;, score=0.858 total time=   0.2s\n",
      "[CV 6/10] END ......................max_depth=9;, score=0.855 total time=   0.2s\n",
      "[CV 7/10] END ......................max_depth=9;, score=0.855 total time=   0.2s\n",
      "[CV 8/10] END ......................max_depth=9;, score=0.854 total time=   0.2s\n",
      "[CV 9/10] END ......................max_depth=9;, score=0.850 total time=   0.2s\n",
      "[CV 10/10] END .....................max_depth=9;, score=0.857 total time=   0.2s\n",
      "[CV 1/10] END .....................max_depth=11;, score=0.859 total time=   0.2s\n",
      "[CV 2/10] END .....................max_depth=11;, score=0.848 total time=   0.2s\n",
      "[CV 3/10] END .....................max_depth=11;, score=0.842 total time=   0.2s\n",
      "[CV 4/10] END .....................max_depth=11;, score=0.859 total time=   0.2s\n",
      "[CV 5/10] END .....................max_depth=11;, score=0.853 total time=   0.2s\n",
      "[CV 6/10] END .....................max_depth=11;, score=0.857 total time=   0.2s\n",
      "[CV 7/10] END .....................max_depth=11;, score=0.855 total time=   0.2s\n",
      "[CV 8/10] END .....................max_depth=11;, score=0.844 total time=   0.2s\n",
      "[CV 9/10] END .....................max_depth=11;, score=0.854 total time=   0.2s\n",
      "[CV 10/10] END ....................max_depth=11;, score=0.845 total time=   0.2s\n",
      "[CV 1/10] END .....................max_depth=13;, score=0.856 total time=   0.2s\n",
      "[CV 2/10] END .....................max_depth=13;, score=0.846 total time=   0.2s\n",
      "[CV 3/10] END .....................max_depth=13;, score=0.837 total time=   0.2s\n",
      "[CV 4/10] END .....................max_depth=13;, score=0.854 total time=   0.2s\n",
      "[CV 5/10] END .....................max_depth=13;, score=0.853 total time=   0.2s\n",
      "[CV 6/10] END .....................max_depth=13;, score=0.852 total time=   0.2s\n",
      "[CV 7/10] END .....................max_depth=13;, score=0.845 total time=   0.2s\n",
      "[CV 8/10] END .....................max_depth=13;, score=0.849 total time=   0.2s\n",
      "[CV 9/10] END .....................max_depth=13;, score=0.851 total time=   0.2s\n",
      "[CV 10/10] END ....................max_depth=13;, score=0.849 total time=   0.3s\n",
      "[CV 1/10] END .....................max_depth=15;, score=0.853 total time=   0.3s\n",
      "[CV 2/10] END .....................max_depth=15;, score=0.839 total time=   0.3s\n",
      "[CV 3/10] END .....................max_depth=15;, score=0.843 total time=   0.2s\n",
      "[CV 4/10] END .....................max_depth=15;, score=0.845 total time=   0.2s\n",
      "[CV 5/10] END .....................max_depth=15;, score=0.847 total time=   0.2s\n",
      "[CV 6/10] END .....................max_depth=15;, score=0.852 total time=   0.2s\n",
      "[CV 7/10] END .....................max_depth=15;, score=0.837 total time=   0.2s\n",
      "[CV 8/10] END .....................max_depth=15;, score=0.844 total time=   0.2s\n",
      "[CV 9/10] END .....................max_depth=15;, score=0.850 total time=   0.2s\n",
      "[CV 10/10] END ....................max_depth=15;, score=0.844 total time=   0.2s\n",
      "[CV 1/10] END .....................max_depth=17;, score=0.852 total time=   0.2s\n",
      "[CV 2/10] END .....................max_depth=17;, score=0.839 total time=   0.2s\n",
      "[CV 3/10] END .....................max_depth=17;, score=0.839 total time=   0.2s\n",
      "[CV 4/10] END .....................max_depth=17;, score=0.851 total time=   0.2s\n",
      "[CV 5/10] END .....................max_depth=17;, score=0.848 total time=   0.2s\n",
      "[CV 6/10] END .....................max_depth=17;, score=0.839 total time=   0.2s\n",
      "[CV 7/10] END .....................max_depth=17;, score=0.834 total time=   0.2s\n",
      "[CV 8/10] END .....................max_depth=17;, score=0.833 total time=   0.2s\n",
      "[CV 9/10] END .....................max_depth=17;, score=0.835 total time=   0.2s\n",
      "[CV 10/10] END ....................max_depth=17;, score=0.847 total time=   0.2s\n",
      "[CV 1/10] END .....................max_depth=19;, score=0.843 total time=   0.2s\n",
      "[CV 2/10] END .....................max_depth=19;, score=0.838 total time=   0.2s\n",
      "[CV 3/10] END .....................max_depth=19;, score=0.836 total time=   0.2s\n",
      "[CV 4/10] END .....................max_depth=19;, score=0.842 total time=   0.2s\n",
      "[CV 5/10] END .....................max_depth=19;, score=0.842 total time=   0.2s\n",
      "[CV 6/10] END .....................max_depth=19;, score=0.833 total time=   0.2s\n",
      "[CV 7/10] END .....................max_depth=19;, score=0.826 total time=   0.2s\n",
      "[CV 8/10] END .....................max_depth=19;, score=0.826 total time=   0.2s\n",
      "[CV 9/10] END .....................max_depth=19;, score=0.827 total time=   0.2s\n",
      "[CV 10/10] END ....................max_depth=19;, score=0.841 total time=   0.2s\n",
      "[CV 1/10] END .....................max_depth=21;, score=0.833 total time=   0.2s\n",
      "[CV 2/10] END .....................max_depth=21;, score=0.831 total time=   0.2s\n",
      "[CV 3/10] END .....................max_depth=21;, score=0.828 total time=   0.2s\n",
      "[CV 4/10] END .....................max_depth=21;, score=0.835 total time=   0.2s\n",
      "[CV 5/10] END .....................max_depth=21;, score=0.836 total time=   0.2s\n",
      "[CV 6/10] END .....................max_depth=21;, score=0.829 total time=   0.2s\n",
      "[CV 7/10] END .....................max_depth=21;, score=0.827 total time=   0.2s\n",
      "[CV 8/10] END .....................max_depth=21;, score=0.827 total time=   0.2s\n",
      "[CV 9/10] END .....................max_depth=21;, score=0.820 total time=   0.2s\n",
      "[CV 10/10] END ....................max_depth=21;, score=0.835 total time=   0.2s\n",
      "[CV 1/10] END .....................max_depth=23;, score=0.830 total time=   0.2s\n",
      "[CV 2/10] END .....................max_depth=23;, score=0.823 total time=   0.2s\n",
      "[CV 3/10] END .....................max_depth=23;, score=0.824 total time=   0.2s\n",
      "[CV 4/10] END .....................max_depth=23;, score=0.829 total time=   0.2s\n",
      "[CV 5/10] END .....................max_depth=23;, score=0.837 total time=   0.2s\n",
      "[CV 6/10] END .....................max_depth=23;, score=0.823 total time=   0.2s\n",
      "[CV 7/10] END .....................max_depth=23;, score=0.824 total time=   0.2s\n",
      "[CV 8/10] END .....................max_depth=23;, score=0.826 total time=   0.2s\n",
      "[CV 9/10] END .....................max_depth=23;, score=0.817 total time=   0.3s\n",
      "[CV 10/10] END ....................max_depth=23;, score=0.832 total time=   0.2s\n",
      "[CV 1/10] END .....................max_depth=25;, score=0.823 total time=   0.2s\n",
      "[CV 2/10] END .....................max_depth=25;, score=0.823 total time=   0.2s\n",
      "[CV 3/10] END .....................max_depth=25;, score=0.818 total time=   0.2s\n",
      "[CV 4/10] END .....................max_depth=25;, score=0.828 total time=   0.2s\n",
      "[CV 5/10] END .....................max_depth=25;, score=0.830 total time=   0.3s\n",
      "[CV 6/10] END .....................max_depth=25;, score=0.822 total time=   0.3s\n",
      "[CV 7/10] END .....................max_depth=25;, score=0.819 total time=   0.2s\n",
      "[CV 8/10] END .....................max_depth=25;, score=0.817 total time=   0.3s\n",
      "[CV 9/10] END .....................max_depth=25;, score=0.811 total time=   0.2s\n",
      "[CV 10/10] END ....................max_depth=25;, score=0.821 total time=   0.2s\n",
      "[CV 1/10] END .....................max_depth=27;, score=0.826 total time=   0.2s\n",
      "[CV 2/10] END .....................max_depth=27;, score=0.824 total time=   0.3s\n",
      "[CV 3/10] END .....................max_depth=27;, score=0.815 total time=   0.3s\n",
      "[CV 4/10] END .....................max_depth=27;, score=0.828 total time=   0.2s\n",
      "[CV 5/10] END .....................max_depth=27;, score=0.826 total time=   0.3s\n",
      "[CV 6/10] END .....................max_depth=27;, score=0.814 total time=   0.2s\n",
      "[CV 7/10] END .....................max_depth=27;, score=0.824 total time=   0.2s\n",
      "[CV 8/10] END .....................max_depth=27;, score=0.814 total time=   0.2s\n",
      "[CV 9/10] END .....................max_depth=27;, score=0.811 total time=   0.3s\n",
      "[CV 10/10] END ....................max_depth=27;, score=0.821 total time=   0.3s\n",
      "[CV 1/10] END .....................max_depth=29;, score=0.818 total time=   0.3s\n",
      "[CV 2/10] END .....................max_depth=29;, score=0.821 total time=   0.3s\n",
      "[CV 3/10] END .....................max_depth=29;, score=0.811 total time=   0.2s\n",
      "[CV 4/10] END .....................max_depth=29;, score=0.829 total time=   0.2s\n",
      "[CV 5/10] END .....................max_depth=29;, score=0.818 total time=   0.3s\n",
      "[CV 6/10] END .....................max_depth=29;, score=0.820 total time=   0.3s\n",
      "[CV 7/10] END .....................max_depth=29;, score=0.821 total time=   0.2s\n",
      "[CV 8/10] END .....................max_depth=29;, score=0.817 total time=   0.2s\n",
      "[CV 9/10] END .....................max_depth=29;, score=0.812 total time=   0.2s\n",
      "[CV 10/10] END ....................max_depth=29;, score=0.824 total time=   0.2s\n",
      "[CV 1/10] END .....................max_depth=31;, score=0.821 total time=   0.3s\n",
      "[CV 2/10] END .....................max_depth=31;, score=0.816 total time=   0.3s\n",
      "[CV 3/10] END .....................max_depth=31;, score=0.814 total time=   0.3s\n",
      "[CV 4/10] END .....................max_depth=31;, score=0.824 total time=   0.3s\n",
      "[CV 5/10] END .....................max_depth=31;, score=0.817 total time=   0.3s\n",
      "[CV 6/10] END .....................max_depth=31;, score=0.816 total time=   0.2s\n",
      "[CV 7/10] END .....................max_depth=31;, score=0.816 total time=   0.2s\n",
      "[CV 8/10] END .....................max_depth=31;, score=0.815 total time=   0.3s\n",
      "[CV 9/10] END .....................max_depth=31;, score=0.806 total time=   0.2s\n",
      "[CV 10/10] END ....................max_depth=31;, score=0.821 total time=   0.2s\n",
      "[CV 1/10] END .....................max_depth=33;, score=0.825 total time=   0.2s\n",
      "[CV 2/10] END .....................max_depth=33;, score=0.819 total time=   0.3s\n",
      "[CV 3/10] END .....................max_depth=33;, score=0.810 total time=   0.3s\n",
      "[CV 4/10] END .....................max_depth=33;, score=0.824 total time=   0.3s\n",
      "[CV 5/10] END .....................max_depth=33;, score=0.815 total time=   0.3s\n",
      "[CV 6/10] END .....................max_depth=33;, score=0.810 total time=   0.2s\n",
      "[CV 7/10] END .....................max_depth=33;, score=0.822 total time=   0.2s\n",
      "[CV 8/10] END .....................max_depth=33;, score=0.809 total time=   0.3s\n",
      "[CV 9/10] END .....................max_depth=33;, score=0.809 total time=   0.3s\n",
      "[CV 10/10] END ....................max_depth=33;, score=0.819 total time=   0.2s\n",
      "[CV 1/10] END .....................max_depth=35;, score=0.820 total time=   0.3s\n",
      "[CV 2/10] END .....................max_depth=35;, score=0.819 total time=   0.2s\n",
      "[CV 3/10] END .....................max_depth=35;, score=0.811 total time=   0.3s\n",
      "[CV 4/10] END .....................max_depth=35;, score=0.826 total time=   0.3s\n",
      "[CV 5/10] END .....................max_depth=35;, score=0.815 total time=   0.3s\n",
      "[CV 6/10] END .....................max_depth=35;, score=0.813 total time=   0.3s\n",
      "[CV 7/10] END .....................max_depth=35;, score=0.819 total time=   0.2s\n",
      "[CV 8/10] END .....................max_depth=35;, score=0.809 total time=   0.3s\n",
      "[CV 9/10] END .....................max_depth=35;, score=0.803 total time=   0.3s\n",
      "[CV 10/10] END ....................max_depth=35;, score=0.817 total time=   0.2s\n",
      "[CV 1/10] END .....................max_depth=37;, score=0.823 total time=   0.3s\n",
      "[CV 2/10] END .....................max_depth=37;, score=0.817 total time=   0.3s\n",
      "[CV 3/10] END .....................max_depth=37;, score=0.808 total time=   0.3s\n",
      "[CV 4/10] END .....................max_depth=37;, score=0.825 total time=   0.3s\n",
      "[CV 5/10] END .....................max_depth=37;, score=0.816 total time=   0.3s\n",
      "[CV 6/10] END .....................max_depth=37;, score=0.805 total time=   0.3s\n",
      "[CV 7/10] END .....................max_depth=37;, score=0.816 total time=   0.3s\n",
      "[CV 8/10] END .....................max_depth=37;, score=0.808 total time=   0.3s\n",
      "[CV 9/10] END .....................max_depth=37;, score=0.803 total time=   0.3s\n",
      "[CV 10/10] END ....................max_depth=37;, score=0.823 total time=   0.2s\n",
      "[CV 1/10] END .....................max_depth=39;, score=0.818 total time=   0.2s\n",
      "[CV 2/10] END .....................max_depth=39;, score=0.818 total time=   0.3s\n",
      "[CV 3/10] END .....................max_depth=39;, score=0.807 total time=   0.3s\n",
      "[CV 4/10] END .....................max_depth=39;, score=0.825 total time=   0.3s\n",
      "[CV 5/10] END .....................max_depth=39;, score=0.811 total time=   0.3s\n",
      "[CV 6/10] END .....................max_depth=39;, score=0.809 total time=   0.3s\n",
      "[CV 7/10] END .....................max_depth=39;, score=0.815 total time=   0.3s\n",
      "[CV 8/10] END .....................max_depth=39;, score=0.811 total time=   0.3s\n",
      "[CV 9/10] END .....................max_depth=39;, score=0.805 total time=   0.3s\n",
      "[CV 10/10] END ....................max_depth=39;, score=0.819 total time=   0.2s\n"
     ]
    },
    {
     "data": {
      "text/plain": [
       "GridSearchCV(cv=10, estimator=DecisionTreeClassifier(random_state=1),\n",
       "             param_grid={'max_depth': array([ 5,  7,  9, 11, 13, 15, 17, 19, 21, 23, 25, 27, 29, 31, 33, 35, 37,\n",
       "       39])},\n",
       "             scoring='accuracy', verbose=3)"
      ]
     },
     "execution_count": 17,
     "metadata": {},
     "output_type": "execute_result"
    }
   ],
   "source": [
    "#Grid search decision trees\n",
    "param_grid = {\"max_depth\": np.arange(5, 40, 2)}\n",
    "\n",
    "grid_dt = GridSearchCV(estimator=DecisionTreeClassifier(random_state=1), \n",
    "                        param_grid=param_grid, scoring=\"accuracy\", cv = 10, verbose = 3)\n",
    "\n",
    "grid_dt.fit(X_train, y_train)"
   ]
  },
  {
   "cell_type": "markdown",
   "id": "049ea670",
   "metadata": {},
   "source": [
    "Best params "
   ]
  },
  {
   "cell_type": "code",
   "execution_count": 18,
   "id": "3904804e",
   "metadata": {},
   "outputs": [
    {
     "data": {
      "text/plain": [
       "{'max_depth': 9}"
      ]
     },
     "execution_count": 18,
     "metadata": {},
     "output_type": "execute_result"
    }
   ],
   "source": [
    "grid_dt.best_params_"
   ]
  },
  {
   "cell_type": "markdown",
   "id": "1746c4c1",
   "metadata": {},
   "source": [
    "Best score"
   ]
  },
  {
   "cell_type": "code",
   "execution_count": 19,
   "id": "8e281aa2",
   "metadata": {},
   "outputs": [
    {
     "data": {
      "text/plain": [
       "0.8553644553644553"
      ]
     },
     "execution_count": 19,
     "metadata": {},
     "output_type": "execute_result"
    }
   ],
   "source": [
    "grid_dt.best_score_"
   ]
  },
  {
   "cell_type": "markdown",
   "id": "4da8ef7d",
   "metadata": {},
   "source": [
    "Grab best dt model"
   ]
  },
  {
   "cell_type": "code",
   "execution_count": 20,
   "id": "bb7cc497",
   "metadata": {},
   "outputs": [],
   "source": [
    "best_dt = grid_dt.best_estimator_"
   ]
  },
  {
   "cell_type": "markdown",
   "id": "d6b179cf",
   "metadata": {},
   "source": [
    "Make predictions on training and validation sets"
   ]
  },
  {
   "cell_type": "code",
   "execution_count": 21,
   "id": "06731d9f",
   "metadata": {},
   "outputs": [],
   "source": [
    "train_dt_preds = best_dt.predict(X_train)\n",
    "valid_dt_preds = best_dt.predict(X_valid)"
   ]
  },
  {
   "cell_type": "code",
   "execution_count": 22,
   "id": "123fe263",
   "metadata": {},
   "outputs": [
    {
     "data": {
      "text/html": [
       "<div>\n",
       "<style scoped>\n",
       "    .dataframe tbody tr th:only-of-type {\n",
       "        vertical-align: middle;\n",
       "    }\n",
       "\n",
       "    .dataframe tbody tr th {\n",
       "        vertical-align: top;\n",
       "    }\n",
       "\n",
       "    .dataframe thead th {\n",
       "        text-align: right;\n",
       "    }\n",
       "</style>\n",
       "<table border=\"1\" class=\"dataframe\">\n",
       "  <thead>\n",
       "    <tr style=\"text-align: right;\">\n",
       "      <th></th>\n",
       "      <th>Training</th>\n",
       "      <th>Testing</th>\n",
       "    </tr>\n",
       "  </thead>\n",
       "  <tbody>\n",
       "    <tr>\n",
       "      <th>Accuracy Score</th>\n",
       "      <td>0.866830</td>\n",
       "      <td>0.852966</td>\n",
       "    </tr>\n",
       "    <tr>\n",
       "      <th>Precision Score</th>\n",
       "      <td>0.836965</td>\n",
       "      <td>0.792786</td>\n",
       "    </tr>\n",
       "    <tr>\n",
       "      <th>Recall</th>\n",
       "      <td>0.555178</td>\n",
       "      <td>0.527041</td>\n",
       "    </tr>\n",
       "    <tr>\n",
       "      <th>F1 Score</th>\n",
       "      <td>0.667553</td>\n",
       "      <td>0.633160</td>\n",
       "    </tr>\n",
       "  </tbody>\n",
       "</table>\n",
       "</div>"
      ],
      "text/plain": [
       "                 Training   Testing\n",
       "Accuracy Score   0.866830  0.852966\n",
       "Precision Score  0.836965  0.792786\n",
       "Recall           0.555178  0.527041\n",
       "F1 Score         0.667553  0.633160"
      ]
     },
     "execution_count": 22,
     "metadata": {},
     "output_type": "execute_result"
    }
   ],
   "source": [
    "dt_performance = model_eval(y_train, y_valid, train_dt_preds, valid_dt_preds)\n",
    "dt_performance"
   ]
  },
  {
   "cell_type": "markdown",
   "id": "146d448c",
   "metadata": {},
   "source": [
    "The DT model has virtually the same accuracy score as KNN, but has a much better precision score and worse recall score.\n",
    "\n",
    "Decision trees are better at minimizing the false positives (people classified as low income but not) while KNN is better at minimizing the false negatives (people classified as high income but not)."
   ]
  },
  {
   "cell_type": "code",
   "execution_count": null,
   "id": "16075e26",
   "metadata": {},
   "outputs": [],
   "source": []
  },
  {
   "cell_type": "code",
   "execution_count": null,
   "id": "d6e33df8",
   "metadata": {},
   "outputs": [],
   "source": []
  },
  {
   "cell_type": "markdown",
   "id": "c96588db",
   "metadata": {},
   "source": [
    "### Stacking\n",
    "\n",
    "In this part we are going to combine our two KNN and DT models along with a logisic regression which will be our final estimator."
   ]
  },
  {
   "cell_type": "markdown",
   "id": "ba231aec",
   "metadata": {},
   "source": [
    "Collect models into list of tuple pairs."
   ]
  },
  {
   "cell_type": "code",
   "execution_count": 23,
   "id": "f20f2fcc",
   "metadata": {},
   "outputs": [],
   "source": [
    "models = [(\"knn\", best_knn),\n",
    "         (\"dt\", best_dt)]"
   ]
  },
  {
   "cell_type": "markdown",
   "id": "8989d94e",
   "metadata": {},
   "source": [
    "Intialize stacking classifier"
   ]
  },
  {
   "cell_type": "code",
   "execution_count": 31,
   "id": "0556b83a",
   "metadata": {},
   "outputs": [],
   "source": [
    "stack = StackingClassifier(estimators=models, final_estimator=LogisticRegression(random_state=1))"
   ]
  },
  {
   "cell_type": "markdown",
   "id": "e9c15f93",
   "metadata": {},
   "source": [
    "Fit model on training data"
   ]
  },
  {
   "cell_type": "code",
   "execution_count": 32,
   "id": "803e5f83",
   "metadata": {},
   "outputs": [
    {
     "data": {
      "text/plain": [
       "StackingClassifier(estimators=[('knn', KNeighborsClassifier(n_neighbors=17)),\n",
       "                               ('dt',\n",
       "                                DecisionTreeClassifier(max_depth=9,\n",
       "                                                       random_state=1))],\n",
       "                   final_estimator=LogisticRegression(random_state=1))"
      ]
     },
     "execution_count": 32,
     "metadata": {},
     "output_type": "execute_result"
    }
   ],
   "source": [
    "stack.fit(X_train, y_train)"
   ]
  },
  {
   "cell_type": "markdown",
   "id": "c7f60e8c",
   "metadata": {},
   "source": [
    "Classify training and validation datasets"
   ]
  },
  {
   "cell_type": "code",
   "execution_count": 33,
   "id": "757d2670",
   "metadata": {},
   "outputs": [],
   "source": [
    "train_stack_preds = stack.predict(X_train)\n",
    "valid_stack_preds = stack.predict(X_valid)"
   ]
  },
  {
   "cell_type": "code",
   "execution_count": 34,
   "id": "963ed57b",
   "metadata": {},
   "outputs": [
    {
     "data": {
      "text/html": [
       "<div>\n",
       "<style scoped>\n",
       "    .dataframe tbody tr th:only-of-type {\n",
       "        vertical-align: middle;\n",
       "    }\n",
       "\n",
       "    .dataframe tbody tr th {\n",
       "        vertical-align: top;\n",
       "    }\n",
       "\n",
       "    .dataframe thead th {\n",
       "        text-align: right;\n",
       "    }\n",
       "</style>\n",
       "<table border=\"1\" class=\"dataframe\">\n",
       "  <thead>\n",
       "    <tr style=\"text-align: right;\">\n",
       "      <th></th>\n",
       "      <th>Training</th>\n",
       "      <th>Testing</th>\n",
       "    </tr>\n",
       "  </thead>\n",
       "  <tbody>\n",
       "    <tr>\n",
       "      <th>Accuracy Score</th>\n",
       "      <td>0.876986</td>\n",
       "      <td>0.860459</td>\n",
       "    </tr>\n",
       "    <tr>\n",
       "      <th>Precision Score</th>\n",
       "      <td>0.804316</td>\n",
       "      <td>0.757500</td>\n",
       "    </tr>\n",
       "    <tr>\n",
       "      <th>Recall</th>\n",
       "      <td>0.646489</td>\n",
       "      <td>0.618367</td>\n",
       "    </tr>\n",
       "    <tr>\n",
       "      <th>F1 Score</th>\n",
       "      <td>0.716817</td>\n",
       "      <td>0.680899</td>\n",
       "    </tr>\n",
       "  </tbody>\n",
       "</table>\n",
       "</div>"
      ],
      "text/plain": [
       "                 Training   Testing\n",
       "Accuracy Score   0.876986  0.860459\n",
       "Precision Score  0.804316  0.757500\n",
       "Recall           0.646489  0.618367\n",
       "F1 Score         0.716817  0.680899"
      ]
     },
     "execution_count": 34,
     "metadata": {},
     "output_type": "execute_result"
    }
   ],
   "source": [
    "stack_performance = model_eval(y_train, y_valid, train_stack_preds, valid_stack_preds)\n",
    "stack_performance"
   ]
  },
  {
   "cell_type": "markdown",
   "id": "6af655fe",
   "metadata": {},
   "source": [
    "Let's compare this with the knn and dt results."
   ]
  },
  {
   "cell_type": "code",
   "execution_count": 35,
   "id": "2fe89eff",
   "metadata": {},
   "outputs": [
    {
     "data": {
      "text/html": [
       "<div>\n",
       "<style scoped>\n",
       "    .dataframe tbody tr th:only-of-type {\n",
       "        vertical-align: middle;\n",
       "    }\n",
       "\n",
       "    .dataframe tbody tr th {\n",
       "        vertical-align: top;\n",
       "    }\n",
       "\n",
       "    .dataframe thead th {\n",
       "        text-align: right;\n",
       "    }\n",
       "</style>\n",
       "<table border=\"1\" class=\"dataframe\">\n",
       "  <thead>\n",
       "    <tr style=\"text-align: right;\">\n",
       "      <th></th>\n",
       "      <th>Training</th>\n",
       "      <th>Testing</th>\n",
       "    </tr>\n",
       "  </thead>\n",
       "  <tbody>\n",
       "    <tr>\n",
       "      <th>Accuracy Score</th>\n",
       "      <td>0.859951</td>\n",
       "      <td>0.846088</td>\n",
       "    </tr>\n",
       "    <tr>\n",
       "      <th>Precision Score</th>\n",
       "      <td>0.745854</td>\n",
       "      <td>0.705643</td>\n",
       "    </tr>\n",
       "    <tr>\n",
       "      <th>Recall</th>\n",
       "      <td>0.634756</td>\n",
       "      <td>0.618878</td>\n",
       "    </tr>\n",
       "    <tr>\n",
       "      <th>F1 Score</th>\n",
       "      <td>0.685835</td>\n",
       "      <td>0.659418</td>\n",
       "    </tr>\n",
       "  </tbody>\n",
       "</table>\n",
       "</div>"
      ],
      "text/plain": [
       "                 Training   Testing\n",
       "Accuracy Score   0.859951  0.846088\n",
       "Precision Score  0.745854  0.705643\n",
       "Recall           0.634756  0.618878\n",
       "F1 Score         0.685835  0.659418"
      ]
     },
     "execution_count": 35,
     "metadata": {},
     "output_type": "execute_result"
    }
   ],
   "source": [
    "knn_performance"
   ]
  },
  {
   "cell_type": "code",
   "execution_count": 36,
   "id": "f566a326",
   "metadata": {},
   "outputs": [
    {
     "data": {
      "text/html": [
       "<div>\n",
       "<style scoped>\n",
       "    .dataframe tbody tr th:only-of-type {\n",
       "        vertical-align: middle;\n",
       "    }\n",
       "\n",
       "    .dataframe tbody tr th {\n",
       "        vertical-align: top;\n",
       "    }\n",
       "\n",
       "    .dataframe thead th {\n",
       "        text-align: right;\n",
       "    }\n",
       "</style>\n",
       "<table border=\"1\" class=\"dataframe\">\n",
       "  <thead>\n",
       "    <tr style=\"text-align: right;\">\n",
       "      <th></th>\n",
       "      <th>Training</th>\n",
       "      <th>Testing</th>\n",
       "    </tr>\n",
       "  </thead>\n",
       "  <tbody>\n",
       "    <tr>\n",
       "      <th>Accuracy Score</th>\n",
       "      <td>0.866830</td>\n",
       "      <td>0.852966</td>\n",
       "    </tr>\n",
       "    <tr>\n",
       "      <th>Precision Score</th>\n",
       "      <td>0.836965</td>\n",
       "      <td>0.792786</td>\n",
       "    </tr>\n",
       "    <tr>\n",
       "      <th>Recall</th>\n",
       "      <td>0.555178</td>\n",
       "      <td>0.527041</td>\n",
       "    </tr>\n",
       "    <tr>\n",
       "      <th>F1 Score</th>\n",
       "      <td>0.667553</td>\n",
       "      <td>0.633160</td>\n",
       "    </tr>\n",
       "  </tbody>\n",
       "</table>\n",
       "</div>"
      ],
      "text/plain": [
       "                 Training   Testing\n",
       "Accuracy Score   0.866830  0.852966\n",
       "Precision Score  0.836965  0.792786\n",
       "Recall           0.555178  0.527041\n",
       "F1 Score         0.667553  0.633160"
      ]
     },
     "execution_count": 36,
     "metadata": {},
     "output_type": "execute_result"
    }
   ],
   "source": [
    "dt_performance"
   ]
  },
  {
   "cell_type": "markdown",
   "id": "8e9c0433",
   "metadata": {},
   "source": [
    "The stacked model:\n",
    "\n",
    "   - Showed improvement in the f1 scores.\n",
    "   - Not much improvement over the two other accuracy scores.\n",
    "   - Has virtually the same recall score as knn.\n",
    "   - But has a worse precision score than dt\n",
    "    "
   ]
  },
  {
   "cell_type": "markdown",
   "id": "27b9848e",
   "metadata": {},
   "source": [
    "Save model"
   ]
  },
  {
   "cell_type": "code",
   "execution_count": 37,
   "id": "7940db6c",
   "metadata": {},
   "outputs": [
    {
     "data": {
      "text/plain": [
       "['../models/george_stack_model.joblib']"
      ]
     },
     "execution_count": 37,
     "metadata": {},
     "output_type": "execute_result"
    }
   ],
   "source": [
    "joblib.dump(stack, filename=\"../models/george_stack_model.joblib\")"
   ]
  },
  {
   "cell_type": "code",
   "execution_count": null,
   "id": "9247585d",
   "metadata": {},
   "outputs": [],
   "source": []
  },
  {
   "cell_type": "markdown",
   "id": "16d032de-69c2-4e4b-9f98-7734b40e5a97",
   "metadata": {},
   "source": [
    "### Modeling Version 4 -- Winston"
   ]
  },
  {
   "cell_type": "code",
   "execution_count": null,
   "id": "d63ce651-b288-4fe9-a788-e488d6389aa1",
   "metadata": {},
   "outputs": [],
   "source": []
  }
 ],
 "metadata": {
  "kernelspec": {
   "display_name": "Python 3 (ipykernel)",
   "language": "python",
   "name": "python3"
  },
  "language_info": {
   "codemirror_mode": {
    "name": "ipython",
    "version": 3
   },
   "file_extension": ".py",
   "mimetype": "text/x-python",
   "name": "python",
   "nbconvert_exporter": "python",
   "pygments_lexer": "ipython3",
   "version": "3.9.9"
  }
 },
 "nbformat": 4,
 "nbformat_minor": 5
}
