{
 "cells": [
  {
   "cell_type": "markdown",
   "id": "415f0435-f732-4621-8db1-29d3ef21a510",
   "metadata": {},
   "source": [
    "# EDA"
   ]
  },
  {
   "cell_type": "markdown",
   "id": "54e0c51e-ddaf-4cb8-a6fe-1395b6af17f1",
   "metadata": {},
   "source": [
    "### EDA Version 1 -- Kavin"
   ]
  },
  {
   "cell_type": "code",
   "execution_count": 25,
   "id": "cd4a7b31-5654-47cc-ab3e-771262959281",
   "metadata": {},
   "outputs": [],
   "source": [
    "import numpy as np\n",
    "import pandas as pd\n",
    "import seaborn as sns\n",
    "import matplotlib.pyplot as plt\n",
    "%matplotlib inline"
   ]
  },
  {
   "cell_type": "code",
   "execution_count": 33,
   "id": "a7e930fc-75f2-4d3a-9ae5-b41a214ab2f3",
   "metadata": {},
   "outputs": [
    {
     "data": {
      "text/html": [
       "<div>\n",
       "<style scoped>\n",
       "    .dataframe tbody tr th:only-of-type {\n",
       "        vertical-align: middle;\n",
       "    }\n",
       "\n",
       "    .dataframe tbody tr th {\n",
       "        vertical-align: top;\n",
       "    }\n",
       "\n",
       "    .dataframe thead th {\n",
       "        text-align: right;\n",
       "    }\n",
       "</style>\n",
       "<table border=\"1\" class=\"dataframe\">\n",
       "  <thead>\n",
       "    <tr style=\"text-align: right;\">\n",
       "      <th></th>\n",
       "      <th>age</th>\n",
       "      <th>workclass</th>\n",
       "      <th>fnlwgt</th>\n",
       "      <th>education</th>\n",
       "      <th>education-num</th>\n",
       "      <th>marital-status</th>\n",
       "      <th>occupation</th>\n",
       "      <th>relationship</th>\n",
       "      <th>race</th>\n",
       "      <th>sex</th>\n",
       "      <th>capital-gain</th>\n",
       "      <th>capital-loss</th>\n",
       "      <th>hours-per-week</th>\n",
       "      <th>native-country</th>\n",
       "      <th>income</th>\n",
       "    </tr>\n",
       "  </thead>\n",
       "  <tbody>\n",
       "    <tr>\n",
       "      <th>0</th>\n",
       "      <td>39</td>\n",
       "      <td>State-gov</td>\n",
       "      <td>77516</td>\n",
       "      <td>Bachelors</td>\n",
       "      <td>13</td>\n",
       "      <td>Never-married</td>\n",
       "      <td>Adm-clerical</td>\n",
       "      <td>Not-in-family</td>\n",
       "      <td>White</td>\n",
       "      <td>Male</td>\n",
       "      <td>2174</td>\n",
       "      <td>0</td>\n",
       "      <td>40</td>\n",
       "      <td>United-States</td>\n",
       "      <td>&lt;=50K</td>\n",
       "    </tr>\n",
       "    <tr>\n",
       "      <th>1</th>\n",
       "      <td>50</td>\n",
       "      <td>Self-emp-not-inc</td>\n",
       "      <td>83311</td>\n",
       "      <td>Bachelors</td>\n",
       "      <td>13</td>\n",
       "      <td>Married-civ-spouse</td>\n",
       "      <td>Exec-managerial</td>\n",
       "      <td>Husband</td>\n",
       "      <td>White</td>\n",
       "      <td>Male</td>\n",
       "      <td>0</td>\n",
       "      <td>0</td>\n",
       "      <td>13</td>\n",
       "      <td>United-States</td>\n",
       "      <td>&lt;=50K</td>\n",
       "    </tr>\n",
       "    <tr>\n",
       "      <th>2</th>\n",
       "      <td>38</td>\n",
       "      <td>Private</td>\n",
       "      <td>215646</td>\n",
       "      <td>HS-grad</td>\n",
       "      <td>9</td>\n",
       "      <td>Divorced</td>\n",
       "      <td>Handlers-cleaners</td>\n",
       "      <td>Not-in-family</td>\n",
       "      <td>White</td>\n",
       "      <td>Male</td>\n",
       "      <td>0</td>\n",
       "      <td>0</td>\n",
       "      <td>40</td>\n",
       "      <td>United-States</td>\n",
       "      <td>&lt;=50K</td>\n",
       "    </tr>\n",
       "    <tr>\n",
       "      <th>3</th>\n",
       "      <td>53</td>\n",
       "      <td>Private</td>\n",
       "      <td>234721</td>\n",
       "      <td>11th</td>\n",
       "      <td>7</td>\n",
       "      <td>Married-civ-spouse</td>\n",
       "      <td>Handlers-cleaners</td>\n",
       "      <td>Husband</td>\n",
       "      <td>Black</td>\n",
       "      <td>Male</td>\n",
       "      <td>0</td>\n",
       "      <td>0</td>\n",
       "      <td>40</td>\n",
       "      <td>United-States</td>\n",
       "      <td>&lt;=50K</td>\n",
       "    </tr>\n",
       "    <tr>\n",
       "      <th>4</th>\n",
       "      <td>28</td>\n",
       "      <td>Private</td>\n",
       "      <td>338409</td>\n",
       "      <td>Bachelors</td>\n",
       "      <td>13</td>\n",
       "      <td>Married-civ-spouse</td>\n",
       "      <td>Prof-specialty</td>\n",
       "      <td>Wife</td>\n",
       "      <td>Black</td>\n",
       "      <td>Female</td>\n",
       "      <td>0</td>\n",
       "      <td>0</td>\n",
       "      <td>40</td>\n",
       "      <td>Cuba</td>\n",
       "      <td>&lt;=50K</td>\n",
       "    </tr>\n",
       "  </tbody>\n",
       "</table>\n",
       "</div>"
      ],
      "text/plain": [
       "   age          workclass  fnlwgt   education  education-num  \\\n",
       "0   39          State-gov   77516   Bachelors             13   \n",
       "1   50   Self-emp-not-inc   83311   Bachelors             13   \n",
       "2   38            Private  215646     HS-grad              9   \n",
       "3   53            Private  234721        11th              7   \n",
       "4   28            Private  338409   Bachelors             13   \n",
       "\n",
       "        marital-status          occupation    relationship    race      sex  \\\n",
       "0        Never-married        Adm-clerical   Not-in-family   White     Male   \n",
       "1   Married-civ-spouse     Exec-managerial         Husband   White     Male   \n",
       "2             Divorced   Handlers-cleaners   Not-in-family   White     Male   \n",
       "3   Married-civ-spouse   Handlers-cleaners         Husband   Black     Male   \n",
       "4   Married-civ-spouse      Prof-specialty            Wife   Black   Female   \n",
       "\n",
       "   capital-gain  capital-loss  hours-per-week  native-country  income  \n",
       "0          2174             0              40   United-States   <=50K  \n",
       "1             0             0              13   United-States   <=50K  \n",
       "2             0             0              40   United-States   <=50K  \n",
       "3             0             0              40   United-States   <=50K  \n",
       "4             0             0              40            Cuba   <=50K  "
      ]
     },
     "execution_count": 33,
     "metadata": {},
     "output_type": "execute_result"
    }
   ],
   "source": [
    "#data read + process\n",
    "df = pd.read_csv(\"data/\" + \"adult.data\", \n",
    "            index_col=False, \n",
    "            names=['age', \n",
    "                   'workclass', \n",
    "                   'fnlwgt', \n",
    "                   'education', \n",
    "                   'education-num', \n",
    "                   'marital-status', \n",
    "                   'occupation', \n",
    "                   'relationship', \n",
    "                   'race', \n",
    "                   'sex', \n",
    "                   'capital-gain', \n",
    "                   'capital-loss',\n",
    "                   'hours-per-week',\n",
    "                   'native-country',\n",
    "                   'income'])\n",
    "\n",
    "df.head()"
   ]
  },
  {
   "cell_type": "markdown",
   "id": "a256981f-659f-42fa-add4-c2199bfb2da3",
   "metadata": {},
   "source": [
    "#### First Visual"
   ]
  },
  {
   "cell_type": "markdown",
   "id": "218625db-3e65-44c9-bc19-a072d6883505",
   "metadata": {},
   "source": [
    "For my first visual, I will look at the relationship between years of education and income levels. \n",
    "\n",
    "Given how we are comparing a continuous variable with a categorical variable, I will use a boxplot."
   ]
  },
  {
   "cell_type": "code",
   "execution_count": 43,
   "id": "4409a00e-7a6e-4544-981a-2cd3feb13643",
   "metadata": {},
   "outputs": [
    {
     "data": {
      "image/png": "[encoded data removed]",
      "text/plain": [
       "<Figure size 432x288 with 1 Axes>"
      ]
     },
     "metadata": {
      "needs_background": "light"
     },
     "output_type": "display_data"
    }
   ],
   "source": [
    "ax = sns.boxplot(x=\"income\", y=\"education-num\", data=df)\n",
    "ax.set_title(\"Income vs. Number of Years Educated\")\n",
    "ax.set_xlabel('Income')\n",
    "ax.set_ylabel('Number of Years Educated');"
   ]
  },
  {
   "cell_type": "markdown",
   "id": "94529f1b-a154-429f-aeed-159358c4d696",
   "metadata": {},
   "source": [
    "This is super interesting. It looks like people with higher incomes (>50k) tend to have a higher amount of education, but there is not much of a correlation between having a lower income and any number of years spent in education."
   ]
  },
  {
   "cell_type": "markdown",
   "id": "7cb951e0-75fa-4416-a92c-a52f5407003a",
   "metadata": {},
   "source": [
    "#### Second Visual"
   ]
  },
  {
   "cell_type": "markdown",
   "id": "68985287-cce1-4a38-80d8-df41233558f4",
   "metadata": {},
   "source": [
    "For my next visual, I will look at the relationship between the type of employer (workclass) and income."
   ]
  },
  {
   "cell_type": "markdown",
   "id": "b2d0ddb2-0d3a-49e2-ba0a-222b434b622b",
   "metadata": {},
   "source": [
    "Given how we are comparing a categorical variable with a categorical variable, I will use a histplot."
   ]
  },
  {
   "cell_type": "code",
   "execution_count": 50,
   "id": "0abb9687-730d-4474-9532-cff80e9eb724",
   "metadata": {},
   "outputs": [
    {
     "data": {
      "text/plain": [
       "Text(0.5, 0, 'Income')"
      ]
     },
     "execution_count": 50,
     "metadata": {},
     "output_type": "execute_result"
    },
    {
     "data": {
      "image/png": "[encoded data removed]",
      "text/plain": [
       "<Figure size 432x288 with 1 Axes>"
      ]
     },
     "metadata": {
      "needs_background": "light"
     },
     "output_type": "display_data"
    }
   ],
   "source": [
    "ax = sns.histplot(binwidth=0.5, x=\"income\", hue=\"workclass\", data=df, stat=\"density\", multiple=\"stack\")\n",
    "ax.set_title(\"Income vs. Type of Employer\")\n",
    "ax.set_xlabel('Income')"
   ]
  },
  {
   "cell_type": "markdown",
   "id": "b2c0fa62-c352-4a5a-9190-84b142b8be18",
   "metadata": {},
   "source": [
    "As is to be expected, private employers make up most of the employers. My biggest take away is that most people employed are going to be lower income (<=50k) earners by virtue of how the global economy works. On that note, the distributions of type of employer seem to be the similar across lower income earners (<=50k) and higher income earners (>50k), with the exception that government positions are less prominent among higher earners (>50k)."
   ]
  },
  {
   "cell_type": "markdown",
   "id": "1a0c68bd-995a-423d-9a1e-fb924abb0152",
   "metadata": {},
   "source": [
    "### EDA Version 2 -- Naomi"
   ]
  },
  {
   "cell_type": "code",
   "execution_count": 2,
   "id": "aa76218c-c220-4a30-8a3d-102f76955471",
   "metadata": {},
   "outputs": [
    {
     "data": {
      "text/plain": [
       "Ellipsis"
      ]
     },
     "execution_count": 2,
     "metadata": {},
     "output_type": "execute_result"
    }
   ],
   "source": [
    "..."
   ]
  },
  {
   "cell_type": "markdown",
   "id": "503dc053-5601-454b-aeff-8890ec2476cd",
   "metadata": {},
   "source": [
    "### EDA Version 3 -- George"
   ]
  },
  {
   "cell_type": "code",
   "execution_count": null,
   "id": "90347fe9-0845-4249-ad60-4b79d8879e42",
   "metadata": {},
   "outputs": [],
   "source": [
    "..."
   ]
  },
  {
   "cell_type": "markdown",
   "id": "603c79e8-a2e4-4704-8514-981a06089132",
   "metadata": {},
   "source": [
    "### EDA Version 4 -- Winston"
   ]
  },
  {
   "cell_type": "code",
   "execution_count": 3,
   "id": "9c81dc17-cb90-44cf-817c-df0a0947d967",
   "metadata": {},
   "outputs": [
    {
     "data": {
      "text/plain": [
       "Ellipsis"
      ]
     },
     "execution_count": 3,
     "metadata": {},
     "output_type": "execute_result"
    }
   ],
   "source": [
    "..."
   ]
  }
 ],
 "metadata": {
  "kernelspec": {
   "display_name": "Python 3 (ipykernel)",
   "language": "python",
   "name": "python3"
  },
  "language_info": {
   "codemirror_mode": {
    "name": "ipython",
    "version": 3
   },
   "file_extension": ".py",
   "mimetype": "text/x-python",
   "name": "python",
   "nbconvert_exporter": "python",
   "pygments_lexer": "ipython3",
   "version": "3.9.9"
  }
 },
 "nbformat": 4,
 "nbformat_minor": 5
}
