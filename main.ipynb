{
 "cells": [
  {
   "cell_type": "markdown",
   "id": "8819d4b6-a920-457d-a33b-e0e9ec11acd7",
   "metadata": {},
   "source": [
    "# Main Narrative Notebook -- Predicting Income Off of General Census Data, a STAT 159 Final Project"
   ]
  },
  {
   "cell_type": "markdown",
   "id": "5b0ca905-1ce6-4ffe-a9e8-7f9e92134b9e",
   "metadata": {},
   "source": [
    "## EDA Analysis"
   ]
  },
  {
   "cell_type": "code",
   "execution_count": 1,
   "id": "f3b3353c-d0da-4127-92d6-ba6484165cc8",
   "metadata": {},
   "outputs": [
    {
     "data": {
      "text/plain": [
       "Ellipsis"
      ]
     },
     "execution_count": 1,
     "metadata": {},
     "output_type": "execute_result"
    }
   ],
   "source": [
    "..."
   ]
  },
  {
   "cell_type": "markdown",
   "id": "4aed0963-5034-4061-bb57-097764871ef0",
   "metadata": {},
   "source": [
    "## Feature Engineering Analysis"
   ]
  },
  {
   "cell_type": "code",
   "execution_count": 2,
   "id": "2061bd98-971c-40fe-a9f8-7d769e4f6706",
   "metadata": {},
   "outputs": [
    {
     "data": {
      "text/plain": [
       "Ellipsis"
      ]
     },
     "execution_count": 2,
     "metadata": {},
     "output_type": "execute_result"
    }
   ],
   "source": [
    "..."
   ]
  },
  {
   "cell_type": "markdown",
   "id": "da65a2ea-c1cd-4122-b93a-cd62b5d1fece",
   "metadata": {},
   "source": [
    "## Modeling/Testing Analysis"
   ]
  },
  {
   "cell_type": "code",
   "execution_count": 3,
   "id": "07c93014-236c-43ee-8239-75bd43dcee7b",
   "metadata": {},
   "outputs": [
    {
     "data": {
      "text/plain": [
       "Ellipsis"
      ]
     },
     "execution_count": 3,
     "metadata": {},
     "output_type": "execute_result"
    }
   ],
   "source": [
    "..."
   ]
  },
  {
   "cell_type": "markdown",
   "id": "58ddfa04-98c5-4021-83a2-9044938bc242",
   "metadata": {},
   "source": [
    "## Final Model and Results\n",
    "\n",
    "In this section we find out if pooling our four different approaches can combine together to produce a signifcantly better model.\n",
    "\n",
    "Steps:\n",
    "\n",
    "   1. Each member's model and feature engineering methods are loaded into this notebook\n",
    "   2. Make a train test split on the data\n",
    "   3. Train each member's model on the training data.\n",
    "   4. Classify the testing dataset with each model. Show each model's performance.\n",
    "   5. Ensemble model:\n",
    "       - Generate prediction probabilities for model.\n",
    "       - Average them.\n",
    "       - Using a 0.5 threshold turn probability into classifications.\n",
    "   \n",
    "\n"
   ]
  },
  {
   "cell_type": "code",
   "execution_count": 22,
   "id": "0914a6b1-17b0-42ef-b405-362e65ab016a",
   "metadata": {},
   "outputs": [],
   "source": [
    "import joblib\n",
    "import pandas as pd\n",
    "from sklearn.model_selection import train_test_split"
   ]
  },
  {
   "cell_type": "markdown",
   "id": "46d1d51b-9a55-43a5-bb2a-462cfb8565ad",
   "metadata": {},
   "source": [
    "**George**"
   ]
  },
  {
   "cell_type": "code",
   "execution_count": 102,
   "id": "51d3cc82-4f4d-42e8-8590-5d247934620a",
   "metadata": {},
   "outputs": [],
   "source": [
    "data = pd.read_csv(\"data/adult.data\",\n",
    "                   names = ['age', 'workclass', 'fnlwgt', 'education','education-num',\n",
    "                            'marital-status','occupation','relationship','race','sex',\n",
    "                           'capital-gain','capital-loss','hours-per-week',\n",
    "                            'native-country','income'])\n",
    "\n",
    "X = data.drop([\"education\", \"income\"], axis = 1)\n",
    "y = data[\"income\"]"
   ]
  },
  {
   "cell_type": "markdown",
   "id": "e3d9daf3-3985-4af3-84b7-0bbde3857235",
   "metadata": {},
   "source": [
    "Load in feature engineering utils function and apply it to the data"
   ]
  },
  {
   "cell_type": "code",
   "execution_count": 103,
   "id": "c566abb8-2dbf-4d52-bf87-6d3051a1a3ee",
   "metadata": {},
   "outputs": [],
   "source": [
    "from projecttools.utils import feat_eng_split, model_eval"
   ]
  },
  {
   "cell_type": "code",
   "execution_count": 104,
   "id": "10afd220-20eb-40ce-9b48-bb740eef4b4d",
   "metadata": {},
   "outputs": [
    {
     "name": "stderr",
     "output_type": "stream",
     "text": [
      "/srv/conda/envs/notebook/lib/python3.9/site-packages/sklearn/utils/deprecation.py:87: FutureWarning: Function get_feature_names is deprecated; get_feature_names is deprecated in 1.0 and will be removed in 1.2. Please use get_feature_names_out instead.\n",
      "  warnings.warn(msg, category=FutureWarning)\n"
     ]
    }
   ],
   "source": [
    "X_train, X_test, y_train, y_test = feat_eng_split(X, y)"
   ]
  },
  {
   "cell_type": "markdown",
   "id": "9862fe4d-8761-44be-9690-599a60d0c7bb",
   "metadata": {},
   "source": [
    "Load in model and fit it on the training dataset"
   ]
  },
  {
   "cell_type": "code",
   "execution_count": 105,
   "id": "1d6aaadd-5849-46cf-9e17-0fa6ca8a1fb6",
   "metadata": {},
   "outputs": [
    {
     "data": {
      "text/plain": [
       "StackingClassifier(estimators=[('knn', KNeighborsClassifier(n_neighbors=17)),\n",
       "                               ('dt',\n",
       "                                DecisionTreeClassifier(max_depth=9,\n",
       "                                                       random_state=1))],\n",
       "                   final_estimator=LogisticRegression(random_state=1))"
      ]
     },
     "execution_count": 105,
     "metadata": {},
     "output_type": "execute_result"
    }
   ],
   "source": [
    "george_model = joblib.load(\"models/george_stack_model.joblib\")\n",
    "george_model.fit(X_train, y_train)"
   ]
  },
  {
   "cell_type": "markdown",
   "id": "2875755a-97f2-428d-923a-5d2914aad25d",
   "metadata": {},
   "source": [
    "Make predictions"
   ]
  },
  {
   "cell_type": "code",
   "execution_count": 106,
   "id": "18e9a4c4-9551-4de4-b1b8-4c6284509b2a",
   "metadata": {},
   "outputs": [],
   "source": [
    "george_train_preds = george_model.predict(X_train)\n",
    "george_test_preds = george_model.predict(X_test)"
   ]
  },
  {
   "cell_type": "code",
   "execution_count": 107,
   "id": "40b94261-a3ae-41fa-80d1-1c7f2d59885f",
   "metadata": {},
   "outputs": [
    {
     "data": {
      "text/html": [
       "<div>\n",
       "<style scoped>\n",
       "    .dataframe tbody tr th:only-of-type {\n",
       "        vertical-align: middle;\n",
       "    }\n",
       "\n",
       "    .dataframe tbody tr th {\n",
       "        vertical-align: top;\n",
       "    }\n",
       "\n",
       "    .dataframe thead th {\n",
       "        text-align: right;\n",
       "    }\n",
       "</style>\n",
       "<table border=\"1\" class=\"dataframe\">\n",
       "  <thead>\n",
       "    <tr style=\"text-align: right;\">\n",
       "      <th></th>\n",
       "      <th>Training</th>\n",
       "      <th>Testing</th>\n",
       "    </tr>\n",
       "  </thead>\n",
       "  <tbody>\n",
       "    <tr>\n",
       "      <th>Accuracy Score</th>\n",
       "      <td>0.876986</td>\n",
       "      <td>0.860459</td>\n",
       "    </tr>\n",
       "    <tr>\n",
       "      <th>Precision Score</th>\n",
       "      <td>0.804316</td>\n",
       "      <td>0.757500</td>\n",
       "    </tr>\n",
       "    <tr>\n",
       "      <th>Recall</th>\n",
       "      <td>0.646489</td>\n",
       "      <td>0.618367</td>\n",
       "    </tr>\n",
       "    <tr>\n",
       "      <th>F1 Score</th>\n",
       "      <td>0.716817</td>\n",
       "      <td>0.680899</td>\n",
       "    </tr>\n",
       "  </tbody>\n",
       "</table>\n",
       "</div>"
      ],
      "text/plain": [
       "                 Training   Testing\n",
       "Accuracy Score   0.876986  0.860459\n",
       "Precision Score  0.804316  0.757500\n",
       "Recall           0.646489  0.618367\n",
       "F1 Score         0.716817  0.680899"
      ]
     },
     "execution_count": 107,
     "metadata": {},
     "output_type": "execute_result"
    }
   ],
   "source": [
    "george_performance = model_eval(y_train, y_test, george_train_preds, george_test_preds)\n",
    "george_performance"
   ]
  },
  {
   "cell_type": "markdown",
   "id": "1610acb0-a403-4b77-8875-f039c57d565c",
   "metadata": {},
   "source": [
    "Generate probabilities"
   ]
  },
  {
   "cell_type": "code",
   "execution_count": 108,
   "id": "323b6f51-4190-46b8-9c8d-fd18c4d32437",
   "metadata": {},
   "outputs": [],
   "source": [
    "george_train_probs = george_model.predict_proba(X_train)[:, 1]\n",
    "george_test_probs = george_model.predict_proba(X_test)[:, 1]"
   ]
  },
  {
   "cell_type": "code",
   "execution_count": null,
   "id": "21f747ec-a01d-4a1a-926d-de401959e461",
   "metadata": {},
   "outputs": [],
   "source": []
  },
  {
   "cell_type": "markdown",
   "id": "dd47df1d-37d9-4077-8f85-f416f77251fe",
   "metadata": {},
   "source": [
    "**Kavin**"
   ]
  },
  {
   "cell_type": "code",
   "execution_count": 109,
   "id": "83482953-16cc-4e11-b8d9-686545d5ebbb",
   "metadata": {},
   "outputs": [],
   "source": [
    "from projecttools.utils import featureEngineeringKavinV1"
   ]
  },
  {
   "cell_type": "markdown",
   "id": "d962b41d-bdec-49bc-a873-b759b2d2a7ef",
   "metadata": {},
   "source": [
    "Transform features"
   ]
  },
  {
   "cell_type": "code",
   "execution_count": 110,
   "id": "abba1a75-2713-4f27-a4c1-ed43042ac93c",
   "metadata": {},
   "outputs": [
    {
     "data": {
      "text/html": [
       "<div>\n",
       "<style scoped>\n",
       "    .dataframe tbody tr th:only-of-type {\n",
       "        vertical-align: middle;\n",
       "    }\n",
       "\n",
       "    .dataframe tbody tr th {\n",
       "        vertical-align: top;\n",
       "    }\n",
       "\n",
       "    .dataframe thead th {\n",
       "        text-align: right;\n",
       "    }\n",
       "</style>\n",
       "<table border=\"1\" class=\"dataframe\">\n",
       "  <thead>\n",
       "    <tr style=\"text-align: right;\">\n",
       "      <th></th>\n",
       "      <th>?</th>\n",
       "      <th>Federal-gov</th>\n",
       "      <th>Local-gov</th>\n",
       "      <th>Never-worked</th>\n",
       "      <th>Private</th>\n",
       "      <th>Self-emp-inc</th>\n",
       "      <th>Self-emp-not-inc</th>\n",
       "      <th>State-gov</th>\n",
       "      <th>Without-pay</th>\n",
       "      <th>10th</th>\n",
       "      <th>...</th>\n",
       "      <th>United-States</th>\n",
       "      <th>Vietnam</th>\n",
       "      <th>Yugoslavia</th>\n",
       "      <th>age log transformed</th>\n",
       "      <th>years in education log transformed</th>\n",
       "      <th>hours-per-week log transformed</th>\n",
       "      <th>capital-gain log transformed</th>\n",
       "      <th>capital-loss log transformed</th>\n",
       "      <th>years educated / hours worked</th>\n",
       "      <th>capital gains * age</th>\n",
       "    </tr>\n",
       "  </thead>\n",
       "  <tbody>\n",
       "    <tr>\n",
       "      <th>0</th>\n",
       "      <td>0</td>\n",
       "      <td>0</td>\n",
       "      <td>0</td>\n",
       "      <td>0</td>\n",
       "      <td>0</td>\n",
       "      <td>0</td>\n",
       "      <td>0</td>\n",
       "      <td>1</td>\n",
       "      <td>0</td>\n",
       "      <td>0</td>\n",
       "      <td>...</td>\n",
       "      <td>1</td>\n",
       "      <td>0</td>\n",
       "      <td>0</td>\n",
       "      <td>3.688879</td>\n",
       "      <td>2.639057</td>\n",
       "      <td>3.713572</td>\n",
       "      <td>7.684784</td>\n",
       "      <td>0.0</td>\n",
       "      <td>0.710652</td>\n",
       "      <td>28.348242</td>\n",
       "    </tr>\n",
       "    <tr>\n",
       "      <th>1</th>\n",
       "      <td>0</td>\n",
       "      <td>0</td>\n",
       "      <td>0</td>\n",
       "      <td>0</td>\n",
       "      <td>0</td>\n",
       "      <td>0</td>\n",
       "      <td>1</td>\n",
       "      <td>0</td>\n",
       "      <td>0</td>\n",
       "      <td>0</td>\n",
       "      <td>...</td>\n",
       "      <td>1</td>\n",
       "      <td>0</td>\n",
       "      <td>0</td>\n",
       "      <td>3.931826</td>\n",
       "      <td>2.639057</td>\n",
       "      <td>2.639057</td>\n",
       "      <td>0.000000</td>\n",
       "      <td>0.0</td>\n",
       "      <td>1.000000</td>\n",
       "      <td>0.000000</td>\n",
       "    </tr>\n",
       "    <tr>\n",
       "      <th>2</th>\n",
       "      <td>0</td>\n",
       "      <td>0</td>\n",
       "      <td>0</td>\n",
       "      <td>0</td>\n",
       "      <td>1</td>\n",
       "      <td>0</td>\n",
       "      <td>0</td>\n",
       "      <td>0</td>\n",
       "      <td>0</td>\n",
       "      <td>0</td>\n",
       "      <td>...</td>\n",
       "      <td>1</td>\n",
       "      <td>0</td>\n",
       "      <td>0</td>\n",
       "      <td>3.663562</td>\n",
       "      <td>2.302585</td>\n",
       "      <td>3.713572</td>\n",
       "      <td>0.000000</td>\n",
       "      <td>0.0</td>\n",
       "      <td>0.620046</td>\n",
       "      <td>0.000000</td>\n",
       "    </tr>\n",
       "    <tr>\n",
       "      <th>3</th>\n",
       "      <td>0</td>\n",
       "      <td>0</td>\n",
       "      <td>0</td>\n",
       "      <td>0</td>\n",
       "      <td>1</td>\n",
       "      <td>0</td>\n",
       "      <td>0</td>\n",
       "      <td>0</td>\n",
       "      <td>0</td>\n",
       "      <td>0</td>\n",
       "      <td>...</td>\n",
       "      <td>1</td>\n",
       "      <td>0</td>\n",
       "      <td>0</td>\n",
       "      <td>3.988984</td>\n",
       "      <td>2.079442</td>\n",
       "      <td>3.713572</td>\n",
       "      <td>0.000000</td>\n",
       "      <td>0.0</td>\n",
       "      <td>0.559957</td>\n",
       "      <td>0.000000</td>\n",
       "    </tr>\n",
       "    <tr>\n",
       "      <th>4</th>\n",
       "      <td>0</td>\n",
       "      <td>0</td>\n",
       "      <td>0</td>\n",
       "      <td>0</td>\n",
       "      <td>1</td>\n",
       "      <td>0</td>\n",
       "      <td>0</td>\n",
       "      <td>0</td>\n",
       "      <td>0</td>\n",
       "      <td>0</td>\n",
       "      <td>...</td>\n",
       "      <td>0</td>\n",
       "      <td>0</td>\n",
       "      <td>0</td>\n",
       "      <td>3.367296</td>\n",
       "      <td>2.639057</td>\n",
       "      <td>3.713572</td>\n",
       "      <td>0.000000</td>\n",
       "      <td>0.0</td>\n",
       "      <td>0.710652</td>\n",
       "      <td>0.000000</td>\n",
       "    </tr>\n",
       "  </tbody>\n",
       "</table>\n",
       "<p>5 rows × 109 columns</p>\n",
       "</div>"
      ],
      "text/plain": [
       "    ?   Federal-gov   Local-gov   Never-worked   Private   Self-emp-inc  \\\n",
       "0   0             0           0              0         0              0   \n",
       "1   0             0           0              0         0              0   \n",
       "2   0             0           0              0         1              0   \n",
       "3   0             0           0              0         1              0   \n",
       "4   0             0           0              0         1              0   \n",
       "\n",
       "    Self-emp-not-inc   State-gov   Without-pay   10th  ...   United-States  \\\n",
       "0                  0           1             0      0  ...               1   \n",
       "1                  1           0             0      0  ...               1   \n",
       "2                  0           0             0      0  ...               1   \n",
       "3                  0           0             0      0  ...               1   \n",
       "4                  0           0             0      0  ...               0   \n",
       "\n",
       "    Vietnam   Yugoslavia  age log transformed  \\\n",
       "0         0            0             3.688879   \n",
       "1         0            0             3.931826   \n",
       "2         0            0             3.663562   \n",
       "3         0            0             3.988984   \n",
       "4         0            0             3.367296   \n",
       "\n",
       "   years in education log transformed  hours-per-week log transformed  \\\n",
       "0                            2.639057                        3.713572   \n",
       "1                            2.639057                        2.639057   \n",
       "2                            2.302585                        3.713572   \n",
       "3                            2.079442                        3.713572   \n",
       "4                            2.639057                        3.713572   \n",
       "\n",
       "   capital-gain log transformed  capital-loss log transformed  \\\n",
       "0                      7.684784                           0.0   \n",
       "1                      0.000000                           0.0   \n",
       "2                      0.000000                           0.0   \n",
       "3                      0.000000                           0.0   \n",
       "4                      0.000000                           0.0   \n",
       "\n",
       "   years educated / hours worked  capital gains * age  \n",
       "0                       0.710652            28.348242  \n",
       "1                       1.000000             0.000000  \n",
       "2                       0.620046             0.000000  \n",
       "3                       0.559957             0.000000  \n",
       "4                       0.710652             0.000000  \n",
       "\n",
       "[5 rows x 109 columns]"
      ]
     },
     "execution_count": 110,
     "metadata": {},
     "output_type": "execute_result"
    }
   ],
   "source": [
    "X = featureEngineeringKavinV1(data)\n",
    "y = X.iloc[:, -1].astype(int)\n",
    "X = X.iloc[:, :-1]\n",
    "X.head()"
   ]
  },
  {
   "cell_type": "code",
   "execution_count": 111,
   "id": "ca3299a3-0e31-48e0-8979-4a56f1f7f89b",
   "metadata": {},
   "outputs": [],
   "source": [
    "X_train, X_test, y_train, y_test = train_test_split(X, y, test_size = 0.25, random_state=1, stratify= y_le)"
   ]
  },
  {
   "cell_type": "code",
   "execution_count": 112,
   "id": "48b6730b-57b7-47a9-9126-ca24a81f555b",
   "metadata": {},
   "outputs": [
    {
     "name": "stderr",
     "output_type": "stream",
     "text": [
      "/srv/conda/envs/notebook/lib/python3.9/site-packages/sklearn/base.py:329: UserWarning: Trying to unpickle estimator DecisionTreeClassifier from version 0.24.1 when using version 1.0.2. This might lead to breaking code or invalid results. Use at your own risk. For more info please refer to:\n",
      "https://scikit-learn.org/stable/modules/model_persistence.html#security-maintainability-limitations\n",
      "  warnings.warn(\n",
      "/srv/conda/envs/notebook/lib/python3.9/site-packages/sklearn/base.py:329: UserWarning: Trying to unpickle estimator RandomForestClassifier from version 0.24.1 when using version 1.0.2. This might lead to breaking code or invalid results. Use at your own risk. For more info please refer to:\n",
      "https://scikit-learn.org/stable/modules/model_persistence.html#security-maintainability-limitations\n",
      "  warnings.warn(\n"
     ]
    }
   ],
   "source": [
    "kavin_model = joblib.load(\"models/kavin_model_v1.joblib\")\n"
   ]
  },
  {
   "cell_type": "code",
   "execution_count": 113,
   "id": "9869fa04-35c7-4ad7-8dd0-94ca1278ae0d",
   "metadata": {},
   "outputs": [],
   "source": [
    "from sklearn.ensemble import RandomForestClassifier\n",
    "kavin_model = RandomForestClassifier(n_estimators = 20, random_state = 1)"
   ]
  },
  {
   "cell_type": "code",
   "execution_count": 114,
   "id": "f19f27a7-286e-4df2-b2f6-40179681dfcb",
   "metadata": {},
   "outputs": [
    {
     "data": {
      "text/plain": [
       "RandomForestClassifier(n_estimators=20, random_state=1)"
      ]
     },
     "execution_count": 114,
     "metadata": {},
     "output_type": "execute_result"
    }
   ],
   "source": [
    "kavin_model.fit(X_train, y_train)"
   ]
  },
  {
   "cell_type": "markdown",
   "id": "4c54b6a9-d64f-4bc9-a2ed-9e99d301aac0",
   "metadata": {},
   "source": [
    "Predictions"
   ]
  },
  {
   "cell_type": "code",
   "execution_count": 115,
   "id": "16c5f681-0cfc-4866-a042-17bfeea0a947",
   "metadata": {},
   "outputs": [],
   "source": [
    "kavin_train_preds = kavin_model.predict(X_train)\n",
    "kavin_test_preds = kavin_model.predict(X_test)"
   ]
  },
  {
   "cell_type": "markdown",
   "id": "00b3c790-1d7d-4fe8-9021-42d43a0ca0a0",
   "metadata": {},
   "source": [
    "Performance"
   ]
  },
  {
   "cell_type": "code",
   "execution_count": 116,
   "id": "d541d3f7-1e3d-4009-b463-0d325b607bb4",
   "metadata": {},
   "outputs": [
    {
     "data": {
      "text/html": [
       "<div>\n",
       "<style scoped>\n",
       "    .dataframe tbody tr th:only-of-type {\n",
       "        vertical-align: middle;\n",
       "    }\n",
       "\n",
       "    .dataframe tbody tr th {\n",
       "        vertical-align: top;\n",
       "    }\n",
       "\n",
       "    .dataframe thead th {\n",
       "        text-align: right;\n",
       "    }\n",
       "</style>\n",
       "<table border=\"1\" class=\"dataframe\">\n",
       "  <thead>\n",
       "    <tr style=\"text-align: right;\">\n",
       "      <th></th>\n",
       "      <th>Training</th>\n",
       "      <th>Testing</th>\n",
       "    </tr>\n",
       "  </thead>\n",
       "  <tbody>\n",
       "    <tr>\n",
       "      <th>Accuracy Score</th>\n",
       "      <td>0.976126</td>\n",
       "      <td>0.840683</td>\n",
       "    </tr>\n",
       "    <tr>\n",
       "      <th>Precision Score</th>\n",
       "      <td>0.981291</td>\n",
       "      <td>0.883962</td>\n",
       "    </tr>\n",
       "    <tr>\n",
       "      <th>Recall</th>\n",
       "      <td>0.987378</td>\n",
       "      <td>0.909562</td>\n",
       "    </tr>\n",
       "    <tr>\n",
       "      <th>F1 Score</th>\n",
       "      <td>0.984325</td>\n",
       "      <td>0.896579</td>\n",
       "    </tr>\n",
       "  </tbody>\n",
       "</table>\n",
       "</div>"
      ],
      "text/plain": [
       "                 Training   Testing\n",
       "Accuracy Score   0.976126  0.840683\n",
       "Precision Score  0.981291  0.883962\n",
       "Recall           0.987378  0.909562\n",
       "F1 Score         0.984325  0.896579"
      ]
     },
     "execution_count": 116,
     "metadata": {},
     "output_type": "execute_result"
    }
   ],
   "source": [
    "kavin_performance = model_eval(y_train, y_test, kavin_train_preds, kavin_test_preds)\n",
    "kavin_performance"
   ]
  },
  {
   "cell_type": "markdown",
   "id": "5349f2b5-9746-44db-9aed-dcea973b1409",
   "metadata": {},
   "source": [
    "Generate probailities"
   ]
  },
  {
   "cell_type": "code",
   "execution_count": 117,
   "id": "9d7d94a8-e969-4eb1-af8e-c82d850663e9",
   "metadata": {},
   "outputs": [],
   "source": [
    "kavin_train_probs = kavin_model.predict_proba(X_train)[:, 1]\n",
    "kavin_test_probs = kavin_model.predict_proba(X_test)[:, 1]"
   ]
  },
  {
   "cell_type": "code",
   "execution_count": null,
   "id": "ec039db3-aeee-4c88-aa63-ec59a35d4d31",
   "metadata": {},
   "outputs": [],
   "source": []
  },
  {
   "cell_type": "markdown",
   "id": "bdfff8b3-4a8a-42fb-bd0f-a73abcd5cff6",
   "metadata": {},
   "source": [
    "**Naomi**"
   ]
  },
  {
   "cell_type": "code",
   "execution_count": null,
   "id": "37c7d68b-c67a-42cd-b0f9-5511e7dfa78f",
   "metadata": {},
   "outputs": [],
   "source": []
  },
  {
   "cell_type": "markdown",
   "id": "a929160f-d6ba-40a4-a435-320b84d4e03c",
   "metadata": {},
   "source": [
    "**Winston**"
   ]
  },
  {
   "cell_type": "code",
   "execution_count": null,
   "id": "f025af28-dd30-42d9-aae6-dc320c360160",
   "metadata": {},
   "outputs": [],
   "source": []
  },
  {
   "cell_type": "markdown",
   "id": "dd2e5c6f-73d5-4fbc-97a2-f839849f190e",
   "metadata": {},
   "source": [
    "**Ensemble**"
   ]
  },
  {
   "cell_type": "markdown",
   "id": "7d0a9d56-c9fc-44a5-a395-fc3f23889226",
   "metadata": {},
   "source": [
    "Collect the four sets of probabilites into one dataframe"
   ]
  },
  {
   "cell_type": "code",
   "execution_count": null,
   "id": "363a48ed-1165-450f-8da2-2a53356833f3",
   "metadata": {},
   "outputs": [],
   "source": []
  },
  {
   "cell_type": "code",
   "execution_count": 119,
   "id": "c049d09a-ed19-4cf4-9936-df09b2a06d87",
   "metadata": {},
   "outputs": [],
   "source": [
    "ensemble_train_probs = pd.DataFrame({\"george\":george_train_probs,\n",
    "                               \"kavin\": kavin_train_probs})\n",
    "\n",
    "ensemble_test_probs = pd.DataFrame({\"george\":george_test_probs,\n",
    "                               \"kavin\": kavin_test_probs})\n"
   ]
  },
  {
   "cell_type": "code",
   "execution_count": 121,
   "id": "f2edb39d-c8e2-4e53-b314-63d8c611695c",
   "metadata": {},
   "outputs": [],
   "source": [
    "ensemble_train_preds = ensemble_train_probs.mean(axis = 1).apply(lambda x: 1 if x>=0.5 else 0)\n",
    "ensemble_test_preds = ensemble_test_probs.mean(axis = 1).apply(lambda x: 1 if x>=0.5 else 0)"
   ]
  },
  {
   "cell_type": "markdown",
   "id": "00d423c7-e7fc-41f3-ad97-9dedf66fa515",
   "metadata": {},
   "source": [
    "Ensemble Model Performance"
   ]
  },
  {
   "cell_type": "code",
   "execution_count": 123,
   "id": "4d38905c-877d-46b8-8479-920d9218dcf5",
   "metadata": {},
   "outputs": [
    {
     "data": {
      "text/html": [
       "<div>\n",
       "<style scoped>\n",
       "    .dataframe tbody tr th:only-of-type {\n",
       "        vertical-align: middle;\n",
       "    }\n",
       "\n",
       "    .dataframe tbody tr th {\n",
       "        vertical-align: top;\n",
       "    }\n",
       "\n",
       "    .dataframe thead th {\n",
       "        text-align: right;\n",
       "    }\n",
       "</style>\n",
       "<table border=\"1\" class=\"dataframe\">\n",
       "  <thead>\n",
       "    <tr style=\"text-align: right;\">\n",
       "      <th></th>\n",
       "      <th>Training</th>\n",
       "      <th>Testing</th>\n",
       "    </tr>\n",
       "  </thead>\n",
       "  <tbody>\n",
       "    <tr>\n",
       "      <th>Accuracy Score</th>\n",
       "      <td>0.868100</td>\n",
       "      <td>0.663186</td>\n",
       "    </tr>\n",
       "    <tr>\n",
       "      <th>Precision Score</th>\n",
       "      <td>0.954163</td>\n",
       "      <td>0.835251</td>\n",
       "    </tr>\n",
       "    <tr>\n",
       "      <th>Recall</th>\n",
       "      <td>0.867954</td>\n",
       "      <td>0.693092</td>\n",
       "    </tr>\n",
       "    <tr>\n",
       "      <th>F1 Score</th>\n",
       "      <td>0.909019</td>\n",
       "      <td>0.757560</td>\n",
       "    </tr>\n",
       "  </tbody>\n",
       "</table>\n",
       "</div>"
      ],
      "text/plain": [
       "                 Training   Testing\n",
       "Accuracy Score   0.868100  0.663186\n",
       "Precision Score  0.954163  0.835251\n",
       "Recall           0.867954  0.693092\n",
       "F1 Score         0.909019  0.757560"
      ]
     },
     "execution_count": 123,
     "metadata": {},
     "output_type": "execute_result"
    }
   ],
   "source": [
    "ensemble_performance = model_eval(y_train, y_test, ensemble_train_preds, ensemble_test_preds)\n",
    "ensemble_performance"
   ]
  },
  {
   "cell_type": "code",
   "execution_count": null,
   "id": "08bc941a-5aea-4e78-b380-69d829817254",
   "metadata": {},
   "outputs": [],
   "source": []
  },
  {
   "cell_type": "code",
   "execution_count": null,
   "id": "5c5a3a28-1c05-419e-b71d-15d9bfd73f00",
   "metadata": {},
   "outputs": [],
   "source": []
  },
  {
   "cell_type": "code",
   "execution_count": null,
   "id": "9fa797f5-1677-4785-aa0e-ae67327272d1",
   "metadata": {},
   "outputs": [],
   "source": []
  },
  {
   "cell_type": "code",
   "execution_count": null,
   "id": "f895db1b-cdd6-4dd4-a29f-78a73bfac003",
   "metadata": {},
   "outputs": [],
   "source": []
  },
  {
   "cell_type": "markdown",
   "id": "7dc4364a-095b-4456-9331-a47c4bd1e61e",
   "metadata": {},
   "source": [
    "Model Performance"
   ]
  },
  {
   "cell_type": "code",
   "execution_count": null,
   "id": "807e7219-9e55-4f7b-9ee2-6d0574b0ab45",
   "metadata": {},
   "outputs": [],
   "source": []
  },
  {
   "cell_type": "code",
   "execution_count": null,
   "id": "3e941026-6ce1-4578-a686-906d6f70e158",
   "metadata": {},
   "outputs": [],
   "source": []
  },
  {
   "cell_type": "code",
   "execution_count": null,
   "id": "97d71127-30c0-4c41-8e63-fd93d83cc245",
   "metadata": {},
   "outputs": [],
   "source": []
  },
  {
   "cell_type": "code",
   "execution_count": 4,
   "id": "e903c4a3-2a4e-47fb-9650-8e6ba85f0ca8",
   "metadata": {},
   "outputs": [
    {
     "data": {
      "text/plain": [
       "Ellipsis"
      ]
     },
     "execution_count": 4,
     "metadata": {},
     "output_type": "execute_result"
    }
   ],
   "source": [
    "..."
   ]
  },
  {
   "cell_type": "markdown",
   "id": "aa140b43-0a50-4c19-befd-8f39e401ac20",
   "metadata": {},
   "source": [
    "## Author Contributions Statement"
   ]
  },
  {
   "cell_type": "markdown",
   "id": "5dfeb6bd-3b66-4bd8-8dec-479804033d20",
   "metadata": {},
   "source": [
    "Kavin:\n",
    "\n",
    "..."
   ]
  },
  {
   "cell_type": "markdown",
   "id": "c83b56fb-20c9-46e5-94a0-4f0efaf3a709",
   "metadata": {},
   "source": [
    "George McIntire:\n",
    "\n",
    "..."
   ]
  },
  {
   "cell_type": "markdown",
   "id": "6d8f0b5c-3847-4e28-9452-0b0526fd39a6",
   "metadata": {},
   "source": [
    "Wen-Ching (Naomi) Tu:\n",
    "\n",
    "..."
   ]
  },
  {
   "cell_type": "markdown",
   "id": "177e4153-cd76-4c24-8926-c9ec3e3f6ff7",
   "metadata": {},
   "source": [
    "Winston Cai:\n",
    "\n",
    "..."
   ]
  }
 ],
 "metadata": {
  "kernelspec": {
   "display_name": "Python 3 (ipykernel)",
   "language": "python",
   "name": "python3"
  },
  "language_info": {
   "codemirror_mode": {
    "name": "ipython",
    "version": 3
   },
   "file_extension": ".py",
   "mimetype": "text/x-python",
   "name": "python",
   "nbconvert_exporter": "python",
   "pygments_lexer": "ipython3",
   "version": "3.9.9"
  }
 },
 "nbformat": 4,
 "nbformat_minor": 5
}
